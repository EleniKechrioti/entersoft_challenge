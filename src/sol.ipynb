{
 "cells": [
  {
   "cell_type": "code",
   "execution_count": 1,
   "metadata": {},
   "outputs": [],
   "source": [
    "import configparser\n",
    "config = configparser.RawConfigParser()\n",
    "config.read(\"../api_key.ini\")\n",
    "\n",
    "import cohere\n",
    "API_KEY = config[config.sections()[0]]['api_key']\n",
    "co = cohere.Client(API_KEY)"
   ]
  },
  {
   "cell_type": "markdown",
   "metadata": {},
   "source": [
    "### Load Data"
   ]
  },
  {
   "cell_type": "code",
   "execution_count": 2,
   "metadata": {},
   "outputs": [],
   "source": [
    "import pandas as pd\n",
    "# Load data to pandas dataframes:\n",
    "sales_by_day = pd.read_csv('../data/raw/LastWeekSalesByDay.csv', delimiter=';')\n",
    "top_customers = pd.read_csv('../data/raw/LastWeekTopCustomers.csv', delimiter=';')\n",
    "top_products = pd.read_csv('../data/raw/LastWeekTopProducts.csv', delimiter=';')\n",
    "order_statistics = pd.read_csv('../data/raw/LastWeekOrderStatistics.csv', delimiter=';')\n",
    "cash_flow_report = pd.read_csv('../data/raw/CashFlowReport.csv', delimiter=';')\n",
    "understocked_products = pd.read_csv('../data/raw/UnderstockedProducts.csv', delimiter=';')"
   ]
  },
  {
   "cell_type": "markdown",
   "metadata": {},
   "source": [
    "### Products"
   ]
  },
  {
   "cell_type": "code",
   "execution_count": 3,
   "metadata": {},
   "outputs": [
    {
     "name": "stdout",
     "output_type": "stream",
     "text": [
      "{'Selmer Paris Reference 54 Alto': 409500, 'Keilwerth SX90R': 264000, 'Roland Fantom-8': 248500, 'Tama Starclassic Bubinga 5-Piece Shell Pack': 245000, 'Music Man John Petrucci Majesty': 240000, 'Nord Stage 3 Compact': 227500, 'Nord Stage 3 88': 225000, 'Bach 180S37 Stradivarius Series Bb Trumpet': 224000, 'Yanagisawa AWO10 Alto Sax': 216000, 'Roland RD-2000': 207500, 'Korg Kronos 88': 192000, 'Gibson Les Paul Standard': 177500, 'P. Mauriat PMXA-67R Alto Sax': 177000, 'Korg Grandstage 88': 176000, 'Sonor SQ1 3-Piece Shell Pack': 173600, 'Behringer X32 Digital Mixer': 158400, 'Dave Smith Instruments OB-6': 156000, 'Yamaha Montage 8': 156000, 'Music Man StingRay 5 HH': 154000, 'Allen & Heath QU-16C Digital Mixer': 151300, 'Ludwig Vistalite John Bonham Zep Set': 147200, 'Sequential Prophet-6': 142800, 'Martin D-28 Dreadnought Acoustic Guitar': 138000, 'Selmer SAS280 La Voix II': 132000, 'Cannonball Big Bell Stone Series': 130000, 'Bose L1 Pro16 Portable Line Array System': 127800, 'Teenage Engineering OP-1': 124800, 'DW Design Series 5-Piece Drum Kit': 118500, 'Gibson J-45 Standard Acoustic-Electric Guitar': 111600, 'Rickenbacker 4003': 110000, 'Roland System-8': 105000, 'Moog Sub 37': 105000, 'Gibson SG Standard Bass': 103500, 'Novation Peak': 102200, 'Fender American Ultra Precision Bass': 100800, 'Denon DJ Prime 4': 99000, 'Allen & Heath Xone:PX5': 98000, 'Dave Smith Instruments Prophet Rev2': 96000, 'Di Zhao DZ-400 Flute': 94800, 'Kremona Solea': 90000, 'Yamaha Stage Custom Birch 5-Piece Shell Pack': 87400, 'Fender American Professional Stratocaster': 85400, 'Nord Lead A1': 84600, 'Taylor 214ce Deluxe Grand Auditorium Acoustic-Electric Guitar': 84000, 'Anuenue aNN-900 Soprano Ukulele': 76000, \"Kanile'a K-1 Concert Ukulele\": 74400, 'King 2055 Silver Flair Series Bb Trumpet': 73500, 'Gemeinhardt 3OB Flute': 73000, 'Gemeinhardt Model 3 Flute': 72600, 'Pioneer DJ DJM-S9': 72000, 'Getzen 390 Series Student Bb Trumpet': 72000, 'AKG C414 XLII': 71500, 'Yamaha YDP-144 Arius': 71500, 'DW Design Series Frequent Flyer Kit': 70800, 'Yamaha MODX6': 67600, 'Gretsch Catalina Club Jazz 4-Piece Shell Pack': 67200, 'Kamaka HF-1 Standard Soprano Ukulele': 67200, 'Yamaha YAS-280 Alto Saxophone': 67200, 'Ibanez RG550': 66600, 'Pioneer DJ DDJ-1000 4-channel controller': 66000, 'Tama Imperialstar 6-Piece Drum Set with Cymbals': 65600, 'KoAloha KSM-00 Soprano Ukulele': 64900, 'Zildjian A Custom Cymbal Pack': 63900, 'Gretsch Catalina Maple 7-Piece Drum Kit': 63600, 'Jupiter JAS700 Alto Saxophone': 62000, 'Azumi AZ2SRBO Intermediate Flute': 60800, 'Yamaha YTR-2330 Standard Bb Trumpet': 60200, 'Sabian HHX Evolution Performance Set': 59400, 'Moog Grandmother': 59400, 'Roli Seaboard Rise 49': 58650, 'PDP by DW 7-Piece Concept Maple Shell Pack': 57000, 'Universal Audio Apollo Twin X': 55800, 'Novation SL MkIII 61': 54600, 'Trevor James 10X Flute': 54000, 'Casio Privia PX-770': 52500, 'Dave Smith Instruments Mopho x4': 52200, 'Behringer DeepMind 12': 51200, 'Roland JUNO-DS61': 50400, 'Ableton Live 11 Suite': 50250, 'Roland DJ-505 DJ Controller': 49700, 'Holton T602 Student Bb Trumpet': 48600, 'Sennheiser EW 500 G4 Handheld Wireless System': 48000, 'PRS SE Custom 24': 47600, 'Neumann TLM 103': 46800, 'Jupiter JTR700 Standard Series Student Bb Trumpet': 46400, 'Besson BE1000 Performance Series Bb Trumpet': 45600, 'Fender FV-1 Electric Violin': 44400, 'Arturia KeyLab 88 MKII': 44100, 'Yamaha YFL-222 Intermediate Flute': 44000, 'Pearl Export EXX 5-Piece Drum Set': 43400, 'Kremona V1 Artist Violin': 42400, 'Native Instruments Traktor Kontrol S3': 42250, 'Pearl Roadshow 5-Piece Drum Set': 42000, 'Conn 52BSP CONNstellation Series Bb Trumpet': 42000, 'Ovation Celebrity Elite Plus Acoustic-Electric Guitar': 42000, 'QSC K12.2 Active Loudspeaker': 41600, 'Traktor Kontrol Z2': 39600, 'Reloop Mixon 4 DJ Controller': 39200, 'Martin S1 Uke Soprano Ukulele': 38250, 'ESP LTD EC-1000': 37800, 'Epiphone Thunderbird Classic-IV PRO': 37800, 'Yamaha P-125': 37700, 'Warwick Rockbass Corvette Basic': 37600, 'Taylor Academy 12-N': 37050, 'JBL EON615 Portable PA Speaker': 37000, 'Schecter Hellraiser C-1': 36800, 'Avid Pro Tools': 36539, 'Roland FP-30': 36400, 'Korg B2': 36000, 'Pearl Quantz 505RE Flute': 35700, 'Rogers Dyna-Sonic Snare Drum': 34500, 'Yamaha HS8': 34410, 'Yamaha FG830 Solid Top Acoustic Guitar': 33600, 'Shure BLX288/PG58 Wireless System': 33550, 'Jupiter JFL710 Student Flute': 32400, 'Meinl Cymbals HCS-SCS1 Ultimate Cymbal Set': 32000, 'Casio Privia PX-160': 32000, 'Tama Imperialstar 5-Piece Drum Set with Meinl HCS Cymbals': 31500, 'Teenage Engineering OP-Z': 31200, 'Arturia KeyStep Pro': 30800, 'Steinberg Cubase Pro': 30160, 'Kawai ES110': 30100, 'Cordoba C5 Classical Guitar': 29400, 'DW 9000 Series Double Bass Pedal': 29400, 'Mapex Black Panther Blaster Snare Drum': 29260, 'Novation Bass Station II': 29240, 'Ludwig Breakbeats by Questlove 4-Piece Kit': 28800, 'Schecter Stiletto Studio-5': 28800, 'Jean Paul USA AS-400 Student Alto': 28500, 'Electro-Voice ELX200-10P Powered Speaker': 28400, 'Presonus Studio One 5 Professional': 28400, 'Yamaha V5SC Violin': 27900, 'Mapex Armory 6-Piece Studioease Shell Pack': 27900, 'Cremona SV-175 Premier Student Violin': 27300, 'Pono MCD Concert Ukulele': 27200, 'Strymon BigSky Reverberator': 26880, 'Arturia MiniBrute 2': 26500, 'Moog Mother-32': 26400, 'Epiphone Les Paul Studio': 26100, 'Yamaha MX49 Music Synthesizer': 26000, 'Arturia MicroBrute': 25550, 'Genelec 8010A': 25550, 'Ludwig Black Magic Snare Drum': 24400, 'Ibanez SR505E': 24000, 'Korg Minilogue': 24000, 'Yamaha TRBX304': 23800, 'Roland JD-Xi': 23500, 'Electro-Voice RE20': 23400, 'Chase Bliss Audio Mood': 23100, 'La Patrie Etude': 22800, 'Kaizer ASAX-1000LQ': 22800, 'Mapex Mars 600 Series Hardware Pack': 22750, 'Waldorf Blofeld': 22500, 'Zoom H6 Handy Recorder': 22400, 'Sennheiser MD421 II': 22000, 'Roland A-500PRO-R': 21900, 'Mackie Thump15A Powered Loudspeaker': 21700, 'Dixon Gregg Bissonette Signature Steel Snare': 21250, 'Adam Audio A7X': 21000, 'Focal Alpha 50': 21000, 'Alhambra 1C': 21000, 'Akai MPK249': 20800, 'Rode NT1-A': 20750, 'Larsen Magnacore Cello Strings': 20700, 'Bitwig Studio': 20349, 'Alvarez Artist Series AF30 Folk Acoustic Guitar': 19800, 'EarthQuaker Devices Avalanche Run': 19500, 'Line 6 DL4 Delay Modeler': 19250, 'Thomastik-Infeld Spirocore Double Bass Strings': 19000, 'Korg Monologue': 18000, 'Native Instruments Komplete Audio 6': 17750, 'Sonor AQ2 Safari 4-Piece Drum Set': 17500, 'Ibanez AW54OPN Artwood Dreadnought Acoustic Guitar': 17500, 'JBL LSR305': 17400, 'Alesis Recital Pro': 17150, 'Pearl Sensitone Premium Snare Drum': 17100, 'Seagull S6 Original Acoustic Guitar': 16650, 'Logic Pro X': 16600, 'Numark Mixtrack Pro FX': 16000, 'M-Audio Oxygen Pro 49': 15640, 'Gibraltar 6700-PK Hardware Pack': 15300, 'Fender CN-60S': 14950, 'Franz Hoffmann Amadeus Violin': 14800, 'Jargar Superior Cello String Set': 14250, 'Squier Affinity Jazz Bass': 14100, 'Yamaha Pacifica 112V': 13200, 'DJ TechTools Midi Fighter 64': 12980, 'Yamaha Reface CS': 12800, 'TASCAM DR-40X': 12600, 'Digitech Whammy': 12600, 'Propellerhead Reason': 12369, 'Ibanez GA5TCE Classical Guitar': 12300, 'Behringer MOTOR 61': 12300, 'FL Studio Producer Edition': 12139, 'Squier Affinity Telecaster': 11960, 'CME Xkey 37 LE Ultra-Portable': 11800, 'Alesis VI49': 11500, 'Washburn C5CE Classical Guitar': 11250, 'Nektar Impact LX49+': 10880, 'Behringer NEKKST K5': 10800, 'TASCAM US-4x4': 10800, 'Focusrite Scarlett 2i2': 10710, \"D'Addario Helicore Double Bass Strings\": 10600, 'Bunnel Pupil Violin': 10600, 'KRK Rokit 5 G4': 10500, 'Ibanez UEW15E Concert Ukulele': 10200, 'Gretsch G9120 Tenor Standard Ukulele': 10030, 'Fender CD-60S Dreadnought Acoustic Guitar': 10000, 'Native Instruments Komplete Kontrol M32': 9940, 'Epiphone DR-100 Acoustic Guitar': 9900, 'Yamaha C40II Classical Guitar': 9900, 'Yamaha MG10XU Mixer': 9800, 'Eastar EFL-1 Closed Hole Flutes': 9800, 'Giannini GN-15': 9600, 'MOTU M2': 9600, 'MXR M169 Carbon Copy Analog Delay': 9450, 'M-Audio BX5 D3': 9450, 'Steinberg UR22C': 9120, 'Novation Launchkey Mini MK3': 8580, 'Jean Paul USA Silver-Plated Flute FL-220': 8400, 'Cecilio CEVN-2BK Electric Violin': 8400, 'Pirastro Obligato Viola Strings': 8280, 'Yamaha GL1 Guitalele': 8200, 'Jean Paul USA TR-330 Standard Student Trumpet': 8200, 'Blue Yeti USB Microphone': 7930, 'Oscar Schmidt OU5 Concert Ukulele': 7920, 'Solista Cello Strings by Larsen': 7920, 'PreSonus AudioBox USB 96': 7900, 'Tama Iron Cobra 200 Pedal': 7830, 'Audio-Technica AT2020': 7650, 'Mendini by Cecilio Gold Trumpet': 7500, 'M-Audio Oxygen 49 MKIV': 7350, 'IK Multimedia iRig Keys 37 Pro': 7200, 'Cecilio CVN-300 Ebony Fitted Violin': 7150, 'Pirastro Evah Pirazzi Gold Violin String Set': 6960, 'Cordoba 15CM Concert Ukulele': 6840, 'Behringer UMC404HD': 6750, 'Arturia MiniLab MkII': 6710, 'PreSonus Eris E3.5': 6700, 'Akai MPK Mini MKIII': 6700, 'Dunlop Cry Baby Wah': 6600, 'Stentor Student II Violin': 6500, 'TC Electronic Hall of Fame Reverb': 6450, 'IK Multimedia iRig HD 2': 6200, 'Seydel 1847 Silver Harmonica': 6000, 'Korg microKEY2-37': 5670, 'Thomastik-Infeld Dominant Violin Strings': 5400, 'Shure SM58': 5100, 'M-Audio AIR 192|6': 5100, 'Hering Vintage Harp': 5040, 'Numark Party Mix': 4800, 'Amahi UK660 Pineapple Ukulele': 4760, 'Warchal Karneol Violin Strings': 4720, 'Suzuki Promaster Hammond': 4640, 'Fender Venice Soprano Ukulele': 4200, 'Mackie CR3': 4200, 'Kala KA-15S Mahogany Soprano Ukulele': 4130, 'Flight NUS310 Soprano Ukulele': 4080, 'Boss DS-1 Distortion': 3850, 'Bushman Delta Frost': 3800, \"D'Addario Prelude Violin String Set\": 3760, 'Pearl D50 Drum Throne': 3660, 'Lanikai LU-21 Soprano Ukulele': 3240, 'Evans EMAD2 Clear Bass Drum Head': 3050, 'Suzuki Manji M-20': 3050, 'Lee Oskar Major Diatonic Harmonica': 2880, 'Cockos REAPER': 2520, 'Hohner Special 20 Harmonica': 2520, 'Electro-Harmonix Big Muff Pi': 2480, 'Remo Ambassador Coated Drum Head': 2480, 'Luna Tattoo Concert Mahogany Ukulele': 2000, 'Kalani Kal 200 Soprano Ukulele': 1800, 'EastTop T008K': 1710, 'Latin Percussion LP1207 Jam Block': 1680, 'Samson Carbon 49 USB MIDI Controller': 1680, 'Mahalo Rainbow Series Soprano Ukulele': 1280, 'Waltons Irish Black Harmonica': 1100, 'Aquila New Nylgut Soprano Ukulele Strings': 580, 'Zildjian Drumsticks': 500, 'Fender Blues Deluxe Harmonica': 492, 'Vic Firth American Classic 5A Drumsticks': 490}\n"
     ]
    }
   ],
   "source": [
    "import csv\n",
    "\n",
    "# Initialize an empty dictionary to store the data\n",
    "product_revenue = {}\n",
    "\n",
    "# Read the CSV file and populate the dictionary\n",
    "with open('../data/raw/LastWeekTopProducts.csv', newline='') as csvfile:\n",
    "    reader = csv.DictReader(csvfile, delimiter=';')\n",
    "    for row in reader:\n",
    "        product_description = row['Product Description']\n",
    "        revenue = int(row['Revenue'])\n",
    "        product_revenue[product_description] = revenue\n",
    "\n",
    "# Print the dictionary to verify\n",
    "print(product_revenue)\n"
   ]
  },
  {
   "cell_type": "markdown",
   "metadata": {},
   "source": [
    "Customers"
   ]
  },
  {
   "cell_type": "code",
   "execution_count": 4,
   "metadata": {},
   "outputs": [
    {
     "name": "stdout",
     "output_type": "stream",
     "text": [
      "{'Web Site': 284790, 'Crescendo Corner Ltd.': 277990, 'Symphony Supplies Inc.': 272393, 'Tempo Treasures Ltd.': 252129, 'Symphony Shop Ltd.': 245906, 'Serenade Showroom Ltd.': 231169, 'Crescendo Crafts Inc.': 212580, 'Virtuoso Ventures Inc.': 203830, 'Crescendo Collection Inc.': 194755, 'MeloTune Traders Ltd.': 193031, 'Melody Merchants Ltd.': 192870, 'Harmony Haven Inc.': 189110, 'Virtuoso Varieties Ltd.': 176230, 'Symphony Select Ltd.': 174708, 'Acoustic Avenues Ltd.': 166390, 'Crescendo Cornerstone Inc.': 164590, 'Serenade Selection Inc.': 162580, 'Rhythmic Realm Inc.': 162525, 'Melody Magic Inc.': 162230, 'Virtuoso Ventures Ltd.': 159150, 'Allegro Arcade Inc.': 158486, 'Echo Emporium Ltd.': 156874, 'Symphony Stockpile Ltd.': 155492, 'MelodyWorks LLC': 155410, 'Rhythmic Harmony Inc.': 154730, 'Virtuoso Village Ltd.': 154512, 'Crescendo Instruments Ltd.': 153120, 'Tempo Trinkets Ltd.': 149590, 'Serenade Selection Ltd.': 148450, 'Melody Market Ltd.': 147060, 'Allegro Avenue Ltd.': 144070, 'Melody Mart Ltd.': 143910, 'Harmony Hideout Ltd.': 143095, 'Crescendo Cornerstone Ltd.': 142140, 'Crescendo Collectibles Inc.': 142060, 'Symphony Soundscapes Co.': 141950, 'MeloSound Mall Inc.': 141910, 'Harmonic Hues Ltd.': 140130, 'Harmony Heaven Inc.': 138074, 'Crescendo Cache Inc.': 136850, 'Virtuoso Vault Ltd.': 136370, 'Crescendo Creations LLC': 133845, 'TempoTune Music Co.': 133710, 'Harmonix Instruments LLC': 133160, 'Harmony Haven Ltd.': 133100, 'Rhythmic Reflections Ltd.': 132250, 'Crescendo Creations Inc.': 132010, 'Melody Magic Ltd.': 131900, 'Serenade Store Ltd.': 131840, 'MeloSound Showcase Ltd.': 131390, 'Harmony Hub Inc.': 127963, 'Echo Elegance Ltd.': 127430, 'Acoustic Avenues Inc.': 127430, 'Virtuoso Vault Inc.': 126833, 'Symphony Stock Inc.': 125400, 'Rhythmic Resonance Ltd.': 125255, 'Serenade Showcase Ltd.': 124530, 'Allegro Attune Inc.': 124470, 'Virtuoso Varieties Inc.': 122150, 'Acoustic Artistry Ltd.': 120340, 'Serenade Splendor Inc.': 119284, 'MeloTune Traders Inc.': 117770, 'Tempo Trove Inc.': 116677, 'Acoustic Aura LLC': 116550, 'Harmony Hideaway Inc.': 116530, 'Crescendo Collections Ltd.': 114436, 'Symphony Stock Ltd.': 113780, 'Crescendo Corner Inc.': 112990, 'Rhythmic Retail Inc.': 112600, 'Rhythmic Reverie Ltd.': 112360, 'Serenade Splendor Ltd.': 111100, 'Virtuoso Vibes Ltd.': 110750, 'Melodic Muse Inc.': 110590, 'Echo Ensembles Ltd.': 107441, 'Allegro Artisan Inc.': 105710, 'Tempo Trinkets Inc.': 96880, 'Acoustic Artifacts Inc.': 95680, 'Crescendo Crafts Ltd.': 95555, 'Serenade Strings Ltd.': 94240, 'Allegro Artisan Ltd.': 92625, 'Melody Market Inc.': 90406, 'Rhythmic Realm Ltd.': 89270, 'Melodious Market Inc.': 88910, 'Serenade Solutions Inc.': 87644, 'Rhythmic Reverie Inc.': 85795, 'Rhythmic Reflections Inc.': 83000, 'Tempo Trove Ltd.': 79880, 'Serenade Solutions Ltd.': 78350, 'Echo Ensembles Inc.': 77140, 'MeloSound Showcase Inc.': 76650, 'MeloSound Instruments LLC': 75380, 'Allegro Avenue Inc.': 75350}\n"
     ]
    }
   ],
   "source": [
    "import csv\n",
    "\n",
    "# Initialize an empty dictionary to store the data\n",
    "customer_revenue = {}\n",
    "\n",
    "# Read the CSV file and populate the dictionary\n",
    "with open('../data/raw/LastWeekTopCustomers.csv', newline='') as csvfile:\n",
    "    reader = csv.DictReader(csvfile, delimiter=';')\n",
    "    for row in reader:\n",
    "        customer_name = row['Customer Name']\n",
    "        revenue = int(row['Revenue'])\n",
    "        customer_revenue[customer_name] = revenue\n",
    "\n",
    "# Print the dictionary to verify\n",
    "print(customer_revenue)\n"
   ]
  },
  {
   "cell_type": "markdown",
   "metadata": {},
   "source": [
    "### Sales By Day"
   ]
  },
  {
   "cell_type": "code",
   "execution_count": 5,
   "metadata": {},
   "outputs": [
    {
     "name": "stdout",
     "output_type": "stream",
     "text": [
      "{'Acoustic Drums': {'15/04/2024': 195870, '16/04/2024': 149440, '17/04/2024': 123730, '18/04/2024': 213170, '19/04/2024': 115150, '20/04/2024': 222600}, 'Acoustic Guitars': {'15/04/2024': 90500, '16/04/2024': 130000, '17/04/2024': 77650, '18/04/2024': 65300, '19/04/2024': 73850, '20/04/2024': 45750}, 'Audio Interfaces': {'15/04/2024': 18100, '16/04/2024': 31470, '17/04/2024': 22300, '18/04/2024': 16260, '19/04/2024': 24900, '20/04/2024': 26700}, 'Bass Guitars': {'15/04/2024': 100150, '16/04/2024': 107050, '17/04/2024': 101250, '18/04/2024': 137100, '19/04/2024': 118900, '20/04/2024': 69950}, 'Classical Guitars': {'15/04/2024': 48280, '16/04/2024': 46540, '17/04/2024': 50250, '18/04/2024': 26830, '19/04/2024': 30230, '20/04/2024': 56120}, 'Digital Pianos': {'15/04/2024': 151500, '16/04/2024': 114350, '17/04/2024': 174950, '18/04/2024': 116050, '19/04/2024': 145600, '20/04/2024': 169400}, 'DJ Equipment': {'15/04/2024': 72450, '16/04/2024': 108500, '17/04/2024': 129250, '18/04/2024': 63850, '19/04/2024': 67450, '20/04/2024': 85050}, 'Drum Kits': {'15/04/2024': 91100, '16/04/2024': 62500, '17/04/2024': 89100, '18/04/2024': 106300, '19/04/2024': 94600, '20/04/2024': 96000}, 'Electric Guitars': {'15/04/2024': 144010, '16/04/2024': 114960, '17/04/2024': 108960, '18/04/2024': 111450, '19/04/2024': 156630, '20/04/2024': 106950}, 'Flutes': {'15/04/2024': 60000, '16/04/2024': 68900, '17/04/2024': 93300, '18/04/2024': 69900, '19/04/2024': 113100, '20/04/2024': 80300}, 'Guitar Pedals': {'15/04/2024': 25860, '16/04/2024': 21650, '17/04/2024': 16700, '18/04/2024': 24510, '19/04/2024': 15280, '20/04/2024': 26160}, 'Harmonicas': {'15/04/2024': 5680, '16/04/2024': 5939, '17/04/2024': 5101, '18/04/2024': 4449, '19/04/2024': 4550, '20/04/2024': 5513}, 'Keyboards': {'15/04/2024': 147200, '16/04/2024': 273150, '17/04/2024': 221050, '18/04/2024': 258900, '19/04/2024': 89050, '20/04/2024': 176600}, 'Live Sound Equipment': {'15/04/2024': 79300, '16/04/2024': 106750, '17/04/2024': 138700, '18/04/2024': 87250, '19/04/2024': 134700, '20/04/2024': 110850}, 'Microphones': {'15/04/2024': 29190, '16/04/2024': 54630, '17/04/2024': 55280, '18/04/2024': 36420, '19/04/2024': 18820, '20/04/2024': 45790}, 'MIDI Controllers': {'15/04/2024': 76940, '16/04/2024': 71570, '17/04/2024': 58610, '18/04/2024': 70040, '19/04/2024': 61960, '20/04/2024': 57810}, 'Music Production Software': {'15/04/2024': 31714, '16/04/2024': 22111, '17/04/2024': 39863, '18/04/2024': 48235, '19/04/2024': 36297, '20/04/2024': 31106}, 'Orchestral Strings': {'15/04/2024': 25990, '16/04/2024': 13580, '17/04/2024': 13500, '18/04/2024': 19960, '19/04/2024': 11480, '20/04/2024': 14600}, 'Percussion Accessories': {'15/04/2024': 18430, '16/04/2024': 21740, '17/04/2024': 15080, '18/04/2024': 25100, '19/04/2024': 7340, '20/04/2024': 8700}, 'Pianos': {'15/04/2024': 0, '16/04/2024': 0, '17/04/2024': 0, '18/04/2024': 0, '19/04/2024': 0, '20/04/2024': 0}, 'Saxophones': {'15/04/2024': 303700, '16/04/2024': 219300, '17/04/2024': 318300, '18/04/2024': 205800, '19/04/2024': 277900, '20/04/2024': 184000}, 'Studio Monitors': {'15/04/2024': 21840, '16/04/2024': 25410, '17/04/2024': 31650, '18/04/2024': 27000, '19/04/2024': 35350, '20/04/2024': 19760}, 'Synthesizers': {'15/04/2024': 193560, '16/04/2024': 202310, '17/04/2024': 221610, '18/04/2024': 161230, '19/04/2024': 115990, '20/04/2024': 239090}, 'Trumpets': {'15/04/2024': 128100, '16/04/2024': 102850, '17/04/2024': 100850, '18/04/2024': 109600, '19/04/2024': 77350, '20/04/2024': 109250}, 'Ukuleles': {'15/04/2024': 53000, '16/04/2024': 56490, '17/04/2024': 57805, '18/04/2024': 89550, '19/04/2024': 93335, '20/04/2024': 67030}, 'Violins': {'15/04/2024': 22280, '16/04/2024': 32440, '17/04/2024': 25650, '18/04/2024': 38870, '19/04/2024': 44540, '20/04/2024': 28150}}\n"
     ]
    }
   ],
   "source": [
    "import csv\n",
    "\n",
    "# Initialize an empty dictionary to store the data\n",
    "revenue_data = {}\n",
    "\n",
    "# Read the CSV file and populate the dictionary\n",
    "with open('../data/raw/LastWeekSalesByDay.csv', newline='') as csvfile:\n",
    "    reader = csv.DictReader(csvfile, delimiter=';')\n",
    "    for row in reader:\n",
    "        date = row['Date']\n",
    "        product_category = row['Product category']\n",
    "        revenue = int(row['Revenue'])\n",
    "        \n",
    "        # If the product category already exists in the dictionary, update its revenue\n",
    "        if product_category in revenue_data:\n",
    "            revenue_data[product_category][date] = revenue\n",
    "        # If the product category is new, add it to the dictionary with its revenue for the current date\n",
    "        else:\n",
    "            revenue_data[product_category] = {date: revenue}\n",
    "\n",
    "# Print the dictionary to verify\n",
    "print(revenue_data)\n"
   ]
  },
  {
   "cell_type": "markdown",
   "metadata": {},
   "source": [
    "### Order Statistics"
   ]
  },
  {
   "cell_type": "code",
   "execution_count": 6,
   "metadata": {},
   "outputs": [
    {
     "name": "stdout",
     "output_type": "stream",
     "text": [
      "{'Online Retailers': {'Orders Count': 520, 'Order Lines': 3683, 'Quantity in pieces': 5160, 'Quantity in boxes': 746, 'Amount': 3642673, 'Percentage of fulfillment': 98}, 'Retail Stores': {'Orders Count': 1170, 'Order Lines': 4150, 'Quantity in pieces': 4632, 'Quantity in boxes': 667, 'Amount': 3513708, 'Percentage of fulfillment': 97}, 'Web Site': {'Orders Count': 270, 'Order Lines': 350, 'Quantity in pieces': 396, 'Quantity in boxes': 56, 'Amount': 284790, 'Percentage of fulfillment': 99}, 'Wholesalers': {'Orders Count': 355, 'Order Lines': 5100, 'Quantity in pieces': 6783, 'Quantity in boxes': 956, 'Amount': 5328397, 'Percentage of fulfillment': 96}}\n"
     ]
    }
   ],
   "source": [
    "import csv\n",
    "\n",
    "# Initialize an empty dictionary to store the data\n",
    "channel_orders = {}\n",
    "\n",
    "# Read the CSV file and populate the dictionary\n",
    "with open('../data/raw/LastWeekOrderStatistics.csv', newline='') as csvfile:\n",
    "    reader = csv.DictReader(csvfile, delimiter=';')\n",
    "    for row in reader:\n",
    "        channel = row['Channel']\n",
    "        orders_count = int(row['Orders Count'])\n",
    "        order_lines = int(row['Order Lines'])\n",
    "        quantity_pieces = int(row['Quantity in pieces'])\n",
    "        quantity_boxes = int(row['Quantity in boxes'])\n",
    "        amount = int(row['Amount'])\n",
    "        fulfillment_percentage = int(row['Percentage of fulfillment'])\n",
    "        \n",
    "        # Store the data in the dictionary\n",
    "        channel_orders[channel] = {\n",
    "            'Orders Count': orders_count,\n",
    "            'Order Lines': order_lines,\n",
    "            'Quantity in pieces': quantity_pieces,\n",
    "            'Quantity in boxes': quantity_boxes,\n",
    "            'Amount': amount,\n",
    "            'Percentage of fulfillment': fulfillment_percentage\n",
    "        }\n",
    "\n",
    "# Print the dictionary to verify\n",
    "print(channel_orders)\n"
   ]
  },
  {
   "cell_type": "markdown",
   "metadata": {},
   "source": [
    "### Cashflow report"
   ]
  },
  {
   "cell_type": "code",
   "execution_count": 7,
   "metadata": {},
   "outputs": [
    {
     "name": "stdout",
     "output_type": "stream",
     "text": [
      "{'Debit': 300000, 'Credit': 450000, 'Balance': 150000, 'Inflows Forecast': 15000000, 'Outflows Forecast': 9000000, 'Projected Balance': 23850000}\n"
     ]
    }
   ],
   "source": [
    "import csv\n",
    "\n",
    "# Initialize an empty dictionary to store the data\n",
    "financial_data = {}\n",
    "\n",
    "# Read the CSV file and populate the dictionary\n",
    "with open('../data/raw/CashFlowReport.csv', newline='') as csvfile:\n",
    "    reader = csv.DictReader(csvfile, delimiter=';')\n",
    "    for row in reader:\n",
    "        debit = int(row['Debit'])\n",
    "        credit = int(row['Credit'])\n",
    "        balance = int(row['Balance'])\n",
    "        inflows_forecast = int(row['Inflows Forecast'])\n",
    "        outflows_forecast = int(row['Outflows Forecast'])\n",
    "        projected_balance = int(row['Projected Balance'])\n",
    "        \n",
    "        # Store the data in the dictionary\n",
    "        financial_data['Debit'] = debit\n",
    "        financial_data['Credit'] = credit\n",
    "        financial_data['Balance'] = balance\n",
    "        financial_data['Inflows Forecast'] = inflows_forecast\n",
    "        financial_data['Outflows Forecast'] = outflows_forecast\n",
    "        financial_data['Projected Balance'] = projected_balance\n",
    "\n",
    "# Print the dictionary to verify\n",
    "print(financial_data)"
   ]
  },
  {
   "cell_type": "markdown",
   "metadata": {},
   "source": [
    "### Understocked Products"
   ]
  },
  {
   "cell_type": "code",
   "execution_count": 8,
   "metadata": {},
   "outputs": [
    {
     "name": "stdout",
     "output_type": "stream",
     "text": [
      "{'Apple GarageBand': {'Minimum stock': 8, 'Current stock': 3, 'Expected Qty': 15, 'Required stock': 1}, 'Aquila New Nylgut Soprano Ukulele Strings': {'Minimum stock': 5, 'Current stock': 1, 'Expected Qty': 13, 'Required stock': 0}, 'Bosendorfer Imperial Grand Piano': {'Minimum stock': 9, 'Current stock': 0, 'Expected Qty': 10, 'Required stock': 0}, 'Casio CDP-S150 Compact Digital Piano': {'Minimum stock': 7, 'Current stock': 2, 'Expected Qty': 18, 'Required stock': 0}, 'EastTop T008K': {'Minimum stock': 6, 'Current stock': 2, 'Expected Qty': 1, 'Required stock': 1}, 'Fazioli F212 Grand Piano': {'Minimum stock': 9, 'Current stock': 0, 'Expected Qty': 15, 'Required stock': 1}, 'Fender Blues Deluxe Harmonica': {'Minimum stock': 8, 'Current stock': 3, 'Expected Qty': 7, 'Required stock': 0}, 'Kalani Kal 200 Soprano Ukulele': {'Minimum stock': 7, 'Current stock': 1, 'Expected Qty': 0, 'Required stock': 1}, 'Kawai K-300': {'Minimum stock': 7, 'Current stock': 3, 'Expected Qty': 8, 'Required stock': 1}, 'Kurzweil Forte SE': {'Minimum stock': 6, 'Current stock': 1, 'Expected Qty': 14, 'Required stock': 0}, 'Latin Percussion LP1207 Jam Block': {'Minimum stock': 7, 'Current stock': 2, 'Expected Qty': 1, 'Required stock': 1}, 'Mahalo Rainbow Series Soprano Ukulele': {'Minimum stock': 8, 'Current stock': 2, 'Expected Qty': 17, 'Required stock': 1}, 'Mason & Hamlin Model A': {'Minimum stock': 8, 'Current stock': 3, 'Expected Qty': 5, 'Required stock': 1}, 'Roland FP-30X Digital Piano': {'Minimum stock': 5, 'Current stock': 0, 'Expected Qty': 1, 'Required stock': 1}, 'Samick SU-118 Upright Piano': {'Minimum stock': 7, 'Current stock': 1, 'Expected Qty': 19, 'Required stock': 0}, 'Samson Carbon 49 USB MIDI Controller': {'Minimum stock': 8, 'Current stock': 0, 'Expected Qty': 19, 'Required stock': 0}, 'Steinway & Sons Model B': {'Minimum stock': 9, 'Current stock': 2, 'Expected Qty': 15, 'Required stock': 1}, 'Vic Firth American Classic 5A Drumsticks': {'Minimum stock': 8, 'Current stock': 0, 'Expected Qty': 15, 'Required stock': 0}, 'Waltons Irish Black Harmonica': {'Minimum stock': 5, 'Current stock': 1, 'Expected Qty': 3, 'Required stock': 1}, 'Yamaha U1 Acoustic Upright Piano': {'Minimum stock': 7, 'Current stock': 3, 'Expected Qty': 14, 'Required stock': 1}, 'Zildjian Drumsticks': {'Minimum stock': 5, 'Current stock': 0, 'Expected Qty': 17, 'Required stock': 1}}\n"
     ]
    }
   ],
   "source": [
    "import csv\n",
    "\n",
    "# Initialize an empty dictionary to store the data\n",
    "understocked_product_data = {}\n",
    "\n",
    "# Read the CSV file and populate the dictionary\n",
    "with open('../data/raw/UnderstockedProducts.csv', newline='') as csvfile:\n",
    "    reader = csv.DictReader(csvfile, delimiter=';')\n",
    "    for row in reader:\n",
    "        product_description = row['Product Description']\n",
    "        minimum_stock = int(row['Minimum stock'])\n",
    "        current_stock = int(row['Current stock'])\n",
    "        expected_qty = int(row['Expected Qty'])\n",
    "        required_stock = int(row['Required stock'])\n",
    "        \n",
    "        # Store the data in the dictionary\n",
    "        understocked_product_data[product_description] = {\n",
    "            'Minimum stock': minimum_stock,\n",
    "            'Current stock': current_stock,\n",
    "            'Expected Qty': expected_qty,\n",
    "            'Required stock': required_stock\n",
    "        }\n",
    "\n",
    "# Print the dictionary to verify\n",
    "print(understocked_product_data)\n"
   ]
  },
  {
   "cell_type": "markdown",
   "metadata": {},
   "source": [
    "### Functions"
   ]
  },
  {
   "cell_type": "markdown",
   "metadata": {},
   "source": [
    "#### Functions on Products"
   ]
  },
  {
   "cell_type": "code",
   "execution_count": 9,
   "metadata": {},
   "outputs": [],
   "source": [
    "def calculate_total_product_revenue():\n",
    "    total_revenue = sum(product_revenue.values())\n",
    "    return {\n",
    "        'revenue': total_revenue,\n",
    "        'summary': f\"The total revenue from the top products is {total_revenue} euros.\"\n",
    "    }   "
   ]
  },
  {
   "cell_type": "code",
   "execution_count": 10,
   "metadata": {},
   "outputs": [],
   "source": [
    "def get_total_revenue_for_category(category):\n",
    "    category_revenue = format(sum(revenue_data[category].values()), '.2f')\n",
    "    return {'revenue_for_category': category_revenue, \n",
    "            'summary': f\"The total revenue for the category {category} is {category_revenue}.\"\n",
    "    }\n",
    "\n",
    "# print(get_total_revenue_for_category('Acoustic Drums'))"
   ]
  },
  {
   "cell_type": "code",
   "execution_count": 11,
   "metadata": {},
   "outputs": [],
   "source": [
    "def calculate_average_product_revenue():\n",
    "    total_revenue = sum(product_revenue.values())\n",
    "    num_products = len(product_revenue)\n",
    "    average_revenue = total_revenue / num_products\n",
    "    return {\n",
    "        'average_revenue': round(average_revenue, 2),\n",
    "        'summary': f\"The average revenue per product is {average_revenue} euros.\"\n",
    "    }"
   ]
  },
  {
   "cell_type": "code",
   "execution_count": 12,
   "metadata": {},
   "outputs": [],
   "source": [
    "def retrieve_top_k_products(k):\n",
    "    # Sort product_revenue dictionary by values (revenue) in descending order\n",
    "    sorted_products = sorted(product_revenue.items(), key=lambda x: x[1], reverse=True)\n",
    "    \n",
    "    # Extract the top k products\n",
    "    top_k_products = [product for product, revenue in sorted_products[:k]]\n",
    "    \n",
    "    return {\n",
    "        'top_products': top_k_products,\n",
    "        'summary': f\"The top {k} products based on revenue are: {', '.join(top_k_products)}.\"\n",
    "    }\n"
   ]
  },
  {
   "cell_type": "code",
   "execution_count": 13,
   "metadata": {},
   "outputs": [],
   "source": [
    "def retrieve_least_k_products(k):\n",
    "    # Sort product_revenue dictionary by values (revenue) in ascending order\n",
    "    sorted_products = sorted(product_revenue.items(), key=lambda x: x[1])\n",
    "    \n",
    "    # Extract the least k products\n",
    "    least_k_products = [product for product, revenue in sorted_products[:k]]\n",
    "    \n",
    "    return {\n",
    "        'least_products': least_k_products,\n",
    "        'summary': f\"The least {k} products based on revenue are: {', '.join(least_k_products)}.\"\n",
    "    }"
   ]
  },
  {
   "cell_type": "markdown",
   "metadata": {},
   "source": [
    "#### Functions on Customer"
   ]
  },
  {
   "cell_type": "code",
   "execution_count": 14,
   "metadata": {},
   "outputs": [],
   "source": [
    "def calculate_total_customer_revenue():\n",
    "    total_revenue = sum(customer_revenue.values())\n",
    "    return {\n",
    "        'revenue': total_revenue,\n",
    "        'summary': f\"The total revenue from the top customers is {total_revenue} euros.\"\n",
    "    }  "
   ]
  },
  {
   "cell_type": "code",
   "execution_count": 15,
   "metadata": {},
   "outputs": [
    {
     "name": "stdout",
     "output_type": "stream",
     "text": [
      "{'revenue': 143095, 'summary': 'The revenue from customer Harmony Hideout Ltd. is 143095 euros.'}\n"
     ]
    }
   ],
   "source": [
    "def get_total_revenue_for_customer(customer_name):\n",
    "    revenue = customer_revenue.get(customer_name, 0)\n",
    "    return {\n",
    "        'revenue': revenue,\n",
    "        'summary': f\"The revenue from customer {customer_name} is {revenue} euros.\"\n",
    "    }\n",
    "\n",
    "print(get_total_revenue_for_customer('Harmony Hideout Ltd.'))"
   ]
  },
  {
   "cell_type": "code",
   "execution_count": 16,
   "metadata": {},
   "outputs": [],
   "source": [
    "def calculate_average_customer_revenue():\n",
    "    total_revenue = sum(customer_revenue.values())\n",
    "    num_customers = len(customer_revenue)\n",
    "    average_revenue = total_revenue / num_customers\n",
    "    return {\n",
    "        'average_revenue': round(average_revenue, 2),\n",
    "        'summary': f\"The average revenue per customer is {average_revenue} euros.\"\n",
    "    }"
   ]
  },
  {
   "cell_type": "code",
   "execution_count": 17,
   "metadata": {},
   "outputs": [],
   "source": [
    "def retrieve_top_k_customers(k):\n",
    "    # Sort customer_revenue dictionary by values (revenue) in descending order\n",
    "    sorted_customers = sorted(customer_revenue.items(), key=lambda x: x[1], reverse=True)\n",
    "    \n",
    "    # Extract the top k customers\n",
    "    top_k_customers = [customer for customer, revenue in sorted_customers[:k]]\n",
    "    \n",
    "    return {\n",
    "        'top_customers': top_k_customers,\n",
    "        'summary': f\"The top {k} customers based on revenue are: {', '.join(top_k_customers)}.\"\n",
    "    }"
   ]
  },
  {
   "cell_type": "code",
   "execution_count": 18,
   "metadata": {},
   "outputs": [],
   "source": [
    "def retrieve_least_k_customers(k):\n",
    "    # Sort customer_revenue dictionary by values (revenue) in ascending order\n",
    "    sorted_customers = sorted(customer_revenue.items(), key=lambda x: x[1])\n",
    "    \n",
    "    # Extract the least k customers\n",
    "    least_k_customers = [customer for customer, revenue in sorted_customers[:k]]\n",
    "    \n",
    "    return {\n",
    "        'least_customers': least_k_customers,\n",
    "        'summary': f\"The least {k} customers based on revenue are: {', '.join(least_k_customers)}.\"\n",
    "    }"
   ]
  },
  {
   "cell_type": "code",
   "execution_count": 33,
   "metadata": {},
   "outputs": [],
   "source": [
    "import seaborn as sns\n",
    "\n",
    "def visualize_revenue_per_cust(k):\n",
    "    # Sort customer_revenue dictionary by values (revenue) in descending order\n",
    "    sorted_customers = sorted(customer_revenue.items(), key=lambda x: x[1], reverse=True)\n",
    "    \n",
    "    # Extract the top k customers\n",
    "    top_k_customers = dict(sorted_customers[:k])\n",
    "    \n",
    "    # Plotting the top k customers with customers on y-axis and numbers on x-axis\n",
    "    plot = sns.barplot(x=list(top_k_customers.values()), y=list(top_k_customers.keys()))\n",
    "    plot.set_ylabel(\"Customer\")  # Set y-axis label\n",
    "    plot.set_xlabel(\"Revenue\")   # Set x-axis label\n",
    "    \n",
    "    return {\n",
    "        'plot': plot\n",
    "    }\n"
   ]
  },
  {
   "cell_type": "code",
   "execution_count": 20,
   "metadata": {},
   "outputs": [
    {
     "data": {
      "text/plain": [
       "{'plot': <AxesSubplot: xlabel='Revenue', ylabel='Customer'>}"
      ]
     },
     "execution_count": 20,
     "metadata": {},
     "output_type": "execute_result"
    },
    {
     "data": {
      "image/png": "[encoded data removed]",
      "text/plain": [
       "<Figure size 640x480 with 1 Axes>"
      ]
     },
     "metadata": {},
     "output_type": "display_data"
    }
   ],
   "source": [
    "# visualize_revenue_per_cust(30)"
   ]
  },
  {
   "cell_type": "markdown",
   "metadata": {},
   "source": [
    "### Functions on Cash Flow"
   ]
  },
  {
   "cell_type": "code",
   "execution_count": 21,
   "metadata": {},
   "outputs": [],
   "source": [
    "def get_balance():\n",
    "    return {'balance': financial_data['Balance'], 'summary': f\"The balance is {balance}.\"}\n",
    "\n",
    "def get_projected_balance():\n",
    "    return {'projected_balance': financial_data['Projected Balance'], 'summary': f\"The projected balance is {projected_balance}.\"}\n",
    "\n",
    "def get_total_inflows():\n",
    "    return {'total_inflows': financial_data['Inflows Forecast'], 'summary': f\"The total inflows are {inflows_forecast}.\"}\n",
    "\n",
    "def get_total_outflows():\n",
    "    return {'total_outflows': financial_data['Outflows Forecast'], 'summary': f\"The total outflows are {outflows_forecast}.\"}\n",
    "\n",
    "def get_flows_difference():\n",
    "    return {'flows_difference': financial_data['Inflows Forecast'] - financial_data['Outflows Forecast'], 'summary': f\"The difference between inflows and outflows is {inflows_forecast - outflows_forecast}.\"}\n",
    "\n",
    "def get_credit():\n",
    "    return {'credit': financial_data['Credit'], 'summary': f\"The credit is {credit}.\"}\n",
    "\n",
    "def get_debit():\n",
    "    return {'debit': financial_data['Debit'], 'summary': f\"The debit is {debit}.\"}\n",
    "\n",
    "def get_balance_loss():\n",
    "    return {'balance_loss': financial_data['Debit'] - financial_data['Credit'], 'summary': f\"The balance loss is {debit - credit}.\"}\n",
    "\n",
    "def get_projected_balance_loss():\n",
    "    diff = financial_data['Projected Balance'] - financial_data['Balance']\n",
    "    if diff > 0:\n",
    "        return {'projected_balance_loss': diff, 'summary': f\"The projected balance is {diff} euros higher than the current balance.\"}\n",
    "    elif diff < 0:\n",
    "        return {'projected_balance_loss': diff, 'summary': f\"The projected balance is {diff} euros lower than the current balance.\"}\n",
    "    else:\n",
    "        return {'projected_balance_loss': diff, 'summary': f\"The projected balance is the same as the current balance.\"}"
   ]
  },
  {
   "cell_type": "markdown",
   "metadata": {},
   "source": [
    "### Functions on Order Statistics"
   ]
  },
  {
   "cell_type": "code",
   "execution_count": 22,
   "metadata": {},
   "outputs": [],
   "source": [
    "def get_channel_orders(channel):\n",
    "    return {'channel_orders': channel_orders[channel], 'summary': f\"The order statistics for the channel {channel} are {channel_orders[channel]}.\"}\n",
    "\n",
    "def percentage_fulfilled(channel):\n",
    "    return {'percentage_fulfilled': channel_orders[channel]['Percentage of fulfillment'], 'summary': f\"The percentage of fulfillment for the channel {channel} is {channel_orders[channel]['Percentage of fulfillment']}.\"}\n",
    "\n",
    "def get_orders_count(channel):\n",
    "    return {'orders_count': channel_orders[channel]['Orders Count'], 'summary': f\"The number of orders for the channel {channel} is {channel_orders[channel]['Orders Count']}.\"}\n",
    "\n",
    "def highest_amount_channel():\n",
    "    max_amount = 0\n",
    "    max_channel = None\n",
    "    for channel, data in channel_orders.items():\n",
    "        if data['Amount'] > max_amount:\n",
    "            max_amount = data['Amount']\n",
    "            max_channel = channel\n",
    "    return {'highest_amount_channel': max_channel, 'summary': f\"The channel with the highest amount is {max_channel}.\"}\n",
    "\n",
    "def calculate_average_order_values():\n",
    "    total_revenue = channel_orders.get('Online Retailers')['Amount'] + channel_orders.get('Web Site')['Amount']\n",
    "    total_orders = channel_orders.get('Online Retailers')['Orders Count'] + channel_orders.get('Web Site')['Orders Count']\n",
    "\n",
    "    aov = total_revenue / total_orders\n",
    "    return {\n",
    "        'average_order_value': aov,\n",
    "        'summary': f\"The average order value is {aov:.2f}\"}"
   ]
  },
  {
   "cell_type": "markdown",
   "metadata": {},
   "source": [
    "### Function on Understocked Products"
   ]
  },
  {
   "cell_type": "code",
   "execution_count": 23,
   "metadata": {},
   "outputs": [],
   "source": [
    "def get_understocked_products():\n",
    "    understocked_products = \", \".join(list(understocked_product_data.keys()))\n",
    "    return {'understocked_products': understocked_products, 'summary': \"The products that need restocking are \" + understocked_products + \".\"}\n",
    "# print(get_understocked_products())\n",
    "\n",
    "def get_total_expected_orders():\n",
    "    expected_orders = sum([data['Expected Qty'] for data in understocked_product_data.values()])\n",
    "    return {'expected_orders': expected_orders, 'summary': f\"The expected total number of orders is {expected_orders}.\"}\n",
    "# print(get_total_expected_orders())\n",
    "\n",
    "def get_current_stock(product):\n",
    "    return {'current_stock': understocked_product_data[product]['Current stock'], 'summary': f\"The current stock for {product} is {understocked_product_data[product]['Current stock']}.\"}\n",
    "# print(get_current_stock('Apple GarageBand'))\n",
    "\n",
    "def most_understock_product():\n",
    "    min_required_stock = float('inf')\n",
    "    most_understocked_product = None\n",
    "    for product, data in understocked_product_data.items():\n",
    "        if data['Current stock'] < min_required_stock:\n",
    "            min_required_stock = data['Required stock']\n",
    "            max_understocked_product = product\n",
    "    return {'most_understocked_product': max_understocked_product, 'summary': f\"The product with the lowest stock is {max_understocked_product} with stock {understocked_product_data[max_understocked_product]['Current stock']}.\"}\n",
    "# print(most_understock_product())"
   ]
  },
  {
   "cell_type": "markdown",
   "metadata": {},
   "source": [
    "### Function Map"
   ]
  },
  {
   "cell_type": "code",
   "execution_count": 24,
   "metadata": {},
   "outputs": [],
   "source": [
    "functions_map = {\n",
    "    # Product functions\n",
    "    \"calculate_total_product_revenue\": calculate_total_product_revenue,\n",
    "    \"get_total_revenue_for_category\": get_total_revenue_for_category,\n",
    "    \"calculate_average_product_revenue\" : calculate_average_product_revenue,\n",
    "    \"retrieve_top_k_products\": retrieve_top_k_products,\n",
    "    \"retrieve_least_k_products\": retrieve_least_k_products,\n",
    "\n",
    "    # Customer functions\n",
    "    \"calculate_total_customer_revenue\": calculate_total_customer_revenue,\n",
    "    \"get_total_revenue_for_customer\": get_total_revenue_for_customer,\n",
    "    \"calculate_average_customer_revenue\": calculate_average_customer_revenue,\n",
    "    \"retrieve_top_k_customers\": retrieve_top_k_customers,\n",
    "    \"retrieve_least_k_customers\": retrieve_least_k_customers,\n",
    "    # temp\n",
    "    \"visualize_revenue_per_cust\": visualize_revenue_per_cust,\n",
    "\n",
    "    # Cash flow functions\n",
    "    \"get_total_inflows\": get_total_inflows,\n",
    "    \"get_total_outflows\": get_total_outflows,\n",
    "    \"get_flows_difference\": get_flows_difference,\n",
    "    \"get_credit\": get_credit,\n",
    "    \"get_debit\": get_debit,\n",
    "    \"get_balance_loss\": get_balance_loss,\n",
    "    \"get_projected_balance_loss\": get_projected_balance_loss,\n",
    "    \"get_balance\": get_balance,\n",
    "    \"get_projected_balance\": get_projected_balance,\n",
    "\n",
    "    # Order statistics functions\n",
    "    \"get_channel_orders\": get_channel_orders,\n",
    "    \"percentage_fulfilled\": percentage_fulfilled,\n",
    "    \"get_orders_count\": get_orders_count,\n",
    "    \"highest_amount_channel\": highest_amount_channel,\n",
    "    \"calculate_average_order_values\":calculate_average_order_values,\n",
    "\n",
    "    # Understocked products functions\n",
    "    \"get_understocked_products\": get_understocked_products,\n",
    "    \"get_total_expected_orders\": get_total_expected_orders,\n",
    "    \"get_current_stock\": get_current_stock,\n",
    "    \"most_understocked_product\": most_understock_product,\n",
    "}"
   ]
  },
  {
   "cell_type": "markdown",
   "metadata": {},
   "source": [
    "### Tools"
   ]
  },
  {
   "cell_type": "code",
   "execution_count": 52,
   "metadata": {},
   "outputs": [],
   "source": [
    "tools = [\n",
    "    # Product tools\n",
    "    {\n",
    "        \"name\": \"calculate_total_product_revenue\",\n",
    "        \"description\": \"Calculate the total revenue from the top products.\",\n",
    "        \"parameter_definitions\": {}\n",
    "    },\n",
    "    {\n",
    "        \"name\": \"get_total_revenue_for_category\",\n",
    "        \"description\": \"Get the revenue data for a specific product category.\",\n",
    "        \"parameter_definitions\": {\n",
    "            \"category\": {\n",
    "                \"description\": \"The product category for which to get the revenue data.\",\n",
    "                \"type\": \"str\",\n",
    "                \"required\": True\n",
    "            }\n",
    "        }\n",
    "    },\n",
    "    {\n",
    "        \"name\": \"calculate_average_product_revenue\",\n",
    "        \"description\": \"Calculate the average revenue per product.\",\n",
    "        \"parameter_definitions\": {}\n",
    "    },\n",
    "    {\n",
    "        \"name\": \"retrieve_top_k_products\",\n",
    "        \"description\": \"Retrieve the top products based on revenue.\",\n",
    "        \"parameter_definitions\": {\n",
    "            \"k\": {\n",
    "                \"type\": \"int\",\n",
    "                \"description\": \"Number of top products to retrieve.\"\n",
    "            }\n",
    "        }\n",
    "    },\n",
    "    {\n",
    "        \"name\": \"retrieve_least_k_products\",\n",
    "        \"description\": \"Retrieve the least products based on revenue.\",\n",
    "        \"parameter_definitions\": {\n",
    "            \"k\": {\n",
    "                \"type\": \"int\",\n",
    "                \"description\": \"Number of least products to retrieve.\"\n",
    "            }\n",
    "        }\n",
    "    },\n",
    "\n",
    "    # Customer tools\n",
    "    {\n",
    "        \"name\": \"calculate_total_customer_revenue\",\n",
    "        \"description\": \"Calculate the total revenue from the top customers.\",\n",
    "        \"parameter_definitions\": {}\n",
    "    },\n",
    "    {\n",
    "        \"name\": \"get_total_revenue_for_category\",\n",
    "        \"description\": \"Get the revenue data for a specific product category.\",\n",
    "        \"parameter_definitions\": {\n",
    "            \"category\": {\n",
    "                \"description\": \"The product category for which to get the revenue data.\",\n",
    "                \"type\": \"str\",\n",
    "                \"required\": True\n",
    "            }\n",
    "        }\n",
    "    },\n",
    "    {\n",
    "        \"name\": \"calculate_average_customer_revenue\",\n",
    "        \"description\": \"Calculate the average revenue per customer.\",\n",
    "        \"parameter_definitions\": {}\n",
    "    },\n",
    "    {\n",
    "        \"name\": \"retrieve_top_k_customers\",\n",
    "        \"description\": \"Retrieve the top customers based on revenue.\",\n",
    "        \"parameter_definitions\": {\n",
    "            \"k\": {\n",
    "                \"type\": \"int\",\n",
    "                \"description\": \"Number of top customers to retrieve.\"\n",
    "            }\n",
    "        }\n",
    "    },\n",
    "    {\n",
    "        \"name\": \"retrieve_least_k_customers\",\n",
    "        \"description\": \"Retrieve the least customers based on revenue.\",\n",
    "        \"parameter_definitions\": {\n",
    "            \"k\": {\n",
    "                \"type\": \"int\",\n",
    "                \"description\": \"Number of least customers to retrieve.\"\n",
    "            }\n",
    "        }\n",
    "    },\n",
    "    # temp\n",
    "    {\n",
    "        \"name\": \"visualize_revenue_per_cust\",\n",
    "        \"description\": \"Visualize the revenue per customer.\",\n",
    "        \"parameter_definitions\": {\n",
    "            \"k\": {\n",
    "                \"type\": \"int\",\n",
    "                \"description\": \"Number of top customers to visualize.\"\n",
    "            }\n",
    "        }\n",
    "    },\n",
    "\n",
    "    # Cash flow tools\n",
    "    {\n",
    "        \"name\": \"get_balance\",\n",
    "        \"description\": \"Get the current balance.\",\n",
    "        \"parameter_definitions\": {}\n",
    "    },\n",
    "    {\n",
    "        \"name\": \"get_projected_balance\",\n",
    "        \"description\": \"Get the projected balance.\",\n",
    "        \"parameter_definitions\": {}\n",
    "    },\n",
    "    {\n",
    "        \"name\": \"get_total_inflows\",\n",
    "        \"description\": \"Get the total inflows forecast.\",\n",
    "        \"parameter_definitions\": {}\n",
    "    },\n",
    "    {\n",
    "        \"name\": \"get_total_outflows\",\n",
    "        \"description\": \"Get the total outflows forecast.\",\n",
    "        \"parameter_definitions\": {}\n",
    "    },\n",
    "    {\n",
    "        \"name\": \"get_flows_difference\",\n",
    "        \"description\": \"Get the difference between inflows and outflows.\",\n",
    "        \"parameter_definitions\": {}\n",
    "    },\n",
    "    {\n",
    "        \"name\": \"get_credit\",\n",
    "        \"description\": \"Get the credit.\",\n",
    "        \"parameter_definitions\": {}\n",
    "    },\n",
    "    {\n",
    "        \"name\": \"get_debit\",\n",
    "        \"description\": \"Get the debit.\",\n",
    "        \"parameter_definitions\": {}\n",
    "    },\n",
    "    {\n",
    "        \"name\": \"get_balance_loss\",\n",
    "        \"description\": \"Get the balance loss.\",\n",
    "        \"parameter_definitions\": {}\n",
    "    },\n",
    "    {\n",
    "        \"name\": \"get_projected_balance_loss\",\n",
    "        \"description\": \"Get the projected balance loss.\",\n",
    "        \"parameter_definitions\": {}\n",
    "    },\n",
    "\n",
    "    # Understocked products tools\n",
    "      {\n",
    "        \"name\": \"get_understocked_products\",\n",
    "        \"description\": \"Get the most understocked products.\",\n",
    "        \"parameter_definitions\": {}\n",
    "    },\n",
    "    {\n",
    "        \"name\": \"get_total_expected_orders\",\n",
    "        \"description\": \"Get the total expected orders.\",\n",
    "        \"parameter_definitions\": {}\n",
    "    },\n",
    "    {\n",
    "        \"name\": \"get_current_stock\",\n",
    "        \"description\": \"Get the current stock for a specific product.\",\n",
    "        \"parameter_definitions\": {\n",
    "            \"product\": {\n",
    "                \"description\": \"The product for which to get the current stock.\",\n",
    "                \"type\": \"str\",\n",
    "                \"required\": True\n",
    "            }\n",
    "        }\n",
    "    },\n",
    "    {\n",
    "        \"name\": \"most_understock_product\",\n",
    "        \"description\": \"Get the most understocked product.\",\n",
    "        \"parameter_definitions\": {}\n",
    "    },\n",
    "\n",
    "    # Order statistics tools\n",
    "    {\n",
    "        \"name\": \"percentage_fulfilled\",\n",
    "        \"description\": \"Get the percentage of fulfillment for a specific channel.\",\n",
    "        \"parameter_definitions\": {\n",
    "            \"channel\": {\n",
    "                \"description\": \"The channel for which to get the percentage of fulfillment.\",\n",
    "                \"type\": \"str\",\n",
    "                \"required\": True\n",
    "            }\n",
    "        }\n",
    "    },\n",
    "    {\n",
    "        \"name\": \"get_orders_count\",\n",
    "        \"description\": \"Get the number of orders for a specific channel.\",\n",
    "        \"parameter_definitions\": {\n",
    "            \"channel\": {\n",
    "                \"description\": \"The channel for which to get the number of orders.\",\n",
    "                \"type\": \"str\",\n",
    "                \"required\": True\n",
    "            }\n",
    "        }\n",
    "    },\n",
    "        {\n",
    "        \"name\": \"get_channel_orders\",\n",
    "        \"description\": \"Get the order statistics for a specific channel.\",\n",
    "        \"parameter_definitions\": {\n",
    "            \"channel\": {\n",
    "                \"description\": \"The channel for which to get the order statistics.\",\n",
    "                \"type\": \"str\",\n",
    "                \"required\": True\n",
    "            }\n",
    "        }\n",
    "    },\n",
    "    {\n",
    "        \"name\": \"highest_amount_channel\",\n",
    "        \"description\": \"Get the channel with the highest amount.\",\n",
    "        \"parameter_definitions\": {}\n",
    "    },\n",
    "    {\n",
    "        \"name\": \"calculate_average_order_values\",\n",
    "        \"description\": \"Calculate the average order values.\",\n",
    "        \"parameter_definitions\": {}\n",
    "    }\n",
    "]"
   ]
  },
  {
   "cell_type": "markdown",
   "metadata": {},
   "source": [
    "### Intsructions"
   ]
  },
  {
   "cell_type": "code",
   "execution_count": 26,
   "metadata": {},
   "outputs": [],
   "source": [
    "preamble = \"\"\"\n",
    "##Task & Context: You are an AI assistant integrated with the company's Enterprise Resource Planning (ERP) system containing data from the last week only.\n",
    "Your role is to help employees access and understand data from the ERP system through natural language interactions.\n",
    "Employees will ask you questions or make requests related to various business operations like inventory, sales, accounting, manufacturing, etc. \n",
    "Your task is to query the relevant data from the ERP databases, analyze and synthesize it as needed, and provide helpful responses to the employees.\n",
    "\n",
    "##Style Guide:\n",
    "Use clear, professional language tailored for a workplace context.\n",
    "Respond succinctly when possible, but provide detailed explanations when the query requires it.\n",
    "Maintain objectivity and avoid injecting personal opinions unless explicitly asked.\n",
    "Speak in the first-person from the perspective of an AI assistant (e.g. \"I retrieved the latest inventory data from the system.\")\n",
    "Use proper formatting like bulleted lists, tables, and code snippets where appropriate to make responses easier to parse.\n",
    "Do not include non-requested data, but do provide relevant additional context if it can enhance the usefulness of your response.\n",
    "Be polite and constructive. If you cannot fulfill a request, explain why in a respectful manner.\n",
    "\"\"\""
   ]
  },
  {
   "cell_type": "markdown",
   "metadata": {},
   "source": [
    "### User's Query"
   ]
  },
  {
   "cell_type": "code",
   "execution_count": 47,
   "metadata": {},
   "outputs": [],
   "source": [
    "query = \"I want 5 best customers if possible\""
   ]
  },
  {
   "cell_type": "markdown",
   "metadata": {},
   "source": [
    "### Chat"
   ]
  },
  {
   "cell_type": "code",
   "execution_count": 48,
   "metadata": {},
   "outputs": [
    {
     "name": "stdout",
     "output_type": "stream",
     "text": [
      "[ToolCall(name='retrieve_top_k_customers', parameters={'k': 5})]\n",
      "The model recommends doing the following tool calls:\n",
      "name='retrieve_top_k_customers' parameters={'k': 5}\n"
     ]
    }
   ],
   "source": [
    "from cohere import ChatMessage\n",
    "chat = co.chat(\n",
    "    message=query, \n",
    "    model=\"command-r\",\n",
    "    preamble=preamble,\n",
    "    tools=tools,\n",
    ")\n",
    "\n",
    "print(chat.tool_calls)\n",
    "\n",
    "print(\"The model recommends doing the following tool calls:\")\n",
    "print(\"\\n\".join(str(tool_call) for tool_call in chat.tool_calls))"
   ]
  },
  {
   "cell_type": "code",
   "execution_count": 49,
   "metadata": {},
   "outputs": [
    {
     "name": "stdout",
     "output_type": "stream",
     "text": [
      "The tool results that will be fed back to the model are:\n"
     ]
    }
   ],
   "source": [
    "# import json\n",
    "\n",
    "# tool_results = []\n",
    "# for tool_call in chat.tool_calls:\n",
    "#     # print(f\"=== Running tool: {tool_call.tool_name}, with parameters {tool_call.parameters}\")\n",
    "#     if not tool_call.parameters:\n",
    "#         output = functions_map[tool_call.name]()\n",
    "#     else:\n",
    "#         output = functions_map[tool_call.name](**tool_call.parameters)\n",
    "#     outputs = [output]\n",
    "#     # print(f\"== tool results: {outputs}\")\n",
    "#     tool_results.append({\"call\": tool_call, \"outputs\": outputs})\n",
    "\n",
    "# print(\"The tool results that will be fed back to the model are:\")\n",
    "\n",
    "# print(json.dumps(tool_results, indent=4))\n",
    "\n",
    "import json\n",
    "import seaborn as sns\n",
    "import matplotlib.pyplot as plt\n",
    "\n",
    "tool_results = []\n",
    "plots = []  # List to store plot objects\n",
    "\n",
    "for tool_call in chat.tool_calls:\n",
    "    if not tool_call.parameters:\n",
    "        output = functions_map[tool_call.name]()\n",
    "    else:\n",
    "        output = functions_map[tool_call.name](**tool_call.parameters)\n",
    "    \n",
    "    if 'plot' in output:  # Assuming 'plot' key is used to store plots\n",
    "        plots.append(output['plot'])  # Store plot object\n",
    "    else:\n",
    "        outputs = [output]\n",
    "        tool_results.append({\"call\": tool_call, \"outputs\": outputs})\n",
    "\n",
    "print(\"The tool results that will be fed back to the model are:\")"
   ]
  },
  {
   "cell_type": "code",
   "execution_count": 50,
   "metadata": {},
   "outputs": [],
   "source": [
    "response = co.chat(message=query, tools=tools, tool_results=tool_results, preamble=preamble, model=\"command-r\",temperature=0.3)"
   ]
  },
  {
   "cell_type": "code",
   "execution_count": 51,
   "metadata": {},
   "outputs": [
    {
     "name": "stdout",
     "output_type": "stream",
     "text": [
      "Final response: Here are the top 5 customers based on revenue:\n",
      "- Web Site\n",
      "- Crescendo Corner Ltd.\n",
      "- Symphony Supplies Inc.\n",
      "- Tempo Treasures Ltd.\n",
      "- Symphony Shop Ltd.\n"
     ]
    }
   ],
   "source": [
    "print('Final response:', response.text)"
   ]
  }
 ],
 "metadata": {
  "kernelspec": {
   "display_name": ".venv",
   "language": "python",
   "name": "python3"
  },
  "language_info": {
   "codemirror_mode": {
    "name": "ipython",
    "version": 3
   },
   "file_extension": ".py",
   "mimetype": "text/x-python",
   "name": "python",
   "nbconvert_exporter": "python",
   "pygments_lexer": "ipython3",
   "version": "3.11.4"
  }
 },
 "nbformat": 4,
 "nbformat_minor": 2
}
