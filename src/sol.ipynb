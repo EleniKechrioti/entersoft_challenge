{
 "cells": [
  {
   "cell_type": "code",
   "execution_count": 45,
   "metadata": {},
   "outputs": [],
   "source": [
    "import configparser\n",
    "config = configparser.RawConfigParser()\n",
    "config.read(\"../api_key.ini\")\n",
    "\n",
    "import cohere\n",
    "API_KEY = config[config.sections()[0]]['api_key']\n",
    "co = cohere.Client(API_KEY)"
   ]
  },
  {
   "cell_type": "markdown",
   "metadata": {},
   "source": [
    "### Load Data"
   ]
  },
  {
   "cell_type": "code",
   "execution_count": 46,
   "metadata": {},
   "outputs": [],
   "source": [
    "import pandas as pd\n",
    "# Load data to pandas dataframes:\n",
    "sales_by_day = pd.read_csv('../data/raw/LastWeekSalesByDay.csv', delimiter=';')\n",
    "top_customers = pd.read_csv('../data/raw/LastWeekTopCustomers.csv', delimiter=';')\n",
    "top_products = pd.read_csv('../data/raw/LastWeekTopProducts.csv', delimiter=';')\n",
    "order_statistics = pd.read_csv('../data/raw/LastWeekOrderStatistics.csv', delimiter=';')\n",
    "cash_flow_report = pd.read_csv('../data/raw/CashFlowReport.csv', delimiter=';')\n",
    "understocked_products = pd.read_csv('../data/raw/UnderstockedProducts.csv', delimiter=';')"
   ]
  },
  {
   "cell_type": "markdown",
   "metadata": {},
   "source": [
    "### Products"
   ]
  },
  {
   "cell_type": "code",
   "execution_count": 61,
   "metadata": {},
   "outputs": [],
   "source": [
    "import csv\n",
    "\n",
    "# Initialize an empty dictionary to store the data\n",
    "product_revenue = {}\n",
    "\n",
    "# Read the CSV file and populate the dictionary\n",
    "with open('../data/raw/LastWeekTopProducts.csv', newline='') as csvfile:\n",
    "    reader = csv.DictReader(csvfile, delimiter=';')\n",
    "    for row in reader:\n",
    "        product_description = row['Product Description']\n",
    "        revenue = int(row['Revenue'])\n",
    "        product_revenue[product_description] = revenue\n",
    "\n",
    "# Print the dictionary to verify\n",
    "print(product_revenue)\n"
   ]
  },
  {
   "cell_type": "markdown",
   "metadata": {},
   "source": [
    "Customers"
   ]
  },
  {
   "cell_type": "code",
   "execution_count": null,
   "metadata": {},
   "outputs": [],
   "source": [
    "import csv\n",
    "\n",
    "# Initialize an empty dictionary to store the data\n",
    "customer_revenue = {}\n",
    "\n",
    "# Read the CSV file and populate the dictionary\n",
    "with open('../data/raw/LastWeekTopCustomers.csv', newline='') as csvfile:\n",
    "    reader = csv.DictReader(csvfile, delimiter=';')\n",
    "    for row in reader:\n",
    "        customer_name = row['Customer Name']\n",
    "        revenue = int(row['Revenue'])\n",
    "        customer_revenue[customer_name] = revenue\n",
    "\n",
    "# Print the dictionary to verify\n",
    "print(customer_revenue)\n"
   ]
  },
  {
   "cell_type": "markdown",
   "metadata": {},
   "source": [
    "### Sales By Day"
   ]
  },
  {
   "cell_type": "code",
   "execution_count": null,
   "metadata": {},
   "outputs": [],
   "source": [
    "import csv\n",
    "\n",
    "# Initialize an empty dictionary to store the data\n",
    "revenue_data = {}\n",
    "\n",
    "# Read the CSV file and populate the dictionary\n",
    "with open('../data/raw/LastWeekSalesByDay.csv', newline='') as csvfile:\n",
    "    reader = csv.DictReader(csvfile, delimiter=';')\n",
    "    for row in reader:\n",
    "        date = row['Date']\n",
    "        product_category = row['Product category']\n",
    "        revenue = int(row['Revenue'])\n",
    "        \n",
    "        # If the product category already exists in the dictionary, update its revenue\n",
    "        if product_category in revenue_data:\n",
    "            revenue_data[product_category][date] = revenue\n",
    "        # If the product category is new, add it to the dictionary with its revenue for the current date\n",
    "        else:\n",
    "            revenue_data[product_category] = {date: revenue}\n",
    "\n",
    "# Print the dictionary to verify\n",
    "print(revenue_data)\n"
   ]
  },
  {
   "cell_type": "markdown",
   "metadata": {},
   "source": [
    "### Order Statistics"
   ]
  },
  {
   "cell_type": "code",
   "execution_count": null,
   "metadata": {},
   "outputs": [],
   "source": [
    "import csv\n",
    "\n",
    "# Initialize an empty dictionary to store the data\n",
    "channel_orders = {}\n",
    "\n",
    "# Read the CSV file and populate the dictionary\n",
    "with open('../data/raw/LastWeekOrderStatistics.csv', newline='') as csvfile:\n",
    "    reader = csv.DictReader(csvfile, delimiter=';')\n",
    "    for row in reader:\n",
    "        channel = row['Channel']\n",
    "        orders_count = int(row['Orders Count'])\n",
    "        order_lines = int(row['Order Lines'])\n",
    "        quantity_pieces = int(row['Quantity in pieces'])\n",
    "        quantity_boxes = int(row['Quantity in boxes'])\n",
    "        amount = int(row['Amount'])\n",
    "        fulfillment_percentage = int(row['Percentage of fulfillment'])\n",
    "        \n",
    "        # Store the data in the dictionary\n",
    "        channel_orders[channel] = {\n",
    "            'Orders Count': orders_count,\n",
    "            'Order Lines': order_lines,\n",
    "            'Quantity in pieces': quantity_pieces,\n",
    "            'Quantity in boxes': quantity_boxes,\n",
    "            'Amount': amount,\n",
    "            'Percentage of fulfillment': fulfillment_percentage\n",
    "        }\n",
    "\n",
    "# Print the dictionary to verify\n",
    "print(channel_orders)\n"
   ]
  },
  {
   "cell_type": "markdown",
   "metadata": {},
   "source": [
    "### Cashflow report"
   ]
  },
  {
   "cell_type": "code",
   "execution_count": null,
   "metadata": {},
   "outputs": [],
   "source": [
    "import csv\n",
    "\n",
    "# Initialize an empty dictionary to store the data\n",
    "financial_data = {}\n",
    "\n",
    "# Read the CSV file and populate the dictionary\n",
    "with open('../data/raw/CashFlowReport.csv', newline='') as csvfile:\n",
    "    reader = csv.DictReader(csvfile, delimiter=';')\n",
    "    for row in reader:\n",
    "        debit = int(row['Debit'])\n",
    "        credit = int(row['Credit'])\n",
    "        balance = int(row['Balance'])\n",
    "        inflows_forecast = int(row['Inflows Forecast'])\n",
    "        outflows_forecast = int(row['Outflows Forecast'])\n",
    "        projected_balance = int(row['Projected Balance'])\n",
    "        \n",
    "        # Store the data in the dictionary\n",
    "        financial_data['Debit'] = debit\n",
    "        financial_data['Credit'] = credit\n",
    "        financial_data['Balance'] = balance\n",
    "        financial_data['Inflows Forecast'] = inflows_forecast\n",
    "        financial_data['Outflows Forecast'] = outflows_forecast\n",
    "        financial_data['Projected Balance'] = projected_balance\n",
    "\n",
    "# Print the dictionary to verify\n",
    "print(financial_data)"
   ]
  },
  {
   "cell_type": "markdown",
   "metadata": {},
   "source": [
    "### Understocked Products"
   ]
  },
  {
   "cell_type": "code",
   "execution_count": null,
   "metadata": {},
   "outputs": [],
   "source": [
    "import csv\n",
    "\n",
    "# Initialize an empty dictionary to store the data\n",
    "understocked_product_data = {}\n",
    "\n",
    "# Read the CSV file and populate the dictionary\n",
    "with open('../data/raw/UnderstockedProducts.csv', newline='') as csvfile:\n",
    "    reader = csv.DictReader(csvfile, delimiter=';')\n",
    "    for row in reader:\n",
    "        product_description = row['Product Description']\n",
    "        minimum_stock = int(row['Minimum stock'])\n",
    "        current_stock = int(row['Current stock'])\n",
    "        expected_qty = int(row['Expected Qty'])\n",
    "        required_stock = int(row['Required stock'])\n",
    "        \n",
    "        # Store the data in the dictionary\n",
    "        understocked_product_data[product_description] = {\n",
    "            'Minimum stock': minimum_stock,\n",
    "            'Current stock': current_stock,\n",
    "            'Expected Qty': expected_qty,\n",
    "            'Required stock': required_stock\n",
    "        }\n",
    "\n",
    "# Print the dictionary to verify\n",
    "print(understocked_product_data)\n",
    "\n",
    "# Write the dictionary to a new txt file\n",
    "with open('../data/processed/dicts/understocked_products.txt', 'w') as txtfile:\n",
    "    for product_description, product_data in understocked_product_data.items():\n",
    "        txtfile.write(f'{product_description}\\n')\n",
    "        for key, value in product_data.items():\n",
    "            txtfile.write(f'{key}: {value}\\n')\n",
    "        txtfile.write('\\n')\n"
   ]
  },
  {
   "cell_type": "markdown",
   "metadata": {},
   "source": [
    "### Functions"
   ]
  },
  {
   "cell_type": "markdown",
   "metadata": {},
   "source": [
    "### Function Map"
   ]
  },
  {
   "cell_type": "code",
   "execution_count": 62,
   "metadata": {},
   "outputs": [],
   "source": [
    "functions_map = {\"calculate_total_product_revenue\": calculate_total_product_revenue}"
   ]
  },
  {
   "cell_type": "markdown",
   "metadata": {},
   "source": [
    "### Tools"
   ]
  },
  {
   "cell_type": "code",
   "execution_count": 63,
   "metadata": {},
   "outputs": [],
   "source": [
    "tools = [\n",
    "{\n",
    "\"name\": \"calculate_total_product_revenue\",\n",
    "\"description\": \"Calculates the total revenue generated by all products from last week.\",\n",
    "\"parameter_definitions\": {\n",
    "    \"revenue\": {\n",
    "    \"description\": \"Calculates the total revenue generated by all products.\",\n",
    "    \"type\": \"str\",\n",
    "    \"required\": True\n",
    "    } }\n",
    "}]"
   ]
  },
  {
   "cell_type": "markdown",
   "metadata": {},
   "source": [
    "### Intsructions"
   ]
  },
  {
   "cell_type": "code",
   "execution_count": 64,
   "metadata": {},
   "outputs": [],
   "source": [
    "preamble = \"\"\"\n",
    "##Task & Context: You are an AI assistant integrated with the company's Enterprise Resource Planning (ERP) system containing data from the last week only.\n",
    "Your role is to help employees access and understand data from the ERP system through natural language interactions.\n",
    "Employees will ask you questions or make requests related to various business operations like inventory, sales, accounting, manufacturing, etc. \n",
    "Your task is to query the relevant data from the ERP databases, analyze and synthesize it as needed, and provide helpful responses to the employees.\n",
    "\n",
    "##Style Guide:\n",
    "Use clear, professional language tailored for a workplace context.\n",
    "Respond succinctly when possible, but provide detailed explanations when the query requires it.\n",
    "Maintain objectivity and avoid injecting personal opinions unless explicitly asked.\n",
    "Speak in the first-person from the perspective of an AI assistant (e.g. \"I retrieved the latest inventory data from the system.\")\n",
    "Use proper formatting like bulleted lists, tables, and code snippets where appropriate to make responses easier to parse.\n",
    "Do not include non-requested data, but do provide relevant additional context if it can enhance the usefulness of your response.\n",
    "Be polite and constructive. If you cannot fulfill a request, explain why in a respectful manner.\n",
    "\"\"\""
   ]
  },
  {
   "cell_type": "markdown",
   "metadata": {},
   "source": [
    "### User's Query"
   ]
  },
  {
   "cell_type": "code",
   "execution_count": 65,
   "metadata": {},
   "outputs": [],
   "source": [
    "query = \"What was our total revenue from last week ?\""
   ]
  },
  {
   "cell_type": "markdown",
   "metadata": {},
   "source": [
    "### Chat"
   ]
  },
  {
   "cell_type": "code",
   "execution_count": 66,
   "metadata": {},
   "outputs": [
    {
     "name": "stdout",
     "output_type": "stream",
     "text": [
      "The model recommends doing the following tool calls:\n",
      "name='calculate_total_product_revenue' parameters={'revenue': ''}\n"
     ]
    }
   ],
   "source": [
    "from cohere import ChatMessage\n",
    "chat = co.chat(\n",
    "    message=query, \n",
    "    model=\"command-r\", # command, command-r, command-light\n",
    "    # chat_history=[\n",
    "    #     ChatMessage(\n",
    "    #         role=\"CHATBOT\", message=\"Hi!\",\n",
    "    #     ), ChatMessage(\n",
    "    #         role=\"CHATBOT\", message=\"How can I help you today?\",\n",
    "    #     ),\n",
    "    # ],\n",
    "    preamble=preamble,\n",
    "    # prompt_truncation=\"AUTO\",\n",
    "    # temperature=0.2,\n",
    "    tools=tools,\n",
    "    \n",
    ")\n",
    "\n",
    "print(\"The model recommends doing the following tool calls:\")\n",
    "print(\"\\n\".join(str(toolcall) for toolcall in chat.tool_calls))"
   ]
  },
  {
   "cell_type": "code",
   "execution_count": 54,
   "metadata": {},
   "outputs": [
    {
     "ename": "AttributeError",
     "evalue": "'ToolCall' object has no attribute 'tool_name'",
     "output_type": "error",
     "traceback": [
      "\u001b[1;31m---------------------------------------------------------------------------\u001b[0m",
      "\u001b[1;31mAttributeError\u001b[0m                            Traceback (most recent call last)",
      "Cell \u001b[1;32mIn[54], line 5\u001b[0m\n\u001b[0;32m      3\u001b[0m tool_results \u001b[38;5;241m=\u001b[39m []\n\u001b[0;32m      4\u001b[0m \u001b[38;5;28;01mfor\u001b[39;00m toolcall \u001b[38;5;129;01min\u001b[39;00m chat\u001b[38;5;241m.\u001b[39mtool_calls:\n\u001b[1;32m----> 5\u001b[0m     \u001b[38;5;28mprint\u001b[39m(\u001b[38;5;124mf\u001b[39m\u001b[38;5;124m\"\u001b[39m\u001b[38;5;124m=== Running tool: \u001b[39m\u001b[38;5;132;01m{\u001b[39;00m\u001b[43mtoolcall\u001b[49m\u001b[38;5;241;43m.\u001b[39;49m\u001b[43mtool_name\u001b[49m\u001b[38;5;132;01m}\u001b[39;00m\u001b[38;5;124m, with parameters \u001b[39m\u001b[38;5;132;01m{\u001b[39;00mtoolcall\u001b[38;5;241m.\u001b[39mparameters\u001b[38;5;132;01m}\u001b[39;00m\u001b[38;5;124m\"\u001b[39m)\n\u001b[0;32m      6\u001b[0m     output\u001b[38;5;241m=\u001b[39mfunctions_map[toolcall\u001b[38;5;241m.\u001b[39mtool_name](\u001b[38;5;241m*\u001b[39m\u001b[38;5;241m*\u001b[39mtoolcall\u001b[38;5;241m.\u001b[39mparameters)\n\u001b[0;32m      7\u001b[0m     outputs\u001b[38;5;241m=\u001b[39m[output]\n",
      "\u001b[1;31mAttributeError\u001b[0m: 'ToolCall' object has no attribute 'tool_name'"
     ]
    }
   ],
   "source": [
    "import json\n",
    "\n",
    "tool_results = []\n",
    "for toolcall in chat.tool_calls:\n",
    "    print(f\"=== Running tool: {toolcall.tool_name}, with parameters {toolcall.parameters}\")\n",
    "    output=functions_map[toolcall.tool_name](**toolcall.parameters)\n",
    "    outputs=[output]\n",
    "    print(f\"== toolresults: {outputs}\")\n",
    "    tool_results.append({\"call\": toolcall, \"outputs\": outputs})\n",
    "\n",
    "print(\"The tool results that will be fed back to the model are:\")\n",
    "print(json.dumps(tool_results, indent=4))"
   ]
  },
  {
   "cell_type": "code",
   "execution_count": null,
   "metadata": {},
   "outputs": [],
   "source": [
    "response = co.chat(message=query, tools=tools, tool_results=tool_results, preamble=preamble, model=\"command-r\",temperature=0.3)"
   ]
  }
 ],
 "metadata": {
  "kernelspec": {
   "display_name": ".venv",
   "language": "python",
   "name": "python3"
  },
  "language_info": {
   "codemirror_mode": {
    "name": "ipython",
    "version": 3
   },
   "file_extension": ".py",
   "mimetype": "text/x-python",
   "name": "python",
   "nbconvert_exporter": "python",
   "pygments_lexer": "ipython3",
   "version": "3.12.0"
  }
 },
 "nbformat": 4,
 "nbformat_minor": 2
}
