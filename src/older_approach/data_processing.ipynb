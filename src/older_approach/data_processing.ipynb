{
 "cells": [
  {
   "cell_type": "code",
   "execution_count": 21,
   "metadata": {},
   "outputs": [],
   "source": [
    "import pandas as pd\n",
    "# Load datasets\n",
    "sales_by_day = pd.read_csv('../data/raw/LastWeekSalesByDay.csv', delimiter=';')\n",
    "top_customers = pd.read_csv('../data/raw/LastWeekTopCustomers.csv', delimiter=';')\n",
    "top_products = pd.read_csv('../data/raw/LastWeekTopProducts.csv', delimiter=';')\n",
    "order_statistics = pd.read_csv('../data/raw/LastWeekOrderStatistics.csv', delimiter=';')\n",
    "cash_flow_report = pd.read_csv('../data/raw/CashFlowReport.csv', delimiter=';')\n",
    "understocked_products = pd.read_csv('../data/raw/UnderstockedProducts.csv', delimiter=';')"
   ]
  },
  {
   "cell_type": "code",
   "execution_count": 22,
   "metadata": {},
   "outputs": [],
   "source": [
    "\n",
    "def create_sentence(company_name , revenue):\n",
    "    return f\"The {company_name} company has resulted in {revenue} euros in revenue.\"\n",
    "    \n",
    "def top_customers_to_text():\n",
    "    top_cust_text=\"\"\n",
    "\n",
    "    for index, row in top_customers.iterrows():\n",
    "        top_cust_text += create_sentence(row[\"Customer Name\"] , row[\"Revenue\"])\n",
    "        top_cust_text+=\"\\n\"\n",
    "    \n",
    "    # Write file to disk\n",
    "    with open('../data/processed/TopCustomersReport.txt', 'w') as f:\n",
    "        f.write(top_cust_text)\n",
    "\n",
    "top_customers_to_text()"
   ]
  },
  {
   "cell_type": "code",
   "execution_count": 23,
   "metadata": {},
   "outputs": [],
   "source": [
    "def create_product_sentence(product_desc , revenue):\n",
    "    return f\"The product with {product_desc} description has resulted in {revenue} euros in revenue this week.\"\n",
    "    \n",
    "def products_to_text():\n",
    "    top_prod_text=\"\"\n",
    "\n",
    "    for index, row in top_products.iterrows():\n",
    "        top_prod_text += create_product_sentence(row[\"Product Description\"] , row[\"Revenue\"])\n",
    "        top_prod_text+=\"\\n\"\n",
    "    \n",
    "    # Write file to disk\n",
    "    with open('../data/processed/TopProductsReport.txt', 'w') as f:\n",
    "        f.write(top_prod_text)\n",
    "    \n",
    "products_to_text()"
   ]
  },
  {
   "cell_type": "code",
   "execution_count": 24,
   "metadata": {},
   "outputs": [],
   "source": [
    "def cashflow_to_text(df, output_file=\"../data/processed/cashflow.txt\"):\n",
    "    cashflow_text = \"\"\n",
    "    for index, row in df.iterrows():\n",
    "        debit = row['Debit']\n",
    "        credit = row['Credit']\n",
    "        balance = row['Balance']\n",
    "        inflows_forecast = row['Inflows Forecast']\n",
    "        outflows_forecast = row['Outflows Forecast']\n",
    "        projected_balance = row['Projected Ballance']\n",
    "\n",
    "        cashflow_text += f\"The debit of the week is {debit}.\\n\"\n",
    "        cashflow_text += f\"The credit of the week is {credit}.\\n\"\n",
    "        cashflow_text += f\"The balance of the week is {balance}.\\n\"\n",
    "        cashflow_text += f\"The inflows forecast of the week is {inflows_forecast}.\\n\"\n",
    "        cashflow_text += f\"The outflows forecast of the week is {outflows_forecast}.\\n\"\n",
    "        cashflow_text += f\"The projected balance of the week is {projected_balance}.\\n\"\n",
    "\n",
    "    # Write the results in a file into the workspace\n",
    "    with open(output_file, 'w') as f:\n",
    "        f.write(cashflow_text)\n",
    "\n",
    "cashflow_to_text(cash_flow_report)"
   ]
  },
  {
   "cell_type": "code",
   "execution_count": 25,
   "metadata": {},
   "outputs": [],
   "source": [
    "def order_statistics_to_text(df, output_file=\"../data/processed/order-statistics.txt\"):\n",
    "    order_statistics_text = \"\"\n",
    "    for index, row in df.iterrows():\n",
    "        channel = row['Channel']\n",
    "        orders_count = row['Orders Count']\n",
    "        order_lines = row['Order Lines']\n",
    "        quantity_pieces = row['Quantity in pieces']\n",
    "        quantity_boxes = row['Quantity in boxes']\n",
    "        amount = row['Amount']\n",
    "        fulfillment_percentage = row['Percentage of fulfillment']\n",
    "\n",
    "        order_statistics_text += f\"{channel} had {orders_count} orders and {order_lines} order lines.\"\n",
    "        order_statistics_text += f\"The quantity in pieces was {quantity_pieces}, and the quantity in boxes was {quantity_boxes}.\"\n",
    "        order_statistics_text += f\"The total amount for {channel} was {amount} with a fulfillment rate of {fulfillment_percentage}%.\\n\"\n",
    "\n",
    "    with open(output_file, 'w') as f:\n",
    "        f.write(order_statistics_text)\n",
    "\n",
    "order_statistics_to_text(order_statistics)"
   ]
  },
  {
   "cell_type": "code",
   "execution_count": 26,
   "metadata": {},
   "outputs": [],
   "source": [
    "def sales_by_day_to_text(df, output_file=\"../data/processed/sales-by-day.txt\"):\n",
    "    sales_text = \"\"\n",
    "    for index, row in df.iterrows():\n",
    "        date = row['Date']\n",
    "        product_category = row['Product category']\n",
    "        revenue = row['Revenue']\n",
    "\n",
    "        sales_text += f\"On {date}, the revenue for {product_category} was {revenue}.\\n\"\n",
    "\n",
    "    with open(output_file, 'w') as f:\n",
    "        f.write(sales_text)\n",
    "    \n",
    "sales_by_day_to_text(sales_by_day)"
   ]
  },
  {
   "cell_type": "code",
   "execution_count": 29,
   "metadata": {},
   "outputs": [],
   "source": [
    "def concatenate_text_files(input_files, output_file):\n",
    "    output_text = \"\"\n",
    "\n",
    "    for input_file in input_files:\n",
    "        with open(input_file, 'r') as f:\n",
    "            output_text += f.read()\n",
    "\n",
    "    with open(output_file, 'w') as f:\n",
    "        f.write(output_text)\n",
    "    \n",
    "input_files = [\"../data/processed/sales-by-day.txt\", \"../data/processed/TopCustomersReport.txt\", \"../data/processed/TopProductsReport.txt\", \"../data/processed/order-statistics.txt\", \"../data/processed/cashflow.txt\"]\n",
    "output_file = \"../data/processed/processed_data.txt\"\n",
    "\n",
    "concatenate_text_files(input_files, output_file)"
   ]
  }
 ],
 "metadata": {
  "kernelspec": {
   "display_name": ".venv",
   "language": "python",
   "name": "python3"
  },
  "language_info": {
   "codemirror_mode": {
    "name": "ipython",
    "version": 3
   },
   "file_extension": ".py",
   "mimetype": "text/x-python",
   "name": "python",
   "nbconvert_exporter": "python",
   "pygments_lexer": "ipython3",
   "version": "3.12.0"
  }
 },
 "nbformat": 4,
 "nbformat_minor": 2
}
