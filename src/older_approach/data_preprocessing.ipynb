{
 "cells": [
  {
   "cell_type": "markdown",
   "metadata": {},
   "source": [
    "### Load Datasets"
   ]
  },
  {
   "cell_type": "code",
   "execution_count": 4,
   "metadata": {},
   "outputs": [],
   "source": [
    "import pandas as pd\n",
    "\n",
    "# Load datasets\n",
    "sales_by_day = pd.read_csv('../../data/raw/LastWeekSalesByDay.csv', delimiter=';')\n",
    "top_customers = pd.read_csv('../../data/raw/LastWeekTopCustomers.csv', delimiter=';')\n",
    "top_products = pd.read_csv('../../data/raw/LastWeekTopProducts.csv', delimiter=';')\n",
    "order_statistics = pd.read_csv('../../data/raw/LastWeekOrderStatistics.csv', delimiter=';')\n",
    "cash_flow_report = pd.read_csv('../../data/raw/CashFlowReport.csv', delimiter=';')\n",
    "understocked_products = pd.read_csv('../../data/raw/UnderstockedProducts.csv', delimiter=';')"
   ]
  },
  {
   "cell_type": "markdown",
   "metadata": {},
   "source": [
    "### Sales By Day"
   ]
  },
  {
   "cell_type": "code",
   "execution_count": 5,
   "metadata": {},
   "outputs": [
    {
     "name": "stdout",
     "output_type": "stream",
     "text": [
      "         Date   Product category  Revenue\n",
      "0  15/04/2024     Acoustic Drums   195870\n",
      "1  15/04/2024   Acoustic Guitars    90500\n",
      "2  15/04/2024   Audio Interfaces    18100\n",
      "3  15/04/2024       Bass Guitars   100150\n",
      "4  15/04/2024  Classical Guitars    48280\n"
     ]
    }
   ],
   "source": [
    "print(sales_by_day.head())"
   ]
  },
  {
   "cell_type": "code",
   "execution_count": 6,
   "metadata": {},
   "outputs": [
    {
     "name": "stdout",
     "output_type": "stream",
     "text": [
      "         Product category  Revenue\n",
      "           Acoustic Drums  1019960\n",
      "         Acoustic Guitars   483050\n",
      "         Audio Interfaces   139730\n",
      "             Bass Guitars   634400\n",
      "        Classical Guitars   258250\n",
      "             DJ Equipment   526550\n",
      "           Digital Pianos   871850\n",
      "                Drum Kits   539600\n",
      "         Electric Guitars   742960\n",
      "                   Flutes   485500\n",
      "            Guitar Pedals   130160\n",
      "               Harmonicas    31232\n",
      "                Keyboards  1165950\n",
      "     Live Sound Equipment   657550\n",
      "         MIDI Controllers   396930\n",
      "              Microphones   240130\n",
      "Music Production Software   209326\n",
      "       Orchestral Strings    99110\n",
      "   Percussion Accessories    96390\n",
      "                   Pianos        0\n",
      "               Saxophones  1509000\n",
      "          Studio Monitors   161010\n",
      "             Synthesizers  1133790\n",
      "                 Trumpets   628000\n",
      "                 Ukuleles   417210\n",
      "                  Violins   191930\n"
     ]
    }
   ],
   "source": [
    "# Group the data by \"Product category\" and calculate the sum of \"Revenue\" for each group\n",
    "grouped_df_sales = sales_by_day.groupby('Product category')['Revenue'].sum().reset_index()\n",
    "\n",
    "# Display the resulting DataFrame as a table\n",
    "print(grouped_df_sales.to_string(index=False))"
   ]
  },
  {
   "cell_type": "code",
   "execution_count": 7,
   "metadata": {},
   "outputs": [
    {
     "name": "stdout",
     "output_type": "stream",
     "text": [
      "0\n"
     ]
    }
   ],
   "source": [
    "# check if there are duplicated in the sales_by_day csv file\n",
    "print(sales_by_day.duplicated().sum())"
   ]
  },
  {
   "cell_type": "markdown",
   "metadata": {},
   "source": [
    "### Top Customers"
   ]
  },
  {
   "cell_type": "code",
   "execution_count": 8,
   "metadata": {},
   "outputs": [
    {
     "name": "stdout",
     "output_type": "stream",
     "text": [
      "            Customer Name  Revenue\n",
      "0                Web Site   284790\n",
      "1   Crescendo Corner Ltd.   277990\n",
      "2  Symphony Supplies Inc.   272393\n",
      "3    Tempo Treasures Ltd.   252129\n",
      "4      Symphony Shop Ltd.   245906\n"
     ]
    }
   ],
   "source": [
    "print(top_customers.head())"
   ]
  },
  {
   "cell_type": "code",
   "execution_count": 9,
   "metadata": {},
   "outputs": [
    {
     "name": "stdout",
     "output_type": "stream",
     "text": [
      "              Customer Name  Revenue\n",
      "    Acoustic Artifacts Inc.    95680\n",
      "     Acoustic Artistry Ltd.   120340\n",
      "          Acoustic Aura LLC   116550\n",
      "      Acoustic Avenues Inc.   127430\n",
      "      Acoustic Avenues Ltd.   166390\n",
      "        Allegro Arcade Inc.   158486\n",
      "       Allegro Artisan Inc.   105710\n",
      "       Allegro Artisan Ltd.    92625\n",
      "        Allegro Attune Inc.   124470\n",
      "        Allegro Avenue Inc.    75350\n",
      "        Allegro Avenue Ltd.   144070\n",
      "       Crescendo Cache Inc.   136850\n",
      "Crescendo Collectibles Inc.   142060\n",
      "  Crescendo Collection Inc.   194755\n",
      " Crescendo Collections Ltd.   114436\n",
      "      Crescendo Corner Inc.   112990\n",
      "      Crescendo Corner Ltd.   277990\n",
      " Crescendo Cornerstone Inc.   164590\n",
      " Crescendo Cornerstone Ltd.   142140\n",
      "      Crescendo Crafts Inc.   212580\n",
      "      Crescendo Crafts Ltd.    95555\n",
      "   Crescendo Creations Inc.   132010\n",
      "    Crescendo Creations LLC   133845\n",
      " Crescendo Instruments Ltd.   153120\n",
      "         Echo Elegance Ltd.   127430\n",
      "         Echo Emporium Ltd.   156874\n",
      "        Echo Ensembles Inc.    77140\n",
      "        Echo Ensembles Ltd.   107441\n",
      "         Harmonic Hues Ltd.   140130\n",
      "   Harmonix Instruments LLC   133160\n",
      "         Harmony Haven Inc.   189110\n",
      "         Harmony Haven Ltd.   133100\n",
      "        Harmony Heaven Inc.   138074\n",
      "      Harmony Hideaway Inc.   116530\n",
      "       Harmony Hideout Ltd.   143095\n",
      "           Harmony Hub Inc.   127963\n",
      "  MeloSound Instruments LLC    75380\n",
      "        MeloSound Mall Inc.   141910\n",
      "    MeloSound Showcase Inc.    76650\n",
      "    MeloSound Showcase Ltd.   131390\n",
      "      MeloTune Traders Inc.   117770\n",
      "      MeloTune Traders Ltd.   193031\n",
      "          Melodic Muse Inc.   110590\n",
      "      Melodious Market Inc.    88910\n",
      "          Melody Magic Inc.   162230\n",
      "          Melody Magic Ltd.   131900\n",
      "         Melody Market Inc.    90406\n",
      "         Melody Market Ltd.   147060\n",
      "           Melody Mart Ltd.   143910\n",
      "      Melody Merchants Ltd.   192870\n",
      "            MelodyWorks LLC   155410\n",
      "      Rhythmic Harmony Inc.   154730\n",
      "        Rhythmic Realm Inc.   162525\n",
      "        Rhythmic Realm Ltd.    89270\n",
      "  Rhythmic Reflections Inc.    83000\n",
      "  Rhythmic Reflections Ltd.   132250\n",
      "    Rhythmic Resonance Ltd.   125255\n",
      "       Rhythmic Retail Inc.   112600\n",
      "      Rhythmic Reverie Inc.    85795\n",
      "      Rhythmic Reverie Ltd.   112360\n",
      "    Serenade Selection Inc.   162580\n",
      "    Serenade Selection Ltd.   148450\n",
      "     Serenade Showcase Ltd.   124530\n",
      "     Serenade Showroom Ltd.   231169\n",
      "    Serenade Solutions Inc.    87644\n",
      "    Serenade Solutions Ltd.    78350\n",
      "     Serenade Splendor Inc.   119284\n",
      "     Serenade Splendor Ltd.   111100\n",
      "        Serenade Store Ltd.   131840\n",
      "      Serenade Strings Ltd.    94240\n",
      "       Symphony Select Ltd.   174708\n",
      "         Symphony Shop Ltd.   245906\n",
      "   Symphony Soundscapes Co.   141950\n",
      "        Symphony Stock Inc.   125400\n",
      "        Symphony Stock Ltd.   113780\n",
      "    Symphony Stockpile Ltd.   155492\n",
      "     Symphony Supplies Inc.   272393\n",
      "       Tempo Treasures Ltd.   252129\n",
      "        Tempo Trinkets Inc.    96880\n",
      "        Tempo Trinkets Ltd.   149590\n",
      "           Tempo Trove Inc.   116677\n",
      "           Tempo Trove Ltd.    79880\n",
      "        TempoTune Music Co.   133710\n",
      "    Virtuoso Varieties Inc.   122150\n",
      "    Virtuoso Varieties Ltd.   176230\n",
      "        Virtuoso Vault Inc.   126833\n",
      "        Virtuoso Vault Ltd.   136370\n",
      "     Virtuoso Ventures Inc.   203830\n",
      "     Virtuoso Ventures Ltd.   159150\n",
      "        Virtuoso Vibes Ltd.   110750\n",
      "      Virtuoso Village Ltd.   154512\n",
      "                   Web Site   284790\n"
     ]
    }
   ],
   "source": [
    "# Group the data by \"Product category\" and calculate the sum of \"Revenue\" for each group\n",
    "grouped_df_customers = top_customers.groupby('Customer Name')['Revenue'].sum().reset_index()\n",
    "\n",
    "# Display the resulting DataFrame as a table\n",
    "print(grouped_df_customers.to_string(index=False))"
   ]
  },
  {
   "cell_type": "code",
   "execution_count": 10,
   "metadata": {},
   "outputs": [
    {
     "name": "stdout",
     "output_type": "stream",
     "text": [
      "(92, 2)\n"
     ]
    }
   ],
   "source": [
    "# size of the processed dataset\n",
    "print(grouped_df_customers.shape)\n"
   ]
  },
  {
   "cell_type": "code",
   "execution_count": 11,
   "metadata": {},
   "outputs": [
    {
     "name": "stdout",
     "output_type": "stream",
     "text": [
      "0\n"
     ]
    }
   ],
   "source": [
    "# check if there are duplicated in the top_customers csv file\n",
    "print(top_customers.duplicated().sum())"
   ]
  },
  {
   "cell_type": "markdown",
   "metadata": {},
   "source": [
    "### Top Products"
   ]
  },
  {
   "cell_type": "code",
   "execution_count": 12,
   "metadata": {},
   "outputs": [
    {
     "data": {
      "text/html": [
       "<div>\n",
       "<style scoped>\n",
       "    .dataframe tbody tr th:only-of-type {\n",
       "        vertical-align: middle;\n",
       "    }\n",
       "\n",
       "    .dataframe tbody tr th {\n",
       "        vertical-align: top;\n",
       "    }\n",
       "\n",
       "    .dataframe thead th {\n",
       "        text-align: right;\n",
       "    }\n",
       "</style>\n",
       "<table border=\"1\" class=\"dataframe\">\n",
       "  <thead>\n",
       "    <tr style=\"text-align: right;\">\n",
       "      <th></th>\n",
       "      <th>Product Description</th>\n",
       "      <th>Revenue</th>\n",
       "    </tr>\n",
       "  </thead>\n",
       "  <tbody>\n",
       "    <tr>\n",
       "      <th>0</th>\n",
       "      <td>Selmer Paris Reference 54 Alto</td>\n",
       "      <td>409500</td>\n",
       "    </tr>\n",
       "    <tr>\n",
       "      <th>1</th>\n",
       "      <td>Keilwerth SX90R</td>\n",
       "      <td>264000</td>\n",
       "    </tr>\n",
       "    <tr>\n",
       "      <th>2</th>\n",
       "      <td>Roland Fantom-8</td>\n",
       "      <td>248500</td>\n",
       "    </tr>\n",
       "    <tr>\n",
       "      <th>3</th>\n",
       "      <td>Tama Starclassic Bubinga 5-Piece Shell Pack</td>\n",
       "      <td>245000</td>\n",
       "    </tr>\n",
       "    <tr>\n",
       "      <th>4</th>\n",
       "      <td>Music Man John Petrucci Majesty</td>\n",
       "      <td>240000</td>\n",
       "    </tr>\n",
       "  </tbody>\n",
       "</table>\n",
       "</div>"
      ],
      "text/plain": [
       "                           Product Description  Revenue\n",
       "0               Selmer Paris Reference 54 Alto   409500\n",
       "1                              Keilwerth SX90R   264000\n",
       "2                              Roland Fantom-8   248500\n",
       "3  Tama Starclassic Bubinga 5-Piece Shell Pack   245000\n",
       "4              Music Man John Petrucci Majesty   240000"
      ]
     },
     "execution_count": 12,
     "metadata": {},
     "output_type": "execute_result"
    }
   ],
   "source": [
    "top_products.head()"
   ]
  },
  {
   "cell_type": "code",
   "execution_count": 13,
   "metadata": {},
   "outputs": [
    {
     "name": "stdout",
     "output_type": "stream",
     "text": [
      "                                          Product Description  Revenue\n",
      "                                                AKG C414 XLII    71500\n",
      "                                        Ableton Live 11 Suite    50250\n",
      "                                               Adam Audio A7X    21000\n",
      "                                          Akai MPK Mini MKIII     6700\n",
      "                                                  Akai MPK249    20800\n",
      "                                           Alesis Recital Pro    17150\n",
      "                                                  Alesis VI49    11500\n",
      "                                                  Alhambra 1C    21000\n",
      "                           Allen & Heath QU-16C Digital Mixer   151300\n",
      "                                       Allen & Heath Xone:PX5    98000\n",
      "              Alvarez Artist Series AF30 Folk Acoustic Guitar    19800\n",
      "                                Amahi UK660 Pineapple Ukulele     4760\n",
      "                              Anuenue aNN-900 Soprano Ukulele    76000\n",
      "                    Aquila New Nylgut Soprano Ukulele Strings      580\n",
      "                                       Arturia KeyLab 88 MKII    44100\n",
      "                                          Arturia KeyStep Pro    30800\n",
      "                                           Arturia MicroBrute    25550\n",
      "                                          Arturia MiniBrute 2    26500\n",
      "                                         Arturia MiniLab MkII     6710\n",
      "                                        Audio-Technica AT2020     7650\n",
      "                                               Avid Pro Tools    36539\n",
      "                             Azumi AZ2SRBO Intermediate Flute    60800\n",
      "                   Bach 180S37 Stradivarius Series Bb Trumpet   224000\n",
      "                                        Behringer DeepMind 12    51200\n",
      "                                           Behringer MOTOR 61    12300\n",
      "                                          Behringer NEKKST K5    10800\n",
      "                                           Behringer UMC404HD     6750\n",
      "                                  Behringer X32 Digital Mixer   158400\n",
      "                  Besson BE1000 Performance Series Bb Trumpet    45600\n",
      "                                                Bitwig Studio    20349\n",
      "                                     Blue Yeti USB Microphone     7930\n",
      "                     Bose L1 Pro16 Portable Line Array System   127800\n",
      "                                         Boss DS-1 Distortion     3850\n",
      "                                          Bunnel Pupil Violin    10600\n",
      "                                          Bushman Delta Frost     3800\n",
      "                                CME Xkey 37 LE Ultra-Portable    11800\n",
      "                             Cannonball Big Bell Stone Series   130000\n",
      "                                          Casio Privia PX-160    32000\n",
      "                                          Casio Privia PX-770    52500\n",
      "                             Cecilio CEVN-2BK Electric Violin     8400\n",
      "                          Cecilio CVN-300 Ebony Fitted Violin     7150\n",
      "                                       Chase Bliss Audio Mood    23100\n",
      "                                                Cockos REAPER     2520\n",
      "                  Conn 52BSP CONNstellation Series Bb Trumpet    42000\n",
      "                                 Cordoba 15CM Concert Ukulele     6840\n",
      "                                  Cordoba C5 Classical Guitar    29400\n",
      "                        Cremona SV-175 Premier Student Violin    27300\n",
      "                       D'Addario Helicore Double Bass Strings    10600\n",
      "                          D'Addario Prelude Violin String Set     3760\n",
      "                                 DJ TechTools Midi Fighter 64    12980\n",
      "                             DW 9000 Series Double Bass Pedal    29400\n",
      "                            DW Design Series 5-Piece Drum Kit   118500\n",
      "                          DW Design Series Frequent Flyer Kit    70800\n",
      "                              Dave Smith Instruments Mopho x4    52200\n",
      "                                  Dave Smith Instruments OB-6   156000\n",
      "                          Dave Smith Instruments Prophet Rev2    96000\n",
      "                                             Denon DJ Prime 4    99000\n",
      "                                         Di Zhao DZ-400 Flute    94800\n",
      "                                              Digitech Whammy    12600\n",
      "                 Dixon Gregg Bissonette Signature Steel Snare    21250\n",
      "                                          Dunlop Cry Baby Wah     6600\n",
      "                                              ESP LTD EC-1000    37800\n",
      "                            EarthQuaker Devices Avalanche Run    19500\n",
      "                                                EastTop T008K     1710\n",
      "                              Eastar EFL-1 Closed Hole Flutes     9800\n",
      "                                 Electro-Harmonix Big Muff Pi     2480\n",
      "                     Electro-Voice ELX200-10P Powered Speaker    28400\n",
      "                                           Electro-Voice RE20    23400\n",
      "                              Epiphone DR-100 Acoustic Guitar     9900\n",
      "                                     Epiphone Les Paul Studio    26100\n",
      "                          Epiphone Thunderbird Classic-IV PRO    37800\n",
      "                             Evans EMAD2 Clear Bass Drum Head     3050\n",
      "                                   FL Studio Producer Edition    12139\n",
      "                    Fender American Professional Stratocaster    85400\n",
      "                         Fender American Ultra Precision Bass   100800\n",
      "                                Fender Blues Deluxe Harmonica      492\n",
      "                    Fender CD-60S Dreadnought Acoustic Guitar    10000\n",
      "                                                Fender CN-60S    14950\n",
      "                                  Fender FV-1 Electric Violin    44400\n",
      "                                Fender Venice Soprano Ukulele     4200\n",
      "                                Flight NUS310 Soprano Ukulele     4080\n",
      "                                               Focal Alpha 50    21000\n",
      "                                       Focusrite Scarlett 2i2    10710\n",
      "                                Franz Hoffmann Amadeus Violin    14800\n",
      "                                        Gemeinhardt 3OB Flute    73000\n",
      "                                    Gemeinhardt Model 3 Flute    72600\n",
      "                                                Genelec 8010A    25550\n",
      "                         Getzen 390 Series Student Bb Trumpet    72000\n",
      "                                               Giannini GN-15     9600\n",
      "                              Gibraltar 6700-PK Hardware Pack    15300\n",
      "                Gibson J-45 Standard Acoustic-Electric Guitar   111600\n",
      "                                     Gibson Les Paul Standard   177500\n",
      "                                      Gibson SG Standard Bass   103500\n",
      "                Gretsch Catalina Club Jazz 4-Piece Shell Pack    67200\n",
      "                      Gretsch Catalina Maple 7-Piece Drum Kit    63600\n",
      "                         Gretsch G9120 Tenor Standard Ukulele    10030\n",
      "                                          Hering Vintage Harp     5040\n",
      "                                  Hohner Special 20 Harmonica     2520\n",
      "                               Holton T602 Student Bb Trumpet    48600\n",
      "                                      IK Multimedia iRig HD 2     6200\n",
      "                               IK Multimedia iRig Keys 37 Pro     7200\n",
      "           Ibanez AW54OPN Artwood Dreadnought Acoustic Guitar    17500\n",
      "                               Ibanez GA5TCE Classical Guitar    12300\n",
      "                                                 Ibanez RG550    66600\n",
      "                                                Ibanez SR505E    24000\n",
      "                                Ibanez UEW15E Concert Ukulele    10200\n",
      "                               JBL EON615 Portable PA Speaker    37000\n",
      "                                                   JBL LSR305    17400\n",
      "                             Jargar Superior Cello String Set    14250\n",
      "                            Jean Paul USA AS-400 Student Alto    28500\n",
      "                     Jean Paul USA Silver-Plated Flute FL-220     8400\n",
      "                Jean Paul USA TR-330 Standard Student Trumpet     8200\n",
      "                                Jupiter JAS700 Alto Saxophone    62000\n",
      "                                 Jupiter JFL710 Student Flute    32400\n",
      "            Jupiter JTR700 Standard Series Student Bb Trumpet    46400\n",
      "                                               KRK Rokit 5 G4    10500\n",
      "                                           Kaizer ASAX-1000LQ    22800\n",
      "                         Kala KA-15S Mahogany Soprano Ukulele     4130\n",
      "                               Kalani Kal 200 Soprano Ukulele     1800\n",
      "                         Kamaka HF-1 Standard Soprano Ukulele    67200\n",
      "                                 Kanile'a K-1 Concert Ukulele    74400\n",
      "                                                  Kawai ES110    30100\n",
      "                                              Keilwerth SX90R   264000\n",
      "                     King 2055 Silver Flair Series Bb Trumpet    73500\n",
      "                               KoAloha KSM-00 Soprano Ukulele    64900\n",
      "                                                      Korg B2    36000\n",
      "                                           Korg Grandstage 88   176000\n",
      "                                               Korg Kronos 88   192000\n",
      "                                               Korg Minilogue    24000\n",
      "                                               Korg Monologue    18000\n",
      "                                            Korg microKEY2-37     5670\n",
      "                                                Kremona Solea    90000\n",
      "                                     Kremona V1 Artist Violin    42400\n",
      "                                              La Patrie Etude    22800\n",
      "                                Lanikai LU-21 Soprano Ukulele     3240\n",
      "                               Larsen Magnacore Cello Strings    20700\n",
      "                            Latin Percussion LP1207 Jam Block     1680\n",
      "                           Lee Oskar Major Diatonic Harmonica     2880\n",
      "                                     Line 6 DL4 Delay Modeler    19250\n",
      "                                                  Logic Pro X    16600\n",
      "                                Ludwig Black Magic Snare Drum    24400\n",
      "                   Ludwig Breakbeats by Questlove 4-Piece Kit    28800\n",
      "                         Ludwig Vistalite John Bonham Zep Set   147200\n",
      "                         Luna Tattoo Concert Mahogany Ukulele     2000\n",
      "                                            M-Audio AIR 192|6     5100\n",
      "                                               M-Audio BX5 D3     9450\n",
      "                                       M-Audio Oxygen 49 MKIV     7350\n",
      "                                        M-Audio Oxygen Pro 49    15640\n",
      "                                                      MOTU M2     9600\n",
      "                            MXR M169 Carbon Copy Analog Delay     9450\n",
      "                                                   Mackie CR3     4200\n",
      "                          Mackie Thump15A Powered Loudspeaker    21700\n",
      "                        Mahalo Rainbow Series Soprano Ukulele     1280\n",
      "                   Mapex Armory 6-Piece Studioease Shell Pack    27900\n",
      "                       Mapex Black Panther Blaster Snare Drum    29260\n",
      "                          Mapex Mars 600 Series Hardware Pack    22750\n",
      "                      Martin D-28 Dreadnought Acoustic Guitar   138000\n",
      "                                Martin S1 Uke Soprano Ukulele    38250\n",
      "                   Meinl Cymbals HCS-SCS1 Ultimate Cymbal Set    32000\n",
      "                              Mendini by Cecilio Gold Trumpet     7500\n",
      "                                             Moog Grandmother    59400\n",
      "                                               Moog Mother-32    26400\n",
      "                                                  Moog Sub 37   105000\n",
      "                              Music Man John Petrucci Majesty   240000\n",
      "                                      Music Man StingRay 5 HH   154000\n",
      "                          Native Instruments Komplete Audio 6    17750\n",
      "                      Native Instruments Komplete Kontrol M32     9940\n",
      "                        Native Instruments Traktor Kontrol S3    42250\n",
      "                                          Nektar Impact LX49+    10880\n",
      "                                              Neumann TLM 103    46800\n",
      "                                                 Nord Lead A1    84600\n",
      "                                              Nord Stage 3 88   225000\n",
      "                                         Nord Stage 3 Compact   227500\n",
      "                                     Novation Bass Station II    29240\n",
      "                                  Novation Launchkey Mini MK3     8580\n",
      "                                                Novation Peak   102200\n",
      "                                         Novation SL MkIII 61    54600\n",
      "                                       Numark Mixtrack Pro FX    16000\n",
      "                                             Numark Party Mix     4800\n",
      "                            Oscar Schmidt OU5 Concert Ukulele     7920\n",
      "        Ovation Celebrity Elite Plus Acoustic-Electric Guitar    42000\n",
      "                                 P. Mauriat PMXA-67R Alto Sax   177000\n",
      "                   PDP by DW 7-Piece Concept Maple Shell Pack    57000\n",
      "                                             PRS SE Custom 24    47600\n",
      "                                        Pearl D50 Drum Throne     3660\n",
      "                            Pearl Export EXX 5-Piece Drum Set    43400\n",
      "                                     Pearl Quantz 505RE Flute    35700\n",
      "                              Pearl Roadshow 5-Piece Drum Set    42000\n",
      "                           Pearl Sensitone Premium Snare Drum    17100\n",
      "                     Pioneer DJ DDJ-1000 4-channel controller    66000\n",
      "                                            Pioneer DJ DJM-S9    72000\n",
      "                 Pirastro Evah Pirazzi Gold Violin String Set     6960\n",
      "                              Pirastro Obligato Viola Strings     8280\n",
      "                                     Pono MCD Concert Ukulele    27200\n",
      "                                     PreSonus AudioBox USB 96     7900\n",
      "                                           PreSonus Eris E3.5     6700\n",
      "                           Presonus Studio One 5 Professional    28400\n",
      "                                         Propellerhead Reason    12369\n",
      "                                 QSC K12.2 Active Loudspeaker    41600\n",
      "                                 Reloop Mixon 4 DJ Controller    39200\n",
      "                             Remo Ambassador Coated Drum Head     2480\n",
      "                                            Rickenbacker 4003   110000\n",
      "                                                   Rode NT1-A    20750\n",
      "                                 Rogers Dyna-Sonic Snare Drum    34500\n",
      "                                            Roland A-500PRO-R    21900\n",
      "                                  Roland DJ-505 DJ Controller    49700\n",
      "                                                 Roland FP-30    36400\n",
      "                                              Roland Fantom-8   248500\n",
      "                                                 Roland JD-Xi    23500\n",
      "                                             Roland JUNO-DS61    50400\n",
      "                                               Roland RD-2000   207500\n",
      "                                              Roland System-8   105000\n",
      "                                        Roli Seaboard Rise 49    58650\n",
      "                         Sabian HHX Evolution Performance Set    59400\n",
      "                         Samson Carbon 49 USB MIDI Controller     1680\n",
      "                                      Schecter Hellraiser C-1    36800\n",
      "                                   Schecter Stiletto Studio-5    28800\n",
      "                          Seagull S6 Original Acoustic Guitar    16650\n",
      "                               Selmer Paris Reference 54 Alto   409500\n",
      "                                     Selmer SAS280 La Voix II   132000\n",
      "                Sennheiser EW 500 G4 Handheld Wireless System    48000\n",
      "                                          Sennheiser MD421 II    22000\n",
      "                                         Sequential Prophet-6   142800\n",
      "                                 Seydel 1847 Silver Harmonica     6000\n",
      "                            Shure BLX288/PG58 Wireless System    33550\n",
      "                                                   Shure SM58     5100\n",
      "                              Solista Cello Strings by Larsen     7920\n",
      "                            Sonor AQ2 Safari 4-Piece Drum Set    17500\n",
      "                                 Sonor SQ1 3-Piece Shell Pack   173600\n",
      "                                    Squier Affinity Jazz Bass    14100\n",
      "                                   Squier Affinity Telecaster    11960\n",
      "                                         Steinberg Cubase Pro    30160\n",
      "                                              Steinberg UR22C     9120\n",
      "                                    Stentor Student II Violin     6500\n",
      "                                  Strymon BigSky Reverberator    26880\n",
      "                                            Suzuki Manji M-20     3050\n",
      "                                     Suzuki Promaster Hammond     4640\n",
      "                                                TASCAM DR-40X    12600\n",
      "                                                TASCAM US-4x4    10800\n",
      "                            TC Electronic Hall of Fame Reverb     6450\n",
      "    Tama Imperialstar 5-Piece Drum Set with Meinl HCS Cymbals    31500\n",
      "              Tama Imperialstar 6-Piece Drum Set with Cymbals    65600\n",
      "                                    Tama Iron Cobra 200 Pedal     7830\n",
      "                  Tama Starclassic Bubinga 5-Piece Shell Pack   245000\n",
      "Taylor 214ce Deluxe Grand Auditorium Acoustic-Electric Guitar    84000\n",
      "                                          Taylor Academy 12-N    37050\n",
      "                                     Teenage Engineering OP-1   124800\n",
      "                                     Teenage Engineering OP-Z    31200\n",
      "                     Thomastik-Infeld Dominant Violin Strings     5400\n",
      "               Thomastik-Infeld Spirocore Double Bass Strings    19000\n",
      "                                           Traktor Kontrol Z2    39600\n",
      "                                       Trevor James 10X Flute    54000\n",
      "                                Universal Audio Apollo Twin X    55800\n",
      "                     Vic Firth American Classic 5A Drumsticks      490\n",
      "                                              Waldorf Blofeld    22500\n",
      "                                Waltons Irish Black Harmonica     1100\n",
      "                               Warchal Karneol Violin Strings     4720\n",
      "                              Warwick Rockbass Corvette Basic    37600\n",
      "                               Washburn C5CE Classical Guitar    11250\n",
      "                                Yamaha C40II Classical Guitar     9900\n",
      "                       Yamaha FG830 Solid Top Acoustic Guitar    33600\n",
      "                                         Yamaha GL1 Guitalele     8200\n",
      "                                                   Yamaha HS8    34410\n",
      "                                          Yamaha MG10XU Mixer     9800\n",
      "                                                 Yamaha MODX6    67600\n",
      "                                Yamaha MX49 Music Synthesizer    26000\n",
      "                                             Yamaha Montage 8   156000\n",
      "                                                 Yamaha P-125    37700\n",
      "                                         Yamaha Pacifica 112V    13200\n",
      "                                             Yamaha Reface CS    12800\n",
      "                 Yamaha Stage Custom Birch 5-Piece Shell Pack    87400\n",
      "                                               Yamaha TRBX304    23800\n",
      "                                           Yamaha V5SC Violin    27900\n",
      "                                Yamaha YAS-280 Alto Saxophone    67200\n",
      "                                         Yamaha YDP-144 Arius    71500\n",
      "                            Yamaha YFL-222 Intermediate Flute    44000\n",
      "                          Yamaha YTR-2330 Standard Bb Trumpet    60200\n",
      "                                    Yanagisawa AWO10 Alto Sax   216000\n",
      "                                Zildjian A Custom Cymbal Pack    63900\n",
      "                                          Zildjian Drumsticks      500\n",
      "                                       Zoom H6 Handy Recorder    22400\n"
     ]
    }
   ],
   "source": [
    "# Group the data by \"Product category\" and calculate the sum of \"Revenue\" for each group\n",
    "grouped_df_products = top_products.groupby('Product Description')['Revenue'].sum().reset_index()\n",
    "\n",
    "# Display the resulting DataFrame as a table\n",
    "print(grouped_df_products.to_string(index=False))"
   ]
  },
  {
   "cell_type": "code",
   "execution_count": 14,
   "metadata": {},
   "outputs": [
    {
     "name": "stdout",
     "output_type": "stream",
     "text": [
      "(281, 2)\n"
     ]
    }
   ],
   "source": [
    "print(grouped_df_products.shape)"
   ]
  },
  {
   "cell_type": "code",
   "execution_count": 15,
   "metadata": {},
   "outputs": [
    {
     "name": "stdout",
     "output_type": "stream",
     "text": [
      "0\n"
     ]
    }
   ],
   "source": [
    "# check if there are duplicated in the top_products csv file\n",
    "print(top_products.duplicated().sum())"
   ]
  },
  {
   "cell_type": "markdown",
   "metadata": {},
   "source": [
    "### Order Statistics"
   ]
  },
  {
   "cell_type": "code",
   "execution_count": 16,
   "metadata": {},
   "outputs": [
    {
     "name": "stdout",
     "output_type": "stream",
     "text": [
      "            Channel  Orders Count  Order Lines  Quantity in pieces  \\\n",
      "0  Online Retailers           520         3683                5160   \n",
      "1     Retail Stores          1170         4150                4632   \n",
      "2          Web Site           270          350                 396   \n",
      "3       Wholesalers           355         5100                6783   \n",
      "\n",
      "   Quantity in boxes   Amount  Percentage of fulfillment  \n",
      "0                746  3642673                         98  \n",
      "1                667  3513708                         97  \n",
      "2                 56   284790                         99  \n",
      "3                956  5328397                         96  \n"
     ]
    }
   ],
   "source": [
    "print(order_statistics.head())"
   ]
  },
  {
   "cell_type": "markdown",
   "metadata": {},
   "source": [
    "### Understocked Products"
   ]
  },
  {
   "cell_type": "code",
   "execution_count": 17,
   "metadata": {},
   "outputs": [
    {
     "name": "stdout",
     "output_type": "stream",
     "text": [
      "                         Product Description  Minimum stock  Current stock  \\\n",
      "0                           Apple GarageBand              8              3   \n",
      "1  Aquila New Nylgut Soprano Ukulele Strings              5              1   \n",
      "2           Bosendorfer Imperial Grand Piano              9              0   \n",
      "3       Casio CDP-S150 Compact Digital Piano              7              2   \n",
      "4                              EastTop T008K              6              2   \n",
      "\n",
      "   Expected Qty  Required stock  \n",
      "0            15               1  \n",
      "1            13               0  \n",
      "2            10               0  \n",
      "3            18               0  \n",
      "4             1               1  \n"
     ]
    }
   ],
   "source": [
    "print(understocked_products.head())"
   ]
  },
  {
   "cell_type": "markdown",
   "metadata": {},
   "source": [
    "### Cashflow"
   ]
  },
  {
   "cell_type": "code",
   "execution_count": 18,
   "metadata": {},
   "outputs": [
    {
     "name": "stdout",
     "output_type": "stream",
     "text": [
      "    Debit  Credit  Balance  Inflows Forecast  Outflows Forecast  \\\n",
      "0  300000  450000   150000          15000000            9000000   \n",
      "\n",
      "   Projected Balance  \n",
      "0           23850000  \n"
     ]
    }
   ],
   "source": [
    "print(cash_flow_report.head())"
   ]
  },
  {
   "cell_type": "code",
   "execution_count": 27,
   "metadata": {},
   "outputs": [
    {
     "name": "stdout",
     "output_type": "stream",
     "text": [
      "2134744\n"
     ]
    }
   ],
   "source": [
    "# Initialize total revenue for the specified date\n",
    "total_revenue_M = 0\n",
    "\n",
    "# Iterate over each row in the sales by day and add when date is 20/04/2024\n",
    "for index, row in sales_by_day.iterrows():\n",
    "    if row['Date'] == '15/04/2024':\n",
    "        total_revenue_M += row['Revenue']\n",
    "\n",
    "# Print the total revenue\n",
    "print(total_revenue_M)"
   ]
  },
  {
   "cell_type": "code",
   "execution_count": 28,
   "metadata": {},
   "outputs": [
    {
     "name": "stdout",
     "output_type": "stream",
     "text": [
      "2083229\n"
     ]
    }
   ],
   "source": [
    "# Initialize total revenue for the specified date\n",
    "total_revenue_Y = 0\n",
    "\n",
    "# Iterate over each row in the sales by day and add when date is 20/04/2024\n",
    "for index, row in sales_by_day.iterrows():\n",
    "    if row['Date'] == '20/04/2024':\n",
    "        total_revenue_Y += row['Revenue']\n",
    "\n",
    "# Print the total revenue\n",
    "print(total_revenue_Y)"
   ]
  },
  {
   "cell_type": "code",
   "execution_count": 29,
   "metadata": {},
   "outputs": [
    {
     "name": "stdout",
     "output_type": "stream",
     "text": [
      "51515\n"
     ]
    }
   ],
   "source": [
    "print(total_revenue_M - total_revenue_Y)"
   ]
  },
  {
   "cell_type": "code",
   "execution_count": 25,
   "metadata": {},
   "outputs": [
    {
     "name": "stdout",
     "output_type": "stream",
     "text": [
      "26\n"
     ]
    }
   ],
   "source": [
    "# Initialize total revenue for the specified date\n",
    "count = 0\n",
    "\n",
    "# Iterate over each row in the sales by day and add when date is 20/04/2024\n",
    "for index, row in sales_by_day.iterrows():\n",
    "    if row['Date'] == '15/04/2024':\n",
    "        count += 1\n",
    "\n",
    "# Print the total revenue\n",
    "print(count)"
   ]
  },
  {
   "cell_type": "code",
   "execution_count": 26,
   "metadata": {},
   "outputs": [
    {
     "name": "stdout",
     "output_type": "stream",
     "text": [
      "26\n"
     ]
    }
   ],
   "source": [
    "# Initialize total revenue for the specified date\n",
    "count = 0\n",
    "\n",
    "# Iterate over each row in the sales by day and add when date is 20/04/2024\n",
    "for index, row in sales_by_day.iterrows():\n",
    "    if row['Date'] == '20/04/2024':\n",
    "        count += 1\n",
    "\n",
    "# Print the total revenue\n",
    "print(count)"
   ]
  }
 ],
 "metadata": {
  "kernelspec": {
   "display_name": "Python 3",
   "language": "python",
   "name": "python3"
  },
  "language_info": {
   "codemirror_mode": {
    "name": "ipython",
    "version": 3
   },
   "file_extension": ".py",
   "mimetype": "text/x-python",
   "name": "python",
   "nbconvert_exporter": "python",
   "pygments_lexer": "ipython3",
   "version": "3.11.4"
  }
 },
 "nbformat": 4,
 "nbformat_minor": 2
}
