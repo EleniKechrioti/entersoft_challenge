{
 "cells": [
  {
   "cell_type": "code",
   "execution_count": 204,
   "metadata": {},
   "outputs": [
    {
     "data": {
      "text/plain": [
       "['../api_key.ini']"
      ]
     },
     "execution_count": 204,
     "metadata": {},
     "output_type": "execute_result"
    }
   ],
   "source": [
    "import configparser\n",
    "config = configparser.RawConfigParser()\n",
    "config.read(\"../api_key.ini\")"
   ]
  },
  {
   "cell_type": "code",
   "execution_count": 205,
   "metadata": {},
   "outputs": [
    {
     "name": "stdout",
     "output_type": "stream",
     "text": [
      "['API_KEY']\n"
     ]
    }
   ],
   "source": [
    "print(config.sections())"
   ]
  },
  {
   "cell_type": "code",
   "execution_count": 206,
   "metadata": {},
   "outputs": [],
   "source": [
    "import cohere\n",
    "API_KEY = config[config.sections()[0]]['api_key']\n",
    "co = cohere.Client(API_KEY)"
   ]
  },
  {
   "cell_type": "code",
   "execution_count": 207,
   "metadata": {},
   "outputs": [],
   "source": [
    "# Read processed txt file\n",
    "with open(\"../data/processed/processed_data.txt\", \"r\") as f:\n",
    "    text = f.read()"
   ]
  },
  {
   "cell_type": "code",
   "execution_count": 208,
   "metadata": {},
   "outputs": [
    {
     "name": "stdout",
     "output_type": "stream",
     "text": [
      "The text has been broken down in 216 chunks.\n"
     ]
    }
   ],
   "source": [
    "from langchain_text_splitters import RecursiveCharacterTextSplitter\n",
    "\n",
    "# Create basic configurations to chunk the text\n",
    "text_splitter = RecursiveCharacterTextSplitter(\n",
    "    chunk_size=256,\n",
    "    chunk_overlap=10,\n",
    "    length_function=len,\n",
    "    is_separator_regex=False,\n",
    ")\n",
    "\n",
    "# Split the text into chunks with some overlap\n",
    "chunks_ = text_splitter.create_documents([text])\n",
    "chunks = [c.page_content for c in chunks_]\n",
    "print(f\"The text has been broken down in {len(chunks)} chunks.\")"
   ]
  },
  {
   "cell_type": "code",
   "execution_count": 209,
   "metadata": {},
   "outputs": [
    {
     "name": "stdout",
     "output_type": "stream",
     "text": [
      "We just computed 216 embeddings.\n"
     ]
    }
   ],
   "source": [
    "response = co.embed(\n",
    "    texts= chunks,\n",
    "    model=\"embed-english-v3.0\",\n",
    "    input_type=\"search_document\",\n",
    "    embedding_types=['float']\n",
    ")\n",
    "embeddings = response.embeddings.float\n",
    "print(f\"We just computed {len(embeddings)} embeddings.\")"
   ]
  },
  {
   "cell_type": "code",
   "execution_count": 210,
   "metadata": {},
   "outputs": [],
   "source": [
    "import numpy as np\n",
    "vector_database = {i: np.array(embedding) for i, embedding in enumerate(embeddings)}"
   ]
  },
  {
   "cell_type": "code",
   "execution_count": 211,
   "metadata": {},
   "outputs": [],
   "source": [
    "# from flask import current_app as app\n",
    "\n",
    "\n",
    "# search_limit = app.config.get(\"SEARCH_LIMIT\")"
   ]
  },
  {
   "cell_type": "code",
   "execution_count": 212,
   "metadata": {},
   "outputs": [],
   "source": [
    "# created_connector = co.create_connector(\n",
    "#             name=\"connector1\",\n",
    "#             url=\"https://connector-example.com/search\",\n",
    "#         )"
   ]
  },
  {
   "cell_type": "code",
   "execution_count": 213,
   "metadata": {},
   "outputs": [],
   "source": [
    "# connectors=[{\"id\": \"web-search\"}, {\"id\": \"customer-connector-id\"}]"
   ]
  },
  {
   "cell_type": "code",
   "execution_count": 214,
   "metadata": {},
   "outputs": [],
   "source": [
    "# add the user's message to the chat history\n",
    "# chat.chat_history.append(\n",
    "#     ChatMessage(\n",
    "#         role=\"USER\", message=\"I want to know the number of orders from the last week.\",\n",
    "#     )\n",
    "# )"
   ]
  },
  {
   "cell_type": "code",
   "execution_count": 215,
   "metadata": {},
   "outputs": [],
   "source": [
    "query = \"What was our total revenue from last week ?\""
   ]
  },
  {
   "cell_type": "code",
   "execution_count": 216,
   "metadata": {},
   "outputs": [
    {
     "name": "stdout",
     "output_type": "stream",
     "text": [
      "query_embedding:  [0.02381897, -0.032470703, -0.040008545, -0.031433105, -0.038726807, -0.04055786, -0.0067749023, 0.05001831, 0.01108551, -0.017837524, -0.026428223, 0.02758789, -0.045410156, -0.026184082, 0.035339355, -0.022644043, 0.016799927, -0.028579712, 0.022903442, -0.004508972, 0.038391113, -0.006717682, 0.058898926, -0.0053749084, -0.0036964417, 0.018508911, -0.04827881, 0.0017585754, -0.018814087, -0.00699234, -0.0057525635, 0.015037537, 0.013900757, -0.017852783, 0.019821167, -0.011260986, 0.05895996, -0.040130615, -0.0001937151, 0.0062789917, -0.008346558, -0.0032215118, 0.02885437, -0.043304443, -0.0073890686, 0.024398804, -0.022338867, -0.022506714, -0.009544373, 0.025878906, -0.019760132, -0.003156662, 0.004852295, 0.03527832, -0.019927979, 0.011207581, -0.031311035, -0.018508911, 0.053497314, 0.021774292, -0.016296387, -0.039245605, 0.015792847, -0.04333496, -0.040130615, -0.041900635, -0.029754639, 0.022842407, 0.03665161, -0.027877808, 0.016799927, 0.061065674, 0.015930176, 0.015853882, -0.044189453, -0.043029785, 0.04486084, -0.021026611, 0.011436462, 0.0018424988, 0.021759033, 0.012161255, -0.052246094, 0.052825928, -0.021759033, 0.043029785, -0.0073928833, -0.03778076, 0.039245605, -0.020812988, 0.018081665, -0.024032593, 0.0074043274, 0.043182373, -0.001964569, -0.04937744, 0.011711121, 0.032165527, -0.009490967, -0.020248413, -0.07543945, 0.02734375, -0.08734131, -0.017990112, 0.018035889, 0.014717102, -0.021362305, 0.039886475, 0.08068848, 0.026290894, 0.011428833, 0.03186035, -0.008743286, 0.0018987656, -0.07672119, 0.038879395, -0.021408081, -0.024597168, 0.005077362, 0.030258179, -0.027404785, -0.024414062, -0.0027217865, 0.026611328, 0.009262085, -0.01171875, -0.010536194, 0.023605347, 0.0115737915, 0.053527832, 0.012435913, -0.0082092285, -0.04977417, -0.010017395, -0.022476196, -0.035064697, 0.03756714, 0.02822876, 0.0017089844, 0.008781433, 0.0048599243, -0.0069618225, 0.01751709, 0.010856628, 0.0317688, -0.021347046, 0.0093688965, 0.023010254, 0.047424316, 0.045715332, -0.0066070557, -0.003917694, 0.022888184, -0.0058898926, 0.01272583, -0.019073486, 0.017089844, -0.057495117, -0.007381439, -0.018188477, 0.020767212, -0.01737976, 0.038330078, 0.037597656, -0.0005893707, 0.015930176, -0.003894806, 0.0009937286, 0.012138367, -0.059509277, 0.002067566, -0.009422302, 0.028839111, 0.00548172, 0.0234375, 0.04714966, 0.01675415, 0.0078048706, 0.014755249, -0.03616333, -0.05645752, -0.061309814, 0.019012451, -0.031677246, -0.0035629272, -0.042999268, 0.010093689, 0.02772522, 0.022857666, 0.017837524, -0.019515991, -0.00680542, -0.007205963, -0.049072266, 0.014335632, -0.037200928, -0.040740967, -0.032928467, -0.005001068, 0.06677246, -0.061401367, 0.04071045, 0.033569336, 0.0013532639, 0.03527832, 0.027801514, 0.005844116, 0.039123535, -0.097961426, 0.0690918, 0.07324219, 0.021591187, -0.071899414, 0.043182373, 0.08343506, -0.043151855, -0.018218994, 0.050628662, 0.02029419, -0.004432678, 0.02720642, -0.019485474, 0.038330078, 0.010810852, -0.0018358231, -0.033081055, -0.02319336, -0.019500732, -0.008041382, -0.030731201, 0.065979004, 0.05621338, 0.073791504, 0.05731201, -0.03604126, 0.0038928986, 0.009971619, -0.0019483566, -0.0184021, 0.022125244, 0.0115356445, 0.011444092, -0.04067993, -0.0068893433, 0.002450943, -0.007873535, 0.019515991, -0.0069847107, -0.026367188, 0.015335083, 0.046173096, -0.002286911, -0.016662598, -0.022888184, -0.028915405, 0.021865845, -7.6293945e-06, -0.022918701, 0.03970337, -0.036590576, 0.025299072, -0.007411957, -0.04660034, 0.015808105, -0.008018494, -0.010154724, 0.020996094, 0.045776367, -0.03100586, -0.050201416, 0.023635864, 0.05706787, 0.01676941, -0.048065186, -0.009941101, 0.0058555603, -0.028442383, 0.0045051575, 0.035461426, -0.02128601, -0.03363037, -0.020812988, -0.010139465, 0.0067329407, -0.0141067505, 0.017745972, 0.04360962, 0.016937256, 0.022445679, -0.009529114, 0.0010290146, 0.086242676, 0.03842163, -0.002286911, 0.05606079, -0.0062942505, 0.04977417, 0.0015220642, 0.0056266785, -0.034240723, -0.015411377, 0.005882263, -0.055786133, 0.019683838, -0.0028648376, -0.018814087, -0.02458191, 0.03137207, 0.02848816, -0.027526855, -0.009048462, 0.05999756, 0.035064697, 0.051116943, -0.06866455, -0.037475586, -0.07495117, 0.009552002, -0.14343262, -0.06390381, -0.0446167, 0.0020923615, 0.007144928, 0.0129470825, -0.0008378029, 0.012626648, 0.004283905, 0.020584106, 0.022918701, 0.02645874, 0.03439331, 0.054626465, -0.00011998415, 0.024627686, -0.0050735474, 0.014770508, 0.009933472, 0.019439697, -0.006587982, 0.0032024384, -0.0011577606, -0.020828247, 0.0071372986, -0.03591919, -0.022781372, 0.0022563934, -0.027038574, -0.008216858, -0.04812622, -0.03274536, 0.002445221, -0.02670288, -0.002084732, -0.0015230179, 0.0057373047, -0.028015137, 0.006427765, 0.034179688, -0.019241333, -0.03353882, -0.007068634, 0.03074646, -0.013114929, -0.028945923, -0.048919678, -0.025512695, 0.009483337, 0.02456665, -0.0317688, -0.05001831, -0.0045547485, -0.06488037, 0.02420044, 0.027770996, 0.05368042, 0.019104004, 0.0121154785, -0.03652954, 0.009460449, 0.009231567, 0.0076560974, 8.523464e-05, 0.013008118, -0.003364563, 0.03756714, 0.020431519, 0.047912598, 0.023635864, 0.08239746, -0.012962341, 0.040740967, 0.002565384, 0.02671814, -0.024612427, 0.024139404, -0.0038013458, 0.034606934, 0.018218994, -0.03262329, -0.03213501, 0.0041236877, -0.043701172, -0.022583008, -0.03656006, 0.02810669, -0.050750732, 0.04888916, -0.027832031, 0.048858643, -0.011192322, 0.0031547546, -0.0007276535, 0.015716553, -0.031829834, -0.039001465, -0.005531311, 0.068481445, 0.013366699, 0.034179688, -0.03829956, -0.0038661957, 0.039276123, 0.014976501, 0.0056762695, -0.049835205, 0.015220642, -0.0020332336, 0.06628418, 0.022232056, -0.042938232, -0.01838684, -0.024536133, -0.026885986, -0.092163086, -0.02418518, -0.01361084, -0.01133728, 0.06524658, -0.00598526, 0.01197052, -0.0067481995, 0.026107788, -0.008293152, 0.036987305, 0.015304565, -0.034179688, 0.0021858215, -0.017089844, -0.018447876, 0.0018072128, -0.025863647, 0.00039315224, 0.066345215, 0.0309906, -0.014038086, -0.001832962, -0.012931824, 0.017410278, 0.006587982, 0.0062065125, 0.00970459, -0.017578125, -0.04385376, 0.0042152405, 0.011787415, -0.009300232, 0.023345947, 0.014137268, 0.011672974, -0.0048980713, 0.023986816, -0.04763794, 0.029418945, 0.0060157776, -0.0062942505, 0.02192688, -0.0054397583, -0.021224976, 0.03277588, 0.0126953125, 0.03024292, -0.010757446, -0.007041931, 0.036468506, -0.00349617, 0.026489258, -0.02204895, 0.0317688, 0.012023926, -0.0128479, 0.028076172, 0.0038108826, 0.0546875, -0.039154053, 0.011917114, -0.05053711, 0.0041885376, 0.013961792, -0.019927979, 0.0057029724, -0.08312988, -0.008171082, -0.044952393, 0.0053710938, -0.009361267, 0.032196045, 0.0063667297, 0.0073661804, 0.0045318604, -0.053863525, 0.02583313, -0.030288696, 0.042053223, -0.0059432983, -0.016937256, 0.036834717, -0.03112793, -0.035064697, -0.014656067, 0.0022258759, 0.007610321, 0.010467529, 0.0647583, 0.03604126, -0.052490234, -0.00831604, 0.029342651, -0.0104904175, -0.010971069, -0.020965576, 0.00894928, -0.0014810562, -0.016296387, 0.018722534, 0.024765015, 0.014633179, -0.028259277, -0.022705078, 0.032318115, 0.022354126, -0.011779785, -0.041381836, -0.029953003, 0.06591797, -0.002817154, 0.053588867, -0.007030487, 0.07745361, -0.025482178, 0.053741455, -0.03012085, -0.024368286, -0.03186035, -0.005908966, 0.017730713, -0.09112549, -0.04827881, -0.011672974, -0.006477356, 0.033843994, -0.007358551, 0.036193848, -0.06060791, 0.04083252, -0.010360718, 0.017807007, 4.8160553e-05, -0.024841309, 0.010665894, -0.007091522, -0.021652222, 0.016189575, 0.10296631, -0.026916504, -0.021697998, -0.07739258, 0.06335449, -0.0010929108, 0.013511658, -0.094055176, -0.0065193176, 0.017822266, 0.05886841, 0.0055999756, -0.013755798, -0.0063323975, -0.02758789, -0.0060043335, -0.020126343, -0.01083374, 0.024093628, -0.017578125, -0.023864746, 0.01637268, 0.014007568, 0.012176514, 0.01197052, -0.07293701, -0.009376526, 0.011993408, 0.022705078, 0.0335083, 0.0061683655, -0.01600647, -0.018188477, 0.035247803, 0.056365967, 0.0016012192, 0.011985779, 0.015136719, 0.0017757416, -0.019577026, 0.0010948181, 0.005077362, 0.00092697144, -0.020751953, -0.058746338, 0.027038574, 0.055358887, -0.024368286, 0.011566162, 0.01008606, -0.019073486, 0.011787415, -0.010879517, -0.029830933, 0.02670288, -0.053375244, -0.04083252, 0.0032291412, -0.117370605, 0.010887146, -0.011886597, -0.052825928, -0.0024223328, 0.025146484, -0.0056533813, 0.0042304993, -0.0075149536, 0.010391235, 0.040863037, -0.029037476, -0.0037937164, -0.0076179504, -0.059417725, -0.01965332, 0.019729614, -0.0025863647, 0.0103302, -0.020935059, 0.015197754, -0.023803711, -0.032104492, -0.01159668, -0.0027160645, -0.005680084, -0.026977539, 0.01574707, -0.009941101, -0.012481689, 0.010795593, 0.054626465, -0.048034668, 0.009338379, -0.003200531, 0.014167786, 0.003353119, 0.070129395, -0.046081543, 0.047454834, 0.060791016, -0.06573486, -0.015052795, -0.021530151, 0.005584717, 0.010513306, -0.02255249, 0.02357483, -0.036132812, -0.0013122559, -0.006259918, 0.0031852722, 0.0340271, -0.049102783, -0.011817932, 0.039001465, 0.008033752, 0.005126953, 0.014816284, 0.05203247, -0.008003235, 0.007183075, 0.01940918, 0.030319214, -0.0040397644, 0.034179688, -0.031951904, 0.08258057, 0.008811951, 0.021697998, 0.0076141357, 0.03463745, -0.0054969788, 0.01727295, 0.040161133, -0.0048446655, -0.037384033, -0.020477295, 0.01727295, 0.0077781677, -0.008232117, 0.030929565, -0.0637207, -0.019424438, -0.015991211, -0.0002963543, 0.033172607, 0.034301758, 0.029678345, 0.027770996, -0.047424316, 0.042388916, 0.043395996, -0.066589355, 0.013305664, -0.0184021, -0.050201416, -0.038085938, 0.0077056885, -0.0050582886, -0.008178711, -0.09753418, 0.011711121, -0.018203735, -0.042755127, 0.037384033, -0.010025024, -0.0027599335, 0.03604126, -0.043823242, -0.07635498, 0.019866943, 0.025466919, 0.0637207, 0.009605408, 0.015716553, 0.010169983, 0.049072266, -0.053131104, -0.0063667297, -0.03173828, -0.011619568, 0.046173096, 0.008659363, 0.026870728, -0.02192688, -0.026138306, -0.004699707, 0.06451416, -0.014732361, 0.013626099, -0.012641907, 0.005001068, 0.0340271, -0.062683105, 0.010360718, 0.0579834, 0.012718201, 0.021987915, -0.010627747, 0.01108551, -0.010810852, 0.013702393, -0.0115356445, 0.00831604, 0.030792236, 0.04309082, -0.043548584, -0.014579773, 0.028442383, 0.0070228577, 0.020095825, -0.068725586, -0.020050049, 0.013084412, 0.05279541, 0.030776978, -0.006793976, 0.017974854, 0.009246826, -0.014976501, 0.0011997223, -0.01348114, -0.03173828, -0.03488159, 0.012901306, 0.0058555603, -0.009414673, 0.0418396, 0.0016899109, -0.010253906, 0.009727478, -0.030273438, -0.025894165, -0.013771057, -0.038970947, 0.02468872, -0.00459671, -0.0101623535, 0.011528015, -0.0004620552, 0.0029258728, 0.02229309, 0.00015735626, 0.009384155, 0.013389587, 0.03930664, 0.047576904, -0.07159424, -0.035125732, 0.019119263, 0.023269653, 0.009864807, 0.038208008, 0.013946533, 0.015792847, 0.01725769, -0.0009031296, -0.019073486, -0.052124023, 0.025558472, -0.032958984, 0.020935059, 0.023391724, 0.02027893, 0.0075035095, -0.020233154, 0.027191162, 0.0016860962, 0.0074272156, -0.005332947, 0.023010254, 0.010566711, -0.019714355, 0.024887085, 0.05596924, 0.023620605, -0.019882202, 0.013725281, -0.014961243, 0.020629883, -0.06915283, -0.051452637, 0.05419922, 0.013389587, 0.00016307831, 0.0030059814, -0.03717041, -0.008262634, -0.0038261414, -0.040222168, 0.027313232, -0.011062622, 0.02204895, -0.00092840195, -0.007282257, -0.02154541, -0.03640747, -0.0019159317, -0.043701172, 0.022644043, -0.031463623, 0.02420044, 0.02671814, -0.010604858, 0.05706787, 0.003894806, -0.0011005402, 0.036254883, -0.025344849, 0.020477295, -0.035461426, 0.03543091, -0.019760132, -0.014213562, -0.02557373, 0.058807373, -0.046295166, -0.030151367, 0.0034866333, 0.017181396, -0.02116394, 0.024902344, 0.01966858, 0.024780273, 0.055755615, 0.005153656, 0.0023479462, 0.0072746277, -0.04458618, 0.008155823, 0.01838684, 0.0041046143, -0.006038666, -0.014816284, -0.0064697266, 0.07720947, 0.043518066, -0.052612305, -0.013504028, 0.062194824, -0.0002784729, -0.023208618, -0.011940002, 0.033203125, -0.011962891, -0.031280518, -0.043640137, 0.0059280396, -0.022659302, -0.020492554, 0.011131287, 0.013847351, -0.043670654, 0.034301758, 0.0107803345, 0.074157715, -0.024230957, -0.013084412, -0.012794495, -0.017333984, -0.010307312, 0.03881836, -0.04547119, 0.04083252, -0.021606445, -0.033172607, 0.0491333, 0.003862381, -0.04434204, -0.026168823, -0.01826477, 0.05532837, 0.032073975, 0.029785156, 0.0009551048, 0.047424316, -0.032165527, 0.021026611, -0.006511688, 0.0033817291, 0.019744873, -0.06707764, -0.0020217896, -0.0025367737, 0.043273926, -0.029754639, -0.0066070557, 0.017211914, 0.03640747, -0.0095825195, -0.033813477, -0.009796143, -0.036956787, -0.02772522, -0.008270264, -0.020599365, 0.03262329, -0.021377563, -0.018981934, 0.0075683594, -0.022018433, 0.0060691833, -0.043670654, 0.008842468, -0.020263672, 0.0023860931, -0.057861328, -0.017700195, -0.03488159, 0.007820129, 0.013656616, 0.0019273758, -0.0028457642, 0.030685425, -0.008956909, -0.009384155, -0.03515625, -0.021209717, 0.0027885437, -0.033569336, -0.033813477, -0.026794434, -0.014778137, 0.0015125275, -0.00044989586, -0.008216858, 0.03692627, 0.0019330978, -0.014343262, 0.04232788, -0.025436401, 0.0033950806, -0.042175293, -0.016418457, 0.006706238, -0.040039062, 0.017410278, 0.0018873215, 0.00087594986, -0.043151855, 0.06524658, -0.013221741, -0.0102005005, -0.016662598, -0.016342163, 0.0060806274, 0.0015926361, 0.0256958, -0.03060913, 0.011802673, -0.033966064, -0.011108398, 0.016860962]\n"
     ]
    }
   ],
   "source": [
    "# Because the text being embedded is the search query, we set the input type as search_query\n",
    "response = co.embed(\n",
    "    texts=[query],\n",
    "    model=\"embed-english-v3.0\",\n",
    "    input_type=\"search_query\",\n",
    "    embedding_types=['float']\n",
    ")\n",
    "query_embedding = response.embeddings.float[0]\n",
    "print(\"query_embedding: \", query_embedding)"
   ]
  },
  {
   "cell_type": "code",
   "execution_count": 217,
   "metadata": {},
   "outputs": [
    {
     "name": "stdout",
     "output_type": "stream",
     "text": [
      "similarity scores:  [0.41717228016092284, 0.4188158450269509, 0.419766038696218, 0.4169232832722593, 0.4229889984929003, 0.41168341738647457, 0.4271075944122892, 0.41071390772644284, 0.42271261153013795, 0.39974090170428345, 0.43157178416457387, 0.4130843995096269, 0.4171533044833727, 0.418206971365064, 0.4184277031655353, 0.4165029605633698, 0.41413324172040517, 0.4192036234244964, 0.40991552669762926, 0.4230024821968877, 0.4171453695240185, 0.4177248396948615, 0.40039437579443377, 0.42496888934291166, 0.40789494301112905, 0.4191857720372448, 0.42079213460790815, 0.4204635967060326, 0.41792936635770234, 0.4143271016681167, 0.4229314120547407, 0.41014905643426064, 0.427010265073673, 0.4147101121208574, 0.4181504080307799, 0.40341195689030573, 0.4267600155504714, 0.41012172323125073, 0.4145339218056802, 0.4170524205475181, 0.3631540341314049, 0.4283728722344874, 0.3829537171113998, 0.36854515034652746, 0.3893661813289152, 0.4006165822102692, 0.3946675443945951, 0.3955117507644023, 0.37204851885062407, 0.3857267658706776, 0.39148329736729603, 0.3956908121504102, 0.39500570701677246, 0.4066642074943111, 0.3874332819977856, 0.39676469943391063, 0.3758373325503089, 0.38020530194383306, 0.38328254211133084, 0.39185773293379855, 0.4129669476830596, 0.41781542843188746, 0.3665059911588956, 0.3994480058869985, 0.38334587002606607, 0.39335472782457553, 0.4097285691628264, 0.37731085302691064, 0.38804090002086034, 0.4115481882932652, 0.44902612902788974, 0.45501747712339885, 0.4810940858682619, 0.42581449440346936, 0.4332401584674859, 0.4319492373516289, 0.4562402443386733, 0.4680503589507227, 0.4672508971789128, 0.4674465309478913, 0.46652946401765005, 0.40443061315441725, 0.44577191213387757, 0.46229758708077795, 0.4237368821401147, 0.43757177244174916, 0.4764008623088962, 0.44426636267205194, 0.44174470750307, 0.46899648371931274, 0.433453775583753, 0.4885030505684657, 0.44661568837988735, 0.39210819124886553, 0.4574127839307955, 0.42674537412547897, 0.46706330849792876, 0.43025594609388146, 0.4207964866146439, 0.399417918066586, 0.41532891471608635, 0.43875631078641825, 0.4261420939838714, 0.39319017550648355, 0.48939010359908774, 0.4468684202575573, 0.4781888946048583, 0.4319731640112522, 0.4611648886823087, 0.4363432687323006, 0.4361727691995228, 0.48774849666016, 0.40583533078911593, 0.4611750985391873, 0.44285350356085, 0.4616312641993317, 0.44126074359454615, 0.44203658745253305, 0.4529299041818153, 0.4416886296086759, 0.4066730548371676, 0.4699527010313262, 0.4244165200213106, 0.47065969028023213, 0.46157281587325244, 0.44031900771626437, 0.4169364067887997, 0.4348839874053507, 0.4279180904930185, 0.4779067993519305, 0.4367055030212908, 0.4190085579120856, 0.4420321255143807, 0.4240917501859437, 0.4623436775356267, 0.44563093113535346, 0.42155268666852624, 0.4431546598054731, 0.4605636545554534, 0.4164922307194129, 0.4770937144651799, 0.42071623933281155, 0.46137747999576156, 0.4611656465781721, 0.4836597065623027, 0.46190722401889417, 0.4842810903794172, 0.4367164519792452, 0.4314177368039986, 0.4793084263153087, 0.4476507779561377, 0.4914159157726539, 0.4613547571658101, 0.4881516416162856, 0.4413741098517534, 0.4520886718661565, 0.37783722389217855, 0.42602606224180384, 0.46465247929417014, 0.42986630873896053, 0.46492473586179045, 0.4582026054380407, 0.44019028546195016, 0.44013878704400305, 0.4434138649855679, 0.46506630315653275, 0.4623830938725979, 0.4421000535136442, 0.4413643404343317, 0.472413359555317, 0.4681114151559249, 0.43843537497239227, 0.44086026033377007, 0.3979116473674905, 0.41672981295133305, 0.4263700565883939, 0.424656920397773, 0.47393438307619773, 0.4817600686316258, 0.4571044797069319, 0.45372487064979916, 0.4183434790999536, 0.47383257997152756, 0.47302051273856716, 0.4210408356772729, 0.45637805598754905, 0.4461321166629346, 0.42738572201487757, 0.4718628921310342, 0.45034981338037905, 0.4529103216917367, 0.4427667796627899, 0.4373449537018155, 0.4601474344991937, 0.4893213481536698, 0.4619254685401561, 0.46903202990950155, 0.45051355668798937, 0.409145211129808, 0.48314303940413883, 0.43705271416688607, 0.4430336487653592, 0.45842715245413, 0.4587609542429652, 0.465416815261216, 0.41493571012678976, 0.4788043976632501, 0.41233235517671063, 0.4799224764555597, 0.44131556178543624, 0.4487602404794209, 0.30622746974718523, 0.302211132234003, 0.2872262552706222, 0.41253932353551576, 0.43748475095086886]\n",
      "Here are the indices of the top 100 chunks after retrieval:  [151 104 194  91 153 111 146 144 199 178  72 208 149 206 106 129 140  86\n",
      " 177 182 183 169 188 123 121 196  89 170  77  79  78  96  80 204 165 160\n",
      " 158 166 134  83 195 145 115 124 142 152 113 143 108 138 193 203 202 161\n",
      "  94 179 185  76  71 180 118 190 155 197 189  70 210 150 105  92 186  82\n",
      " 135  87 164 137 201 114 191 167 117 132  88 119 154 168 209 116 172 125\n",
      " 162 163 101 171  85 215 192 200 147 130]\n",
      "Here are the top 10 chunks after retrieval: \n",
      "== The product with Rode NT1-A description has resulted in 20750 euros in revenue this week.\n",
      "The product with Larsen Magnacore Cello Strings description has resulted in 20700 euros in revenue this week.\n",
      "== The product with Moog Grandmother description has resulted in 59400 euros in revenue this week.\n",
      "The product with Roli Seaboard Rise 49 description has resulted in 58650 euros in revenue this week.\n",
      "== The product with M-Audio AIR 192|6 description has resulted in 5100 euros in revenue this week.\n",
      "The product with Hering Vintage Harp description has resulted in 5040 euros in revenue this week.\n",
      "== The product with Nord Lead A1 description has resulted in 84600 euros in revenue this week.\n",
      "The product with Taylor 214ce Deluxe Grand Auditorium Acoustic-Electric Guitar description has resulted in 84000 euros in revenue this week.\n",
      "== The product with EarthQuaker Devices Avalanche Run description has resulted in 19500 euros in revenue this week.\n",
      "The product with Line 6 DL4 Delay Modeler description has resulted in 19250 euros in revenue this week.\n",
      "== The product with PRS SE Custom 24 description has resulted in 47600 euros in revenue this week.\n",
      "The product with Neumann TLM 103 description has resulted in 46800 euros in revenue this week.\n",
      "== The product with Waldorf Blofeld description has resulted in 22500 euros in revenue this week.\n",
      "The product with Zoom H6 Handy Recorder description has resulted in 22400 euros in revenue this week.\n",
      "== The product with Chase Bliss Audio Mood description has resulted in 23100 euros in revenue this week.\n",
      "The product with La Patrie Etude description has resulted in 22800 euros in revenue this week.\n",
      "== The product with Boss DS-1 Distortion description has resulted in 3850 euros in revenue this week.\n",
      "The product with Bushman Delta Frost description has resulted in 3800 euros in revenue this week.\n",
      "== The product with M-Audio BX5 D3 description has resulted in 9450 euros in revenue this week.\n",
      "The product with Steinberg UR22C description has resulted in 9120 euros in revenue this week.\n",
      "== The product with Music Man John Petrucci Majesty description has resulted in 240000 euros in revenue this week.\n",
      "The product with Nord Stage 3 Compact description has resulted in 227500 euros in revenue this week.\n",
      "== The product with Waltons Irish Black Harmonica description has resulted in 1100 euros in revenue this week.\n",
      "The product with Aquila New Nylgut Soprano Ukulele Strings description has resulted in 580 euros in revenue this week.\n",
      "== The product with Adam Audio A7X description has resulted in 21000 euros in revenue this week.\n",
      "The product with Focal Alpha 50 description has resulted in 21000 euros in revenue this week.\n",
      "== The product with EastTop T008K description has resulted in 1710 euros in revenue this week.\n",
      "The product with Latin Percussion LP1207 Jam Block description has resulted in 1680 euros in revenue this week.\n",
      "== The product with Novation SL MkIII 61 description has resulted in 54600 euros in revenue this week.\n",
      "The product with Trevor James 10X Flute description has resulted in 54000 euros in revenue this week.\n",
      "== The product with Teenage Engineering OP-Z description has resulted in 31200 euros in revenue this week.\n",
      "The product with Arturia KeyStep Pro description has resulted in 30800 euros in revenue this week.\n",
      "== The product with Arturia MicroBrute description has resulted in 25550 euros in revenue this week.\n",
      "The product with Genelec 8010A description has resulted in 25550 euros in revenue this week.\n",
      "== The product with Gibson SG Standard Bass description has resulted in 103500 euros in revenue this week.\n",
      "The product with Novation Peak description has resulted in 102200 euros in revenue this week.\n",
      "== The product with MOTU M2 description has resulted in 9600 euros in revenue this week.\n",
      "The product with MXR M169 Carbon Copy Analog Delay description has resulted in 9450 euros in revenue this week.\n",
      "== The product with Blue Yeti USB Microphone description has resulted in 7930 euros in revenue this week.\n",
      "The product with Oscar Schmidt OU5 Concert Ukulele description has resulted in 7920 euros in revenue this week.\n",
      "== The product with Solista Cello Strings by Larsen description has resulted in 7920 euros in revenue this week.\n",
      "The product with PreSonus AudioBox USB 96 description has resulted in 7900 euros in revenue this week.\n",
      "== The product with Nektar Impact LX49+ description has resulted in 10880 euros in revenue this week.\n",
      "The product with Behringer NEKKST K5 description has resulted in 10800 euros in revenue this week.\n",
      "== The product with Behringer UMC404HD description has resulted in 6750 euros in revenue this week.\n",
      "The product with Arturia MiniLab MkII description has resulted in 6710 euros in revenue this week.\n",
      "== The product with Avid Pro Tools description has resulted in 36539 euros in revenue this week.\n",
      "The product with Roland FP-30 description has resulted in 36400 euros in revenue this week.\n",
      "== The product with Warwick Rockbass Corvette Basic description has resulted in 37600 euros in revenue this week.\n",
      "The product with Taylor Academy 12-N description has resulted in 37050 euros in revenue this week.\n",
      "== The product with Warchal Karneol Violin Strings description has resulted in 4720 euros in revenue this week.\n",
      "The product with Suzuki Promaster Hammond description has resulted in 4640 euros in revenue this week.\n",
      "== The product with Di Zhao DZ-400 Flute description has resulted in 94800 euros in revenue this week.\n",
      "The product with Kremona Solea description has resulted in 90000 euros in revenue this week.\n",
      "== The product with TASCAM US-4x4 description has resulted in 10800 euros in revenue this week.\n",
      "The product with Focusrite Scarlett 2i2 description has resulted in 10710 euros in revenue this week.\n",
      "== The product with Sonor SQ1 3-Piece Shell Pack description has resulted in 173600 euros in revenue this week.\n",
      "The product with Behringer X32 Digital Mixer description has resulted in 158400 euros in revenue this week.\n",
      "== The product with Music Man StingRay 5 HH description has resulted in 154000 euros in revenue this week.\n",
      "The product with Allen & Heath QU-16C Digital Mixer description has resulted in 151300 euros in revenue this week.\n",
      "== The product with Dave Smith Instruments OB-6 description has resulted in 156000 euros in revenue this week.\n",
      "The product with Yamaha Montage 8 description has resulted in 156000 euros in revenue this week.\n",
      "== The product with Yamaha YDP-144 Arius description has resulted in 71500 euros in revenue this week.\n",
      "The product with DW Design Series Frequent Flyer Kit description has resulted in 70800 euros in revenue this week.\n",
      "== The product with Ludwig Vistalite John Bonham Zep Set description has resulted in 147200 euros in revenue this week.\n",
      "The product with Sequential Prophet-6 description has resulted in 142800 euros in revenue this week.\n",
      "== The product with Electro-Harmonix Big Muff Pi description has resulted in 2480 euros in revenue this week.\n",
      "The product with Remo Ambassador Coated Drum Head description has resulted in 2480 euros in revenue this week.\n",
      "== The product with Propellerhead Reason description has resulted in 12369 euros in revenue this week.\n",
      "The product with Ibanez GA5TCE Classical Guitar description has resulted in 12300 euros in revenue this week.\n",
      "== The product with Gibraltar 6700-PK Hardware Pack description has resulted in 15300 euros in revenue this week.\n",
      "The product with Fender CN-60S description has resulted in 14950 euros in revenue this week.\n",
      "== The product with Seagull S6 Original Acoustic Guitar description has resulted in 16650 euros in revenue this week.\n",
      "The product with Logic Pro X description has resulted in 16600 euros in revenue this week.\n",
      "== The product with Behringer MOTOR 61 description has resulted in 12300 euros in revenue this week.\n",
      "The product with FL Studio Producer Edition description has resulted in 12139 euros in revenue this week.\n",
      "== The product with Jean Paul USA AS-400 Student Alto description has resulted in 28500 euros in revenue this week.\n",
      "The product with Electro-Voice ELX200-10P Powered Speaker description has resulted in 28400 euros in revenue this week.\n",
      "== The product with Teenage Engineering OP-1 description has resulted in 124800 euros in revenue this week.\n",
      "The product with DW Design Series 5-Piece Drum Kit description has resulted in 118500 euros in revenue this week.\n",
      "== The product with Numark Party Mix description has resulted in 4800 euros in revenue this week.\n",
      "The product with Amahi UK660 Pineapple Ukulele description has resulted in 4760 euros in revenue this week.\n",
      "== The product with Kaizer ASAX-1000LQ description has resulted in 22800 euros in revenue this week.\n",
      "The product with Mapex Mars 600 Series Hardware Pack description has resulted in 22750 euros in revenue this week.\n",
      "== The product with Kremona V1 Artist Violin description has resulted in 42400 euros in revenue this week.\n",
      "The product with Native Instruments Traktor Kontrol S3 description has resulted in 42250 euros in revenue this week.\n",
      "== The product with Korg B2 description has resulted in 36000 euros in revenue this week.\n",
      "The product with Pearl Quantz 505RE Flute description has resulted in 35700 euros in revenue this week.\n",
      "== The product with Korg Minilogue description has resulted in 24000 euros in revenue this week.\n",
      "The product with Yamaha TRBX304 description has resulted in 23800 euros in revenue this week.\n",
      "== The product with Bitwig Studio description has resulted in 20349 euros in revenue this week.\n",
      "The product with Alvarez Artist Series AF30 Folk Acoustic Guitar description has resulted in 19800 euros in revenue this week.\n",
      "== The product with Fender FV-1 Electric Violin description has resulted in 44400 euros in revenue this week.\n",
      "The product with Arturia KeyLab 88 MKII description has resulted in 44100 euros in revenue this week.\n",
      "== The product with Roland JD-Xi description has resulted in 23500 euros in revenue this week.\n",
      "The product with Electro-Voice RE20 description has resulted in 23400 euros in revenue this week.\n",
      "== The product with Behringer DeepMind 12 description has resulted in 51200 euros in revenue this week.\n",
      "The product with Roland JUNO-DS61 description has resulted in 50400 euros in revenue this week.\n",
      "== The product with Arturia MiniBrute 2 description has resulted in 26500 euros in revenue this week.\n",
      "The product with Moog Mother-32 description has resulted in 26400 euros in revenue this week.\n",
      "== The product with Thomastik-Infeld Dominant Violin Strings description has resulted in 5400 euros in revenue this week.\n",
      "The product with Shure SM58 description has resulted in 5100 euros in revenue this week.\n",
      "== The product with Cockos REAPER description has resulted in 2520 euros in revenue this week.\n",
      "The product with Hohner Special 20 Harmonica description has resulted in 2520 euros in revenue this week.\n",
      "== The product with Suzuki Manji M-20 description has resulted in 3050 euros in revenue this week.\n",
      "The product with Lee Oskar Major Diatonic Harmonica description has resulted in 2880 euros in revenue this week.\n",
      "== The product with Franz Hoffmann Amadeus Violin description has resulted in 14800 euros in revenue this week.\n",
      "The product with Jargar Superior Cello String Set description has resulted in 14250 euros in revenue this week.\n",
      "== The product with Gemeinhardt Model 3 Flute description has resulted in 72600 euros in revenue this week.\n",
      "The product with Pioneer DJ DJM-S9 description has resulted in 72000 euros in revenue this week.\n",
      "== The product with Novation Launchkey Mini MK3 description has resulted in 8580 euros in revenue this week.\n",
      "The product with Jean Paul USA Silver-Plated Flute FL-220 description has resulted in 8400 euros in revenue this week.\n",
      "== The product with Mendini by Cecilio Gold Trumpet description has resulted in 7500 euros in revenue this week.\n",
      "The product with M-Audio Oxygen 49 MKIV description has resulted in 7350 euros in revenue this week.\n",
      "== The product with P. Mauriat PMXA-67R Alto Sax description has resulted in 177000 euros in revenue this week.\n",
      "The product with Korg Grandstage 88 description has resulted in 176000 euros in revenue this week.\n",
      "== The product with Roland Fantom-8 description has resulted in 248500 euros in revenue this week.\n",
      "The product with Tama Starclassic Bubinga 5-Piece Shell Pack description has resulted in 245000 euros in revenue this week.\n",
      "== The product with Cecilio CEVN-2BK Electric Violin description has resulted in 8400 euros in revenue this week.\n",
      "The product with Pirastro Obligato Viola Strings description has resulted in 8280 euros in revenue this week.\n",
      "== The product with Traktor Kontrol Z2 description has resulted in 39600 euros in revenue this week.\n",
      "The product with Reloop Mixon 4 DJ Controller description has resulted in 39200 euros in revenue this week.\n",
      "== The product with Dunlop Cry Baby Wah description has resulted in 6600 euros in revenue this week.\n",
      "The product with Stentor Student II Violin description has resulted in 6500 euros in revenue this week.\n",
      "== The product with Native Instruments Komplete Audio 6 description has resulted in 17750 euros in revenue this week.\n",
      "The product with Sonor AQ2 Safari 4-Piece Drum Set description has resulted in 17500 euros in revenue this week.\n",
      "== The product with Fender Venice Soprano Ukulele description has resulted in 4200 euros in revenue this week.\n",
      "The product with Mackie CR3 description has resulted in 4200 euros in revenue this week.\n",
      "== The product with PreSonus Eris E3.5 description has resulted in 6700 euros in revenue this week.\n",
      "The product with Akai MPK Mini MKIII description has resulted in 6700 euros in revenue this week.\n",
      "== The product with Selmer Paris Reference 54 Alto description has resulted in 409500 euros in revenue this week.\n",
      "The product with Keilwerth SX90R description has resulted in 264000 euros in revenue this week.\n",
      "== The product with Vic Firth American Classic 5A Drumsticks description has resulted in 490 euros in revenue this week.\n",
      "== The product with Alhambra 1C description has resulted in 21000 euros in revenue this week.\n",
      "The product with Akai MPK249 description has resulted in 20800 euros in revenue this week.\n",
      "== The product with PDP by DW 7-Piece Concept Maple Shell Pack description has resulted in 57000 euros in revenue this week.\n",
      "The product with Universal Audio Apollo Twin X description has resulted in 55800 euros in revenue this week.\n",
      "== The product with Anuenue aNN-900 Soprano Ukulele description has resulted in 76000 euros in revenue this week.\n",
      "The product with Kanile'a K-1 Concert Ukulele description has resulted in 74400 euros in revenue this week.\n",
      "== The product with IK Multimedia iRig Keys 37 Pro description has resulted in 7200 euros in revenue this week.\n",
      "The product with Cecilio CVN-300 Ebony Fitted Violin description has resulted in 7150 euros in revenue this week.\n",
      "== The product with Cannonball Big Bell Stone Series description has resulted in 130000 euros in revenue this week.\n",
      "The product with Bose L1 Pro16 Portable Line Array System description has resulted in 127800 euros in revenue this week.\n",
      "== The product with Presonus Studio One 5 Professional description has resulted in 28400 euros in revenue this week.\n",
      "The product with Yamaha V5SC Violin description has resulted in 27900 euros in revenue this week.\n",
      "== The product with Fender American Ultra Precision Bass description has resulted in 100800 euros in revenue this week.\n",
      "The product with Denon DJ Prime 4 description has resulted in 99000 euros in revenue this week.\n",
      "== The product with TASCAM DR-40X description has resulted in 12600 euros in revenue this week.\n",
      "The product with Digitech Whammy description has resulted in 12600 euros in revenue this week.\n",
      "== The product with Pono MCD Concert Ukulele description has resulted in 27200 euros in revenue this week.\n",
      "The product with Strymon BigSky Reverberator description has resulted in 26880 euros in revenue this week.\n",
      "== The product with Lanikai LU-21 Soprano Ukulele description has resulted in 3240 euros in revenue this week.\n",
      "The product with Evans EMAD2 Clear Bass Drum Head description has resulted in 3050 euros in revenue this week.\n",
      "== The product with Yamaha YFL-222 Intermediate Flute description has resulted in 44000 euros in revenue this week.\n",
      "The product with Pearl Export EXX 5-Piece Drum Set description has resulted in 43400 euros in revenue this week.\n",
      "== The product with TC Electronic Hall of Fame Reverb description has resulted in 6450 euros in revenue this week.\n",
      "The product with IK Multimedia iRig HD 2 description has resulted in 6200 euros in revenue this week.\n",
      "== The product with Squier Affinity Telecaster description has resulted in 11960 euros in revenue this week.\n",
      "The product with CME Xkey 37 LE Ultra-Portable description has resulted in 11800 euros in revenue this week.\n",
      "== The product with Ovation Celebrity Elite Plus Acoustic-Electric Guitar description has resulted in 42000 euros in revenue this week.\n",
      "The product with QSC K12.2 Active Loudspeaker description has resulted in 41600 euros in revenue this week.\n",
      "== The product with Mapex Black Panther Blaster Snare Drum description has resulted in 29260 euros in revenue this week.\n",
      "The product with Novation Bass Station II description has resulted in 29240 euros in revenue this week.\n",
      "== The product with Allen & Heath Xone:PX5 description has resulted in 98000 euros in revenue this week.\n",
      "The product with Dave Smith Instruments Prophet Rev2 description has resulted in 96000 euros in revenue this week.\n",
      "== The product with Martin S1 Uke Soprano Ukulele description has resulted in 38250 euros in revenue this week.\n",
      "The product with ESP LTD EC-1000 description has resulted in 37800 euros in revenue this week.\n",
      "== The product with Thomastik-Infeld Spirocore Double Bass Strings description has resulted in 19000 euros in revenue this week.\n",
      "The product with Korg Monologue description has resulted in 18000 euros in revenue this week.\n",
      "== The product with Alesis VI49 description has resulted in 11500 euros in revenue this week.\n",
      "The product with Washburn C5CE Classical Guitar description has resulted in 11250 euros in revenue this week.\n",
      "== The product with Zildjian Drumsticks description has resulted in 500 euros in revenue this week.\n",
      "The product with Fender Blues Deluxe Harmonica description has resulted in 492 euros in revenue this week.\n",
      "== The product with Pearl Roadshow 5-Piece Drum Set description has resulted in 42000 euros in revenue this week.\n",
      "The product with Conn 52BSP CONNstellation Series Bb Trumpet description has resulted in 42000 euros in revenue this week.\n",
      "== The product with KRK Rokit 5 G4 description has resulted in 10500 euros in revenue this week.\n",
      "The product with Ibanez UEW15E Concert Ukulele description has resulted in 10200 euros in revenue this week.\n",
      "== The product with Rogers Dyna-Sonic Snare Drum description has resulted in 34500 euros in revenue this week.\n",
      "The product with Yamaha HS8 description has resulted in 34410 euros in revenue this week.\n",
      "== The product with Squier Affinity Jazz Bass description has resulted in 14100 euros in revenue this week.\n",
      "The product with Yamaha Pacifica 112V description has resulted in 13200 euros in revenue this week.\n",
      "== The product with DJ TechTools Midi Fighter 64 description has resulted in 12980 euros in revenue this week.\n",
      "The product with Yamaha Reface CS description has resulted in 12800 euros in revenue this week.\n",
      "== The product with Zildjian A Custom Cymbal Pack description has resulted in 63900 euros in revenue this week.\n",
      "The product with Gretsch Catalina Maple 7-Piece Drum Kit description has resulted in 63600 euros in revenue this week.\n",
      "== The product with D'Addario Helicore Double Bass Strings description has resulted in 10600 euros in revenue this week.\n",
      "The product with Bunnel Pupil Violin description has resulted in 10600 euros in revenue this week.\n",
      "== The product with Roland System-8 description has resulted in 105000 euros in revenue this week.\n",
      "The product with Moog Sub 37 description has resulted in 105000 euros in revenue this week.\n",
      "== The credit of the week is 450000.\n",
      "The balance of the week is 150000.\n",
      "The inflows forecast of the week is 15000000.\n",
      "The outflows forecast of the week is 9000000.\n",
      "The projected balance of the week is 23850000.\n",
      "== The product with Seydel 1847 Silver Harmonica description has resulted in 6000 euros in revenue this week.\n",
      "The product with Korg microKEY2-37 description has resulted in 5670 euros in revenue this week.\n",
      "== The product with D'Addario Prelude Violin String Set description has resulted in 3760 euros in revenue this week.\n",
      "The product with Pearl D50 Drum Throne description has resulted in 3660 euros in revenue this week.\n",
      "== The product with Sennheiser MD421 II description has resulted in 22000 euros in revenue this week.\n",
      "The product with Roland A-500PRO-R description has resulted in 21900 euros in revenue this week.\n",
      "== The product with Steinberg Cubase Pro description has resulted in 30160 euros in revenue this week.\n",
      "The product with Kawai ES110 description has resulted in 30100 euros in revenue this week.\n"
     ]
    }
   ],
   "source": [
    "def cosine_similarity(a, b):\n",
    "    return np.dot(a, b) / (np.linalg.norm(a) * np.linalg.norm(b))\n",
    "\n",
    "# Calculate similarity between the user question & each chunk\n",
    "similarities = [cosine_similarity(query_embedding, chunk) for chunk in embeddings]\n",
    "print(\"similarity scores: \", similarities)\n",
    "\n",
    "# Get indices of the top 10 most similar chunks\n",
    "sorted_indices = np.argsort(similarities)[::-1]\n",
    "\n",
    "# Keep only the top 10 indices\n",
    "top_indices = sorted_indices[:100]\n",
    "print(\"Here are the indices of the top 100 chunks after retrieval: \", top_indices)\n",
    "\n",
    "# Retrieve the top 10 most similar chunks\n",
    "top_chunks_after_retrieval = [chunks[i] for i in top_indices]\n",
    "print(\"Here are the top 10 chunks after retrieval: \")\n",
    "for t in top_chunks_after_retrieval:\n",
    "    print(\"== \" + t)"
   ]
  },
  {
   "cell_type": "code",
   "execution_count": 218,
   "metadata": {},
   "outputs": [
    {
     "name": "stdout",
     "output_type": "stream",
     "text": [
      "id='85d0f8f0-b19a-41dc-abb7-58c62bb417fc' embeddings=EmbedByTypeResponseEmbeddings(float_=[[0.02381897, -0.032470703, -0.040008545, -0.031433105, -0.038726807, -0.04055786, -0.0067749023, 0.05001831, 0.01108551, -0.017837524, -0.026428223, 0.02758789, -0.045410156, -0.026184082, 0.035339355, -0.022644043, 0.016799927, -0.028579712, 0.022903442, -0.004508972, 0.038391113, -0.006717682, 0.058898926, -0.0053749084, -0.0036964417, 0.018508911, -0.04827881, 0.0017585754, -0.018814087, -0.00699234, -0.0057525635, 0.015037537, 0.013900757, -0.017852783, 0.019821167, -0.011260986, 0.05895996, -0.040130615, -0.0001937151, 0.0062789917, -0.008346558, -0.0032215118, 0.02885437, -0.043304443, -0.0073890686, 0.024398804, -0.022338867, -0.022506714, -0.009544373, 0.025878906, -0.019760132, -0.003156662, 0.004852295, 0.03527832, -0.019927979, 0.011207581, -0.031311035, -0.018508911, 0.053497314, 0.021774292, -0.016296387, -0.039245605, 0.015792847, -0.04333496, -0.040130615, -0.041900635, -0.029754639, 0.022842407, 0.03665161, -0.027877808, 0.016799927, 0.061065674, 0.015930176, 0.015853882, -0.044189453, -0.043029785, 0.04486084, -0.021026611, 0.011436462, 0.0018424988, 0.021759033, 0.012161255, -0.052246094, 0.052825928, -0.021759033, 0.043029785, -0.0073928833, -0.03778076, 0.039245605, -0.020812988, 0.018081665, -0.024032593, 0.0074043274, 0.043182373, -0.001964569, -0.04937744, 0.011711121, 0.032165527, -0.009490967, -0.020248413, -0.07543945, 0.02734375, -0.08734131, -0.017990112, 0.018035889, 0.014717102, -0.021362305, 0.039886475, 0.08068848, 0.026290894, 0.011428833, 0.03186035, -0.008743286, 0.0018987656, -0.07672119, 0.038879395, -0.021408081, -0.024597168, 0.005077362, 0.030258179, -0.027404785, -0.024414062, -0.0027217865, 0.026611328, 0.009262085, -0.01171875, -0.010536194, 0.023605347, 0.0115737915, 0.053527832, 0.012435913, -0.0082092285, -0.04977417, -0.010017395, -0.022476196, -0.035064697, 0.03756714, 0.02822876, 0.0017089844, 0.008781433, 0.0048599243, -0.0069618225, 0.01751709, 0.010856628, 0.0317688, -0.021347046, 0.0093688965, 0.023010254, 0.047424316, 0.045715332, -0.0066070557, -0.003917694, 0.022888184, -0.0058898926, 0.01272583, -0.019073486, 0.017089844, -0.057495117, -0.007381439, -0.018188477, 0.020767212, -0.01737976, 0.038330078, 0.037597656, -0.0005893707, 0.015930176, -0.003894806, 0.0009937286, 0.012138367, -0.059509277, 0.002067566, -0.009422302, 0.028839111, 0.00548172, 0.0234375, 0.04714966, 0.01675415, 0.0078048706, 0.014755249, -0.03616333, -0.05645752, -0.061309814, 0.019012451, -0.031677246, -0.0035629272, -0.042999268, 0.010093689, 0.02772522, 0.022857666, 0.017837524, -0.019515991, -0.00680542, -0.007205963, -0.049072266, 0.014335632, -0.037200928, -0.040740967, -0.032928467, -0.005001068, 0.06677246, -0.061401367, 0.04071045, 0.033569336, 0.0013532639, 0.03527832, 0.027801514, 0.005844116, 0.039123535, -0.097961426, 0.0690918, 0.07324219, 0.021591187, -0.071899414, 0.043182373, 0.08343506, -0.043151855, -0.018218994, 0.050628662, 0.02029419, -0.004432678, 0.02720642, -0.019485474, 0.038330078, 0.010810852, -0.0018358231, -0.033081055, -0.02319336, -0.019500732, -0.008041382, -0.030731201, 0.065979004, 0.05621338, 0.073791504, 0.05731201, -0.03604126, 0.0038928986, 0.009971619, -0.0019483566, -0.0184021, 0.022125244, 0.0115356445, 0.011444092, -0.04067993, -0.0068893433, 0.002450943, -0.007873535, 0.019515991, -0.0069847107, -0.026367188, 0.015335083, 0.046173096, -0.002286911, -0.016662598, -0.022888184, -0.028915405, 0.021865845, -7.6293945e-06, -0.022918701, 0.03970337, -0.036590576, 0.025299072, -0.007411957, -0.04660034, 0.015808105, -0.008018494, -0.010154724, 0.020996094, 0.045776367, -0.03100586, -0.050201416, 0.023635864, 0.05706787, 0.01676941, -0.048065186, -0.009941101, 0.0058555603, -0.028442383, 0.0045051575, 0.035461426, -0.02128601, -0.03363037, -0.020812988, -0.010139465, 0.0067329407, -0.0141067505, 0.017745972, 0.04360962, 0.016937256, 0.022445679, -0.009529114, 0.0010290146, 0.086242676, 0.03842163, -0.002286911, 0.05606079, -0.0062942505, 0.04977417, 0.0015220642, 0.0056266785, -0.034240723, -0.015411377, 0.005882263, -0.055786133, 0.019683838, -0.0028648376, -0.018814087, -0.02458191, 0.03137207, 0.02848816, -0.027526855, -0.009048462, 0.05999756, 0.035064697, 0.051116943, -0.06866455, -0.037475586, -0.07495117, 0.009552002, -0.14343262, -0.06390381, -0.0446167, 0.0020923615, 0.007144928, 0.0129470825, -0.0008378029, 0.012626648, 0.004283905, 0.020584106, 0.022918701, 0.02645874, 0.03439331, 0.054626465, -0.00011998415, 0.024627686, -0.0050735474, 0.014770508, 0.009933472, 0.019439697, -0.006587982, 0.0032024384, -0.0011577606, -0.020828247, 0.0071372986, -0.03591919, -0.022781372, 0.0022563934, -0.027038574, -0.008216858, -0.04812622, -0.03274536, 0.002445221, -0.02670288, -0.002084732, -0.0015230179, 0.0057373047, -0.028015137, 0.006427765, 0.034179688, -0.019241333, -0.03353882, -0.007068634, 0.03074646, -0.013114929, -0.028945923, -0.048919678, -0.025512695, 0.009483337, 0.02456665, -0.0317688, -0.05001831, -0.0045547485, -0.06488037, 0.02420044, 0.027770996, 0.05368042, 0.019104004, 0.0121154785, -0.03652954, 0.009460449, 0.009231567, 0.0076560974, 8.523464e-05, 0.013008118, -0.003364563, 0.03756714, 0.020431519, 0.047912598, 0.023635864, 0.08239746, -0.012962341, 0.040740967, 0.002565384, 0.02671814, -0.024612427, 0.024139404, -0.0038013458, 0.034606934, 0.018218994, -0.03262329, -0.03213501, 0.0041236877, -0.043701172, -0.022583008, -0.03656006, 0.02810669, -0.050750732, 0.04888916, -0.027832031, 0.048858643, -0.011192322, 0.0031547546, -0.0007276535, 0.015716553, -0.031829834, -0.039001465, -0.005531311, 0.068481445, 0.013366699, 0.034179688, -0.03829956, -0.0038661957, 0.039276123, 0.014976501, 0.0056762695, -0.049835205, 0.015220642, -0.0020332336, 0.06628418, 0.022232056, -0.042938232, -0.01838684, -0.024536133, -0.026885986, -0.092163086, -0.02418518, -0.01361084, -0.01133728, 0.06524658, -0.00598526, 0.01197052, -0.0067481995, 0.026107788, -0.008293152, 0.036987305, 0.015304565, -0.034179688, 0.0021858215, -0.017089844, -0.018447876, 0.0018072128, -0.025863647, 0.00039315224, 0.066345215, 0.0309906, -0.014038086, -0.001832962, -0.012931824, 0.017410278, 0.006587982, 0.0062065125, 0.00970459, -0.017578125, -0.04385376, 0.0042152405, 0.011787415, -0.009300232, 0.023345947, 0.014137268, 0.011672974, -0.0048980713, 0.023986816, -0.04763794, 0.029418945, 0.0060157776, -0.0062942505, 0.02192688, -0.0054397583, -0.021224976, 0.03277588, 0.0126953125, 0.03024292, -0.010757446, -0.007041931, 0.036468506, -0.00349617, 0.026489258, -0.02204895, 0.0317688, 0.012023926, -0.0128479, 0.028076172, 0.0038108826, 0.0546875, -0.039154053, 0.011917114, -0.05053711, 0.0041885376, 0.013961792, -0.019927979, 0.0057029724, -0.08312988, -0.008171082, -0.044952393, 0.0053710938, -0.009361267, 0.032196045, 0.0063667297, 0.0073661804, 0.0045318604, -0.053863525, 0.02583313, -0.030288696, 0.042053223, -0.0059432983, -0.016937256, 0.036834717, -0.03112793, -0.035064697, -0.014656067, 0.0022258759, 0.007610321, 0.010467529, 0.0647583, 0.03604126, -0.052490234, -0.00831604, 0.029342651, -0.0104904175, -0.010971069, -0.020965576, 0.00894928, -0.0014810562, -0.016296387, 0.018722534, 0.024765015, 0.014633179, -0.028259277, -0.022705078, 0.032318115, 0.022354126, -0.011779785, -0.041381836, -0.029953003, 0.06591797, -0.002817154, 0.053588867, -0.007030487, 0.07745361, -0.025482178, 0.053741455, -0.03012085, -0.024368286, -0.03186035, -0.005908966, 0.017730713, -0.09112549, -0.04827881, -0.011672974, -0.006477356, 0.033843994, -0.007358551, 0.036193848, -0.06060791, 0.04083252, -0.010360718, 0.017807007, 4.8160553e-05, -0.024841309, 0.010665894, -0.007091522, -0.021652222, 0.016189575, 0.10296631, -0.026916504, -0.021697998, -0.07739258, 0.06335449, -0.0010929108, 0.013511658, -0.094055176, -0.0065193176, 0.017822266, 0.05886841, 0.0055999756, -0.013755798, -0.0063323975, -0.02758789, -0.0060043335, -0.020126343, -0.01083374, 0.024093628, -0.017578125, -0.023864746, 0.01637268, 0.014007568, 0.012176514, 0.01197052, -0.07293701, -0.009376526, 0.011993408, 0.022705078, 0.0335083, 0.0061683655, -0.01600647, -0.018188477, 0.035247803, 0.056365967, 0.0016012192, 0.011985779, 0.015136719, 0.0017757416, -0.019577026, 0.0010948181, 0.005077362, 0.00092697144, -0.020751953, -0.058746338, 0.027038574, 0.055358887, -0.024368286, 0.011566162, 0.01008606, -0.019073486, 0.011787415, -0.010879517, -0.029830933, 0.02670288, -0.053375244, -0.04083252, 0.0032291412, -0.117370605, 0.010887146, -0.011886597, -0.052825928, -0.0024223328, 0.025146484, -0.0056533813, 0.0042304993, -0.0075149536, 0.010391235, 0.040863037, -0.029037476, -0.0037937164, -0.0076179504, -0.059417725, -0.01965332, 0.019729614, -0.0025863647, 0.0103302, -0.020935059, 0.015197754, -0.023803711, -0.032104492, -0.01159668, -0.0027160645, -0.005680084, -0.026977539, 0.01574707, -0.009941101, -0.012481689, 0.010795593, 0.054626465, -0.048034668, 0.009338379, -0.003200531, 0.014167786, 0.003353119, 0.070129395, -0.046081543, 0.047454834, 0.060791016, -0.06573486, -0.015052795, -0.021530151, 0.005584717, 0.010513306, -0.02255249, 0.02357483, -0.036132812, -0.0013122559, -0.006259918, 0.0031852722, 0.0340271, -0.049102783, -0.011817932, 0.039001465, 0.008033752, 0.005126953, 0.014816284, 0.05203247, -0.008003235, 0.007183075, 0.01940918, 0.030319214, -0.0040397644, 0.034179688, -0.031951904, 0.08258057, 0.008811951, 0.021697998, 0.0076141357, 0.03463745, -0.0054969788, 0.01727295, 0.040161133, -0.0048446655, -0.037384033, -0.020477295, 0.01727295, 0.0077781677, -0.008232117, 0.030929565, -0.0637207, -0.019424438, -0.015991211, -0.0002963543, 0.033172607, 0.034301758, 0.029678345, 0.027770996, -0.047424316, 0.042388916, 0.043395996, -0.066589355, 0.013305664, -0.0184021, -0.050201416, -0.038085938, 0.0077056885, -0.0050582886, -0.008178711, -0.09753418, 0.011711121, -0.018203735, -0.042755127, 0.037384033, -0.010025024, -0.0027599335, 0.03604126, -0.043823242, -0.07635498, 0.019866943, 0.025466919, 0.0637207, 0.009605408, 0.015716553, 0.010169983, 0.049072266, -0.053131104, -0.0063667297, -0.03173828, -0.011619568, 0.046173096, 0.008659363, 0.026870728, -0.02192688, -0.026138306, -0.004699707, 0.06451416, -0.014732361, 0.013626099, -0.012641907, 0.005001068, 0.0340271, -0.062683105, 0.010360718, 0.0579834, 0.012718201, 0.021987915, -0.010627747, 0.01108551, -0.010810852, 0.013702393, -0.0115356445, 0.00831604, 0.030792236, 0.04309082, -0.043548584, -0.014579773, 0.028442383, 0.0070228577, 0.020095825, -0.068725586, -0.020050049, 0.013084412, 0.05279541, 0.030776978, -0.006793976, 0.017974854, 0.009246826, -0.014976501, 0.0011997223, -0.01348114, -0.03173828, -0.03488159, 0.012901306, 0.0058555603, -0.009414673, 0.0418396, 0.0016899109, -0.010253906, 0.009727478, -0.030273438, -0.025894165, -0.013771057, -0.038970947, 0.02468872, -0.00459671, -0.0101623535, 0.011528015, -0.0004620552, 0.0029258728, 0.02229309, 0.00015735626, 0.009384155, 0.013389587, 0.03930664, 0.047576904, -0.07159424, -0.035125732, 0.019119263, 0.023269653, 0.009864807, 0.038208008, 0.013946533, 0.015792847, 0.01725769, -0.0009031296, -0.019073486, -0.052124023, 0.025558472, -0.032958984, 0.020935059, 0.023391724, 0.02027893, 0.0075035095, -0.020233154, 0.027191162, 0.0016860962, 0.0074272156, -0.005332947, 0.023010254, 0.010566711, -0.019714355, 0.024887085, 0.05596924, 0.023620605, -0.019882202, 0.013725281, -0.014961243, 0.020629883, -0.06915283, -0.051452637, 0.05419922, 0.013389587, 0.00016307831, 0.0030059814, -0.03717041, -0.008262634, -0.0038261414, -0.040222168, 0.027313232, -0.011062622, 0.02204895, -0.00092840195, -0.007282257, -0.02154541, -0.03640747, -0.0019159317, -0.043701172, 0.022644043, -0.031463623, 0.02420044, 0.02671814, -0.010604858, 0.05706787, 0.003894806, -0.0011005402, 0.036254883, -0.025344849, 0.020477295, -0.035461426, 0.03543091, -0.019760132, -0.014213562, -0.02557373, 0.058807373, -0.046295166, -0.030151367, 0.0034866333, 0.017181396, -0.02116394, 0.024902344, 0.01966858, 0.024780273, 0.055755615, 0.005153656, 0.0023479462, 0.0072746277, -0.04458618, 0.008155823, 0.01838684, 0.0041046143, -0.006038666, -0.014816284, -0.0064697266, 0.07720947, 0.043518066, -0.052612305, -0.013504028, 0.062194824, -0.0002784729, -0.023208618, -0.011940002, 0.033203125, -0.011962891, -0.031280518, -0.043640137, 0.0059280396, -0.022659302, -0.020492554, 0.011131287, 0.013847351, -0.043670654, 0.034301758, 0.0107803345, 0.074157715, -0.024230957, -0.013084412, -0.012794495, -0.017333984, -0.010307312, 0.03881836, -0.04547119, 0.04083252, -0.021606445, -0.033172607, 0.0491333, 0.003862381, -0.04434204, -0.026168823, -0.01826477, 0.05532837, 0.032073975, 0.029785156, 0.0009551048, 0.047424316, -0.032165527, 0.021026611, -0.006511688, 0.0033817291, 0.019744873, -0.06707764, -0.0020217896, -0.0025367737, 0.043273926, -0.029754639, -0.0066070557, 0.017211914, 0.03640747, -0.0095825195, -0.033813477, -0.009796143, -0.036956787, -0.02772522, -0.008270264, -0.020599365, 0.03262329, -0.021377563, -0.018981934, 0.0075683594, -0.022018433, 0.0060691833, -0.043670654, 0.008842468, -0.020263672, 0.0023860931, -0.057861328, -0.017700195, -0.03488159, 0.007820129, 0.013656616, 0.0019273758, -0.0028457642, 0.030685425, -0.008956909, -0.009384155, -0.03515625, -0.021209717, 0.0027885437, -0.033569336, -0.033813477, -0.026794434, -0.014778137, 0.0015125275, -0.00044989586, -0.008216858, 0.03692627, 0.0019330978, -0.014343262, 0.04232788, -0.025436401, 0.0033950806, -0.042175293, -0.016418457, 0.006706238, -0.040039062, 0.017410278, 0.0018873215, 0.00087594986, -0.043151855, 0.06524658, -0.013221741, -0.0102005005, -0.016662598, -0.016342163, 0.0060806274, 0.0015926361, 0.0256958, -0.03060913, 0.011802673, -0.033966064, -0.011108398, 0.016860962]], int8=None, uint8=None, binary=None, ubinary=None) texts=['what was our total revenue from last week?'] meta=ApiMeta(api_version=ApiMetaApiVersion(version='1', is_deprecated=None, is_experimental=None), billed_units=ApiMetaBilledUnits(input_tokens=9.0, output_tokens=None, search_units=None, classifications=None), tokens=None, warnings=[]) response_type='embeddings_by_type'\n"
     ]
    }
   ],
   "source": [
    "print(response)"
   ]
  },
  {
   "cell_type": "code",
   "execution_count": 219,
   "metadata": {},
   "outputs": [],
   "source": [
    "ranked_response = co.rerank(\n",
    "    query=query,\n",
    "    documents=top_chunks_after_retrieval,\n",
    "    top_n=10,\n",
    "    model=\"rerank-english-v2.0\",\n",
    "    return_documents=True\n",
    ")"
   ]
  },
  {
   "cell_type": "code",
   "execution_count": 220,
   "metadata": {},
   "outputs": [
    {
     "name": "stdout",
     "output_type": "stream",
     "text": [
      "[RerankResponseResultsItem(document=RerankResponseResultsItemDocument(text='The product with Pearl Roadshow 5-Piece Drum Set description has resulted in 42000 euros in revenue this week.\\nThe product with Conn 52BSP CONNstellation Series Bb Trumpet description has resulted in 42000 euros in revenue this week.'), index=87, relevance_score=0.24653335), RerankResponseResultsItem(document=RerankResponseResultsItemDocument(text='The product with PDP by DW 7-Piece Concept Maple Shell Pack description has resulted in 57000 euros in revenue this week.\\nThe product with Universal Audio Apollo Twin X description has resulted in 55800 euros in revenue this week.'), index=68, relevance_score=0.23405632), RerankResponseResultsItem(document=RerankResponseResultsItemDocument(text=\"The product with D'Addario Helicore Double Bass Strings description has resulted in 10600 euros in revenue this week.\\nThe product with Bunnel Pupil Violin description has resulted in 10600 euros in revenue this week.\"), index=93, relevance_score=0.22746934), RerankResponseResultsItem(document=RerankResponseResultsItemDocument(text='The product with Sonor SQ1 3-Piece Shell Pack description has resulted in 173600 euros in revenue this week.\\nThe product with Behringer X32 Digital Mixer description has resulted in 158400 euros in revenue this week.'), index=28, relevance_score=0.2221934), RerankResponseResultsItem(document=RerankResponseResultsItemDocument(text='The product with EarthQuaker Devices Avalanche Run description has resulted in 19500 euros in revenue this week.\\nThe product with Line 6 DL4 Delay Modeler description has resulted in 19250 euros in revenue this week.'), index=4, relevance_score=0.22135068), RerankResponseResultsItem(document=RerankResponseResultsItemDocument(text='The product with Jean Paul USA AS-400 Student Alto description has resulted in 28500 euros in revenue this week.\\nThe product with Electro-Voice ELX200-10P Powered Speaker description has resulted in 28400 euros in revenue this week.'), index=38, relevance_score=0.21950476), RerankResponseResultsItem(document=RerankResponseResultsItemDocument(text='The product with Seagull S6 Original Acoustic Guitar description has resulted in 16650 euros in revenue this week.\\nThe product with Logic Pro X description has resulted in 16600 euros in revenue this week.'), index=36, relevance_score=0.21833587), RerankResponseResultsItem(document=RerankResponseResultsItemDocument(text='The product with IK Multimedia iRig Keys 37 Pro description has resulted in 7200 euros in revenue this week.\\nThe product with Cecilio CVN-300 Ebony Fitted Violin description has resulted in 7150 euros in revenue this week.'), index=70, relevance_score=0.21518578), RerankResponseResultsItem(document=RerankResponseResultsItemDocument(text=\"The product with D'Addario Prelude Violin String Set description has resulted in 3760 euros in revenue this week.\\nThe product with Pearl D50 Drum Throne description has resulted in 3660 euros in revenue this week.\"), index=97, relevance_score=0.21337718), RerankResponseResultsItem(document=RerankResponseResultsItemDocument(text='The product with Native Instruments Komplete Audio 6 description has resulted in 17750 euros in revenue this week.\\nThe product with Sonor AQ2 Safari 4-Piece Drum Set description has resulted in 17500 euros in revenue this week.'), index=62, relevance_score=0.21027939)]\n"
     ]
    }
   ],
   "source": [
    "print(ranked_response.results)"
   ]
  },
  {
   "cell_type": "code",
   "execution_count": 221,
   "metadata": {},
   "outputs": [
    {
     "name": "stdout",
     "output_type": "stream",
     "text": [
      "Here are the top 3 chunks after rerank: \n",
      "== The product with Pearl Roadshow 5-Piece Drum Set description has resulted in 42000 euros in revenue this week.\n",
      "The product with Conn 52BSP CONNstellation Series Bb Trumpet description has resulted in 42000 euros in revenue this week.\n",
      "== The product with PDP by DW 7-Piece Concept Maple Shell Pack description has resulted in 57000 euros in revenue this week.\n",
      "The product with Universal Audio Apollo Twin X description has resulted in 55800 euros in revenue this week.\n",
      "== The product with D'Addario Helicore Double Bass Strings description has resulted in 10600 euros in revenue this week.\n",
      "The product with Bunnel Pupil Violin description has resulted in 10600 euros in revenue this week.\n",
      "== The product with Sonor SQ1 3-Piece Shell Pack description has resulted in 173600 euros in revenue this week.\n",
      "The product with Behringer X32 Digital Mixer description has resulted in 158400 euros in revenue this week.\n",
      "== The product with EarthQuaker Devices Avalanche Run description has resulted in 19500 euros in revenue this week.\n",
      "The product with Line 6 DL4 Delay Modeler description has resulted in 19250 euros in revenue this week.\n",
      "== The product with Jean Paul USA AS-400 Student Alto description has resulted in 28500 euros in revenue this week.\n",
      "The product with Electro-Voice ELX200-10P Powered Speaker description has resulted in 28400 euros in revenue this week.\n",
      "== The product with Seagull S6 Original Acoustic Guitar description has resulted in 16650 euros in revenue this week.\n",
      "The product with Logic Pro X description has resulted in 16600 euros in revenue this week.\n",
      "== The product with IK Multimedia iRig Keys 37 Pro description has resulted in 7200 euros in revenue this week.\n",
      "The product with Cecilio CVN-300 Ebony Fitted Violin description has resulted in 7150 euros in revenue this week.\n",
      "== The product with D'Addario Prelude Violin String Set description has resulted in 3760 euros in revenue this week.\n",
      "The product with Pearl D50 Drum Throne description has resulted in 3660 euros in revenue this week.\n",
      "== The product with Native Instruments Komplete Audio 6 description has resulted in 17750 euros in revenue this week.\n",
      "The product with Sonor AQ2 Safari 4-Piece Drum Set description has resulted in 17500 euros in revenue this week.\n"
     ]
    }
   ],
   "source": [
    "top_chunks_after_rerank = [result.document.text for result in ranked_response.results]\n",
    "print(\"Here are the top 3 chunks after rerank: \")\n",
    "for t in top_chunks_after_rerank:\n",
    "    print(\"== \" + t)"
   ]
  },
  {
   "cell_type": "code",
   "execution_count": 222,
   "metadata": {},
   "outputs": [],
   "source": [
    "# retrieved documents\n",
    "documents = [{\"title\": \"chunk \"+str(i), \"snippet\": top_chunks_after_rerank[i]} for i in range(0, len(top_chunks_after_rerank))]\n",
    "# documents = [\n",
    "#     {\"title\": \"chunk 0\", \"snippet\": top_chunks_after_rerank[0]},\n",
    "#     {\"title\": \"chunk 1\", \"snippet\": top_chunks_after_rerank[1]},\n",
    "#     {\"title\": \"chunk 2\", \"snippet\": top_chunks_after_rerank[2]},\n",
    "#     {\"title\": \"chunk 3\", \"snippet\": top_chunks_after_rerank[3]},\n",
    "#     {\"title\": \"chunk 4\", \"snippet\": top_chunks_after_rerank[4]},\n",
    "#   ]"
   ]
  },
  {
   "cell_type": "code",
   "execution_count": 223,
   "metadata": {},
   "outputs": [],
   "source": [
    "preamble = \"\"\"\n",
    "##Task & Context: You are an AI assistant integrated with the company's Enterprise Resource Planning (ERP) system containing data from the last week only.\n",
    "Your role is to help employees access and understand data from the ERP system through natural language interactions.\n",
    "Employees will ask you questions or make requests related to various business operations like inventory, sales, accounting, manufacturing, etc. \n",
    "Your task is to query the relevant data from the ERP databases, analyze and synthesize it as needed, and provide helpful responses to the employees.\n",
    "\n",
    "##Style Guide:\n",
    "Use clear, professional language tailored for a workplace context.\n",
    "Respond succinctly when possible, but provide detailed explanations when the query requires it.\n",
    "Maintain objectivity and avoid injecting personal opinions unless explicitly asked.\n",
    "Speak in the first-person from the perspective of an AI assistant (e.g. \"I retrieved the latest inventory data from the system.\")\n",
    "Use proper formatting like bulleted lists, tables, and code snippets where appropriate to make responses easier to parse.\n",
    "Do not include unrequested data, but do provide relevant additional context if it can enhance the usefulness of your response.\n",
    "Be polite and constructive. If you cannot fulfill a request, explain why in a respectful manner.\n",
    "\"\"\""
   ]
  },
  {
   "cell_type": "code",
   "execution_count": 224,
   "metadata": {},
   "outputs": [
    {
     "name": "stdout",
     "output_type": "stream",
     "text": [
      "Final answer:\n",
      "\n",
      "I retrieved the latest revenue data from the system. \n",
      "\n",
      "Here are the products sold and the revenue for each, sorted in descending order:\n",
      "\n",
      "| Product Name | Revenue |\n",
      "|---|---|\n",
      "| Sonor SQ1 3-Piece Shell Pack | 173600 euros |\n",
      "| Behringer X32 Digital Mixer | 158400 euros |\n",
      "| Universal Audio Apollo Twin X | 55800 euros |\n",
      "| PDP by DW 7-Piece Concept Maple Shell Pack | 57000 euros |\n",
      "| Electro-Voice ELX200-10P Powered Speaker | 28400 euros |\n",
      "| Jean Paul USA AS-400 Student Alto | 28500 euros |\n",
      "| Native Instruments Komplete Audio 6 | 17750 euros |\n",
      "| Sonor AQ2 Safari 4-Piece Drum Set | 17500 euros |\n",
      "| IK Multimedia iRig Keys 37 Pro | 7200 euros |\n",
      "| Cecilio CVN-300 Ebony Fitted Violin | 7150 euros |\n",
      "| Pearl D50 Drum Throne | 3660 euros |\n",
      "| D'Addario Prelude Violin String Set | 3760 euros | \n",
      "\n",
      "The total sum of revenue from all products sold this week is **518400 euros**.\n"
     ]
    }
   ],
   "source": [
    "from cohere import ChatMessage\n",
    "chat = co.chat(\n",
    "    message=\"Find the revenue for each product sold and calculate the sum.\", \n",
    "    model=\"command\",\n",
    "    chat_history=[\n",
    "        ChatMessage(\n",
    "            role=\"CHATBOT\", message=\"Hi!\",\n",
    "        ), ChatMessage(\n",
    "            role=\"CHATBOT\", message=\"How can I help you today?\",\n",
    "        ),\n",
    "    ],\n",
    "    preamble=preamble,\n",
    "    prompt_truncation=\"AUTO\",\n",
    "    temperature=0.2,\n",
    "    documents=documents\n",
    ")\n",
    "\n",
    "print(\"Final answer:\\n\")\n",
    "print(chat.text)\n",
    "# AND WE SHOULD RETURN THE ANSWER TO THE WEB APP"
   ]
  }
 ],
 "metadata": {
  "kernelspec": {
   "display_name": ".venv",
   "language": "python",
   "name": "python3"
  },
  "language_info": {
   "codemirror_mode": {
    "name": "ipython",
    "version": 3
   },
   "file_extension": ".py",
   "mimetype": "text/x-python",
   "name": "python",
   "nbconvert_exporter": "python",
   "pygments_lexer": "ipython3",
   "version": "3.12.0"
  }
 },
 "nbformat": 4,
 "nbformat_minor": 2
}
