{
 "cells": [
  {
   "cell_type": "code",
   "execution_count": 1,
   "metadata": {},
   "outputs": [
    {
     "data": {
      "text/plain": [
       "['../api_key.ini']"
      ]
     },
     "execution_count": 1,
     "metadata": {},
     "output_type": "execute_result"
    }
   ],
   "source": [
    "import configparser\n",
    "config = configparser.RawConfigParser()\n",
    "config.read(\"../api_key.ini\")"
   ]
  },
  {
   "cell_type": "code",
   "execution_count": 2,
   "metadata": {},
   "outputs": [
    {
     "name": "stdout",
     "output_type": "stream",
     "text": [
      "['API_KEY']\n"
     ]
    }
   ],
   "source": [
    "print(config.sections())"
   ]
  },
  {
   "cell_type": "code",
   "execution_count": 3,
   "metadata": {},
   "outputs": [],
   "source": [
    "import cohere\n",
    "API_KEY = config[config.sections()[0]]['api_key']\n",
    "co = cohere.Client(API_KEY)"
   ]
  },
  {
   "cell_type": "code",
   "execution_count": 6,
   "metadata": {},
   "outputs": [],
   "source": [
    "import langchain\n",
    "from langchain_text_splitters import RecursiveCharacterTextSplitter"
   ]
  },
  {
   "cell_type": "code",
   "execution_count": 5,
   "metadata": {},
   "outputs": [
    {
     "name": "stdout",
     "output_type": "stream",
     "text": [
      "text=\"Hi there! I'm Coral, an AI-assistant chatbot trained to assist human users by providing helpful responses. How can I help you today?\\nI'm excited to talk with you and help however I can!\" generation_id='0c84eefc-1e2b-4b72-bdc2-94d05276cef1' citations=None documents=None is_search_required=None search_queries=None search_results=None finish_reason='COMPLETE' tool_calls=None chat_history=[ChatMessage(role='USER', message='hello world!'), ChatMessage(role='CHATBOT', message=\"Hi there! I'm Coral, an AI-assistant chatbot trained to assist human users by providing helpful responses. How can I help you today?\\nI'm excited to talk with you and help however I can!\")] meta=ApiMeta(api_version=ApiMetaApiVersion(version='1', is_deprecated=None, is_experimental=None), billed_units=ApiMetaBilledUnits(input_tokens=54, output_tokens=43, search_units=None, classifications=None), tokens=ApiMetaTokens(input_tokens=65, output_tokens=43), warnings=None) response_id='816e76b8-559d-4286-9172-25b6b8f75b8f'\n"
     ]
    }
   ],
   "source": [
    "chat = co.chat(\n",
    "    message=\"hello world!\",\n",
    "    model=\"command\"\n",
    ")\n",
    "\n",
    "print(chat)"
   ]
  }
 ],
 "metadata": {
  "kernelspec": {
   "display_name": ".venv",
   "language": "python",
   "name": "python3"
  },
  "language_info": {
   "codemirror_mode": {
    "name": "ipython",
    "version": 3
   },
   "file_extension": ".py",
   "mimetype": "text/x-python",
   "name": "python",
   "nbconvert_exporter": "python",
   "pygments_lexer": "ipython3",
   "version": "3.12.0"
  }
 },
 "nbformat": 4,
 "nbformat_minor": 2
}
